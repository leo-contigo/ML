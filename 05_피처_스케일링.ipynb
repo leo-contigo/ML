{
  "cells": [
    {
      "cell_type": "markdown",
      "metadata": {
        "id": "view-in-github",
        "colab_type": "text"
      },
      "source": [
        "<a href=\"https://colab.research.google.com/github/leo-contigo/ML/blob/main/05_%ED%94%BC%EC%B2%98_%EC%8A%A4%EC%BC%80%EC%9D%BC%EB%A7%81.ipynb\" target=\"_parent\"><img src=\"https://colab.research.google.com/assets/colab-badge.svg\" alt=\"Open In Colab\"/></a>"
      ]
    },
    {
      "cell_type": "code",
      "execution_count": null,
      "id": "8713787c",
      "metadata": {
        "id": "8713787c"
      },
      "outputs": [],
      "source": [
        "import warnings\n",
        "warnings.filterwarnings('ignore')\n",
        "warnings.simplefilter('ignore')\n",
        "\n",
        "from IPython.display import set_matplotlib_formats\n",
        "set_matplotlib_formats(\"retina\")\n",
        "\n",
        "\n",
        "import numpy as np\n",
        "import pandas as pd\n",
        "import os\n",
        "\n",
        "import matplotlib\n",
        "import matplotlib.pyplot as plt\n",
        "import seaborn as sns\n",
        "\n",
        "\n",
        "# 관련 라이브러리 임포트 \n",
        "import matplotlib.font_manager as fm\n",
        "\n",
        "#  한글글꼴로 변경\n",
        "# plt.rcParams['font.family'] = '한글글꼴명'\n",
        "plt.rcParams['font.size'] = 11.0\n",
        "# plt.rcParams['font.family'] = 'batang'\n",
        "plt.rcParams['font.family'] = 'Malgun Gothic'\n",
        "\n",
        "# 그래프에서 마이너스 폰트 깨지는 문제에 대한 대처\n",
        "matplotlib.rcParams['axes.unicode_minus'] = False\n",
        "\n",
        "# 그래프 기본 크기 설정 \n",
        "plt.rcParams['figure.figsize'] = [10, 6]"
      ]
    },
    {
      "cell_type": "markdown",
      "id": "0318d0f8",
      "metadata": {
        "id": "0318d0f8"
      },
      "source": [
        "#### ML_07_수업자료.html"
      ]
    },
    {
      "cell_type": "markdown",
      "id": "223f9926",
      "metadata": {
        "id": "223f9926"
      },
      "source": [
        "# 피처 스케일링\n",
        "\n",
        "- 평균\n",
        "- 분산\n",
        "- 표준편차\n",
        "- 표준 점수 = Z-Score\n",
        "- 표준화\n",
        "- 정규화\n",
        "\n",
        "- 두 특성(길이와 무게)의 값이 놓인 범위가 다르다. => 스케일(Scale)이 다르다\n",
        "- 방의 넓이를 재는데 한사람은 cm, 다른사람은 incn로 재는것과 같다.\n",
        "\n",
        "# 표준화와 정규화\n",
        "\n",
        ">- 표준화는???  데이타의 피처 각각이 평균이 0이고 분산이 1인 가우시안 정규 분포를 가진 값으로 변환\n",
        ">- 정규화란???  서로 다른 피처의 크기를 통일하기 위해 크기를 변환해주는 개념"
      ]
    },
    {
      "cell_type": "markdown",
      "id": "075111a9",
      "metadata": {
        "id": "075111a9"
      },
      "source": [
        "--------------------------------------------------"
      ]
    },
    {
      "cell_type": "code",
      "execution_count": null,
      "id": "b84b86bc",
      "metadata": {
        "id": "b84b86bc",
        "outputId": "ef0fad9a-6f51-466f-e6a1-a89bd59ec5f5"
      },
      "outputs": [
        {
          "data": {
            "text/plain": [
              "[10.5, 10.6, 11.0, 11.2, 11.3, 11.8, 11.8, 12.0, 12.2, 12.4, 13.0, 14.3, 15.0]"
            ]
          },
          "execution_count": 10,
          "metadata": {},
          "output_type": "execute_result"
        }
      ],
      "source": [
        "fish_data = [10.5, 10.6, 11.0, 11.2, 11.3, 11.8, 11.8, 12.0, 12.2, 12.4, 13.0, 14.3, 15.0]\n",
        "fish_data"
      ]
    },
    {
      "cell_type": "markdown",
      "id": "1109b2a1",
      "metadata": {
        "id": "1109b2a1"
      },
      "source": [
        "### 넘파이 방식으로 통계치"
      ]
    },
    {
      "cell_type": "markdown",
      "id": "e62c3026",
      "metadata": {
        "id": "e62c3026"
      },
      "source": [
        "## 평균"
      ]
    },
    {
      "cell_type": "code",
      "execution_count": null,
      "id": "782ea238",
      "metadata": {
        "id": "782ea238",
        "outputId": "f2eb6fa9-39d8-4ae2-fdce-0b410e59863f"
      },
      "outputs": [
        {
          "data": {
            "text/plain": [
              "(12.084615384615384, 12.084615384615386)"
            ]
          },
          "execution_count": 8,
          "metadata": {},
          "output_type": "execute_result"
        }
      ],
      "source": [
        "# 평균\n",
        "\n",
        "sum(fish_data)/len(fish_data), np.mean(fish_data)"
      ]
    },
    {
      "cell_type": "markdown",
      "id": "c752933b",
      "metadata": {
        "id": "c752933b"
      },
      "source": [
        "## 분산 - 평균으로부터 얼마만큼 떨어져 있는가?\n",
        ">### np. var()"
      ]
    },
    {
      "cell_type": "code",
      "execution_count": null,
      "id": "1479d024",
      "metadata": {
        "id": "1479d024",
        "outputId": "19ad42fc-bac3-46d0-a198-7b209cf92d14"
      },
      "outputs": [
        {
          "data": {
            "text/plain": [
              "1.6782248520710064"
            ]
          },
          "execution_count": 3,
          "metadata": {},
          "output_type": "execute_result"
        }
      ],
      "source": [
        "# 분산 = 편차 ** 2 / 데이터 수\n",
        "# 편차 = 데이터 - 평균\n",
        "\n",
        "# (데이터 - 평균) ** 2  / 데이터 수 \n",
        "\n",
        "np.var(fish_data)"
      ]
    },
    {
      "cell_type": "code",
      "execution_count": null,
      "id": "6ff4833c",
      "metadata": {
        "id": "6ff4833c",
        "outputId": "c99f9f00-f035-4622-e8ea-cc5d5fcffa40"
      },
      "outputs": [
        {
          "data": {
            "text/plain": [
              "1.6782248520710061"
            ]
          },
          "execution_count": 4,
          "metadata": {},
          "output_type": "execute_result"
        }
      ],
      "source": [
        "temp = 0 \n",
        "avg = np.mean(fish_data)\n",
        "\n",
        "for item in fish_data:\n",
        "     temp += (item - avg)**2\n",
        "temp / len(fish_data)"
      ]
    },
    {
      "cell_type": "code",
      "execution_count": null,
      "id": "fafc050f",
      "metadata": {
        "id": "fafc050f"
      },
      "outputs": [],
      "source": [
        "# + 연산자 : 대칭 a+b , b+a 항상같은 결과\n",
        "# += 연산자 : 비대칭 왼쪽타입 변수에 의해 결정 a += b a를 유지"
      ]
    },
    {
      "cell_type": "markdown",
      "id": "24b35fc2",
      "metadata": {
        "id": "24b35fc2"
      },
      "source": [
        "## 표준편차 - 분산의 루트 √\n",
        "\n",
        ">### np.sqrt(분산)"
      ]
    },
    {
      "cell_type": "code",
      "execution_count": null,
      "id": "92c494c1",
      "metadata": {
        "id": "92c494c1",
        "outputId": "fe4119a6-57db-483c-fc3b-7f6e8155c088"
      },
      "outputs": [
        {
          "data": {
            "text/plain": [
              "1.2954631805153731"
            ]
          },
          "execution_count": 6,
          "metadata": {},
          "output_type": "execute_result"
        }
      ],
      "source": [
        "np.sqrt(np.var(fish_data))"
      ]
    },
    {
      "cell_type": "markdown",
      "id": "34c78dfa",
      "metadata": {
        "id": "34c78dfa"
      },
      "source": [
        "### 데이터프레임 방식 통계치"
      ]
    },
    {
      "cell_type": "code",
      "execution_count": null,
      "id": "417dab4f",
      "metadata": {
        "id": "417dab4f",
        "outputId": "4170daa7-abb6-4683-acb3-6c00ee900f18"
      },
      "outputs": [
        {
          "data": {
            "text/html": [
              "<div>\n",
              "<style scoped>\n",
              "    .dataframe tbody tr th:only-of-type {\n",
              "        vertical-align: middle;\n",
              "    }\n",
              "\n",
              "    .dataframe tbody tr th {\n",
              "        vertical-align: top;\n",
              "    }\n",
              "\n",
              "    .dataframe thead th {\n",
              "        text-align: right;\n",
              "    }\n",
              "</style>\n",
              "<table border=\"1\" class=\"dataframe\">\n",
              "  <thead>\n",
              "    <tr style=\"text-align: right;\">\n",
              "      <th></th>\n",
              "      <th>0</th>\n",
              "    </tr>\n",
              "  </thead>\n",
              "  <tbody>\n",
              "    <tr>\n",
              "      <th>0</th>\n",
              "      <td>10.5</td>\n",
              "    </tr>\n",
              "    <tr>\n",
              "      <th>1</th>\n",
              "      <td>10.6</td>\n",
              "    </tr>\n",
              "    <tr>\n",
              "      <th>2</th>\n",
              "      <td>11.0</td>\n",
              "    </tr>\n",
              "    <tr>\n",
              "      <th>3</th>\n",
              "      <td>11.2</td>\n",
              "    </tr>\n",
              "    <tr>\n",
              "      <th>4</th>\n",
              "      <td>11.3</td>\n",
              "    </tr>\n",
              "    <tr>\n",
              "      <th>5</th>\n",
              "      <td>11.8</td>\n",
              "    </tr>\n",
              "    <tr>\n",
              "      <th>6</th>\n",
              "      <td>11.8</td>\n",
              "    </tr>\n",
              "    <tr>\n",
              "      <th>7</th>\n",
              "      <td>12.0</td>\n",
              "    </tr>\n",
              "    <tr>\n",
              "      <th>8</th>\n",
              "      <td>12.2</td>\n",
              "    </tr>\n",
              "    <tr>\n",
              "      <th>9</th>\n",
              "      <td>12.4</td>\n",
              "    </tr>\n",
              "    <tr>\n",
              "      <th>10</th>\n",
              "      <td>13.0</td>\n",
              "    </tr>\n",
              "    <tr>\n",
              "      <th>11</th>\n",
              "      <td>14.3</td>\n",
              "    </tr>\n",
              "    <tr>\n",
              "      <th>12</th>\n",
              "      <td>15.0</td>\n",
              "    </tr>\n",
              "  </tbody>\n",
              "</table>\n",
              "</div>"
            ],
            "text/plain": [
              "       0\n",
              "0   10.5\n",
              "1   10.6\n",
              "2   11.0\n",
              "3   11.2\n",
              "4   11.3\n",
              "5   11.8\n",
              "6   11.8\n",
              "7   12.0\n",
              "8   12.2\n",
              "9   12.4\n",
              "10  13.0\n",
              "11  14.3\n",
              "12  15.0"
            ]
          },
          "execution_count": 9,
          "metadata": {},
          "output_type": "execute_result"
        }
      ],
      "source": [
        "# 데이타프레임에서의 통계치 \n",
        "\n",
        "df_fish = pd.DataFrame(fish_data)\n",
        "df_fish"
      ]
    },
    {
      "cell_type": "code",
      "execution_count": null,
      "id": "8961b9cc",
      "metadata": {
        "id": "8961b9cc",
        "outputId": "ec4ac111-8d4b-4008-9a2e-9e5a6dfe861e"
      },
      "outputs": [
        {
          "data": {
            "text/html": [
              "<div>\n",
              "<style scoped>\n",
              "    .dataframe tbody tr th:only-of-type {\n",
              "        vertical-align: middle;\n",
              "    }\n",
              "\n",
              "    .dataframe tbody tr th {\n",
              "        vertical-align: top;\n",
              "    }\n",
              "\n",
              "    .dataframe thead th {\n",
              "        text-align: right;\n",
              "    }\n",
              "</style>\n",
              "<table border=\"1\" class=\"dataframe\">\n",
              "  <thead>\n",
              "    <tr style=\"text-align: right;\">\n",
              "      <th></th>\n",
              "      <th>0</th>\n",
              "    </tr>\n",
              "  </thead>\n",
              "  <tbody>\n",
              "    <tr>\n",
              "      <th>count</th>\n",
              "      <td>13.000000</td>\n",
              "    </tr>\n",
              "    <tr>\n",
              "      <th>mean</th>\n",
              "      <td>12.084615</td>\n",
              "    </tr>\n",
              "    <tr>\n",
              "      <th>std</th>\n",
              "      <td>1.348361</td>\n",
              "    </tr>\n",
              "    <tr>\n",
              "      <th>min</th>\n",
              "      <td>10.500000</td>\n",
              "    </tr>\n",
              "    <tr>\n",
              "      <th>25%</th>\n",
              "      <td>11.200000</td>\n",
              "    </tr>\n",
              "    <tr>\n",
              "      <th>50%</th>\n",
              "      <td>11.800000</td>\n",
              "    </tr>\n",
              "    <tr>\n",
              "      <th>75%</th>\n",
              "      <td>12.400000</td>\n",
              "    </tr>\n",
              "    <tr>\n",
              "      <th>max</th>\n",
              "      <td>15.000000</td>\n",
              "    </tr>\n",
              "  </tbody>\n",
              "</table>\n",
              "</div>"
            ],
            "text/plain": [
              "               0\n",
              "count  13.000000\n",
              "mean   12.084615\n",
              "std     1.348361\n",
              "min    10.500000\n",
              "25%    11.200000\n",
              "50%    11.800000\n",
              "75%    12.400000\n",
              "max    15.000000"
            ]
          },
          "execution_count": 11,
          "metadata": {},
          "output_type": "execute_result"
        }
      ],
      "source": [
        "# 통계량\n",
        "\n",
        "df_fish.describe()"
      ]
    },
    {
      "cell_type": "markdown",
      "id": "73f53335",
      "metadata": {
        "id": "73f53335"
      },
      "source": [
        "--------------------------------------------------"
      ]
    },
    {
      "cell_type": "markdown",
      "id": "0b909fb7",
      "metadata": {
        "id": "0b909fb7"
      },
      "source": [
        "### 넘파이 방식"
      ]
    },
    {
      "cell_type": "markdown",
      "id": "80234878",
      "metadata": {
        "id": "80234878"
      },
      "source": [
        "## 표준점수 = zscore\n",
        "\n",
        ">### - (데이터 - 평균 ) / 표준편차\n",
        ">### - 0에서 표준편차의 몇배만큼 떨어져있는가???"
      ]
    },
    {
      "cell_type": "code",
      "execution_count": null,
      "id": "94f45822",
      "metadata": {
        "id": "94f45822",
        "outputId": "c916a97a-e24e-41f9-8193-976f42a98708"
      },
      "outputs": [
        {
          "name": "stdout",
          "output_type": "stream",
          "text": [
            "평균 : 12.084615384615386\n",
            "표준편차 : 1.2954631805153731\n",
            "표준점수 : [-1.22320372 -1.14601125 -0.83724138 -0.68285645 -0.60566398 -0.21970164\n",
            " -0.21970164 -0.0653167   0.08906823  0.24345317  0.70660798  1.71011006\n",
            "  2.25045733]\n"
          ]
        }
      ],
      "source": [
        "fish_data = [10.5, 10.6, 11.0, 11.2, 11.3, 11.8, 11.8, 12.0, 12.2, 12.4, 13.0, 14.3, 15.0]\n",
        "\n",
        "# 리스트에서 넘파이로 변경\n",
        "fish_arr = np.array(fish_data)\n",
        "\n",
        "# 평균 avg\n",
        "avg = np.mean(fish_data)\n",
        "print(f'평균 : {avg}')\n",
        "\n",
        "# 표준편차 std\n",
        "std = np.sqrt(np.var(fish_data))\n",
        "print(f'표준편차 : {std}')\n",
        "\n",
        "#표준점수\n",
        "# (fish_arr - avg) / std\n",
        "print(f'표준점수 : {(fish_arr - avg) / std}')"
      ]
    },
    {
      "cell_type": "code",
      "execution_count": null,
      "id": "cacc3577",
      "metadata": {
        "id": "cacc3577",
        "outputId": "119a01a5-bb42-45d3-d0ff-b7cb14167d0c"
      },
      "outputs": [
        {
          "data": {
            "text/plain": [
              "array([-3.53897776, -3.9249401 , -1.84074347, -1.763551  , -2.61266814,\n",
              "       -1.60916606, -1.68635853, -1.763551  ,  0.08906823,  1.01537785,\n",
              "        0.08906823,  5.87850333,  6.03288826])"
            ]
          },
          "execution_count": 20,
          "metadata": {},
          "output_type": "execute_result"
        }
      ],
      "source": [
        "fish_weight = [7.5, 7.0, 9.7, 9.8, 8.7, 10.0, 9.9, 9.8, 12.2, 13.4, 12.2, 19.7, 19.9]\n",
        "\n",
        "# 리스트에서 넘파이로 변경\n",
        "fish_arr2 = np.array(fish_weight)\n",
        "\n",
        "# 평균\n",
        "avg2 = np.mean(fish_weight)\n",
        "\n",
        "# 표준편차\n",
        "std2 = np.sqrt(np.var(fish_weight))\n",
        "\n",
        "# 표준점수\n",
        "(fish_arr2-avg)/std"
      ]
    },
    {
      "cell_type": "markdown",
      "id": "d5392202",
      "metadata": {
        "id": "d5392202"
      },
      "source": [
        "--------------------------------------------------"
      ]
    },
    {
      "cell_type": "markdown",
      "id": "77c4413b",
      "metadata": {
        "id": "77c4413b"
      },
      "source": [
        "--------------------------------------------------"
      ]
    },
    {
      "cell_type": "markdown",
      "id": "65f53245",
      "metadata": {
        "id": "65f53245"
      },
      "source": [
        "# 빙어 + 도미 생선 분류 테스트\n",
        "\n",
        ">### - 데이타수집 : http://bit.ly/bream_smelt"
      ]
    },
    {
      "cell_type": "code",
      "execution_count": null,
      "id": "8a7ded9e",
      "metadata": {
        "id": "8a7ded9e"
      },
      "outputs": [],
      "source": [
        "# 1) 데이터 준비 \n",
        "# 35개는 도미 + 14개는 빙어 \n",
        "\n",
        "# 도미+빙어의 길이 \n",
        "\n",
        "fish_length = [25.4, 26.3, 26.5, 29.0, 29.0, 29.7, 29.7, 30.0, 30.0, 30.7, 31.0, 31.0, \n",
        "                31.5, 32.0, 32.0, 32.0, 33.0, 33.0, 33.5, 33.5, 34.0, 34.0, 34.5, 35.0, \n",
        "                35.0, 35.0, 35.0, 36.0, 36.0, 37.0, 38.5, 38.5, 39.5, 41.0, 41.0, 9.8, \n",
        "                10.5, 10.6, 11.0, 11.2, 11.3, 11.8, 11.8, 12.0, 12.2, 12.4, 13.0, 14.3, 15.0]\n",
        "\n",
        "# 도미+빙어의 무게 \n",
        "\n",
        "fish_weight = [242.0, 290.0, 340.0, 363.0, 430.0, 450.0, 500.0, 390.0, 450.0, 500.0, 475.0, 500.0, \n",
        "                500.0, 340.0, 600.0, 600.0, 700.0, 700.0, 610.0, 650.0, 575.0, 685.0, 620.0, 680.0, \n",
        "                700.0, 725.0, 720.0, 714.0, 850.0, 1000.0, 920.0, 955.0, 925.0, 975.0, 950.0, 6.7, \n",
        "                7.5, 7.0, 9.7, 9.8, 8.7, 10.0, 9.9, 9.8, 12.2, 13.4, 12.2, 19.7, 19.9]\n",
        "\n",
        "\n",
        "\n",
        "# 라벨 데이타 생성 = y\n",
        "# 35개는 도미 → 1 \n",
        "# 10개는 빙어 → 0\n",
        "\n",
        "fish_target = np.concatenate((np.ones(35), np.zeros(14)))"
      ]
    },
    {
      "cell_type": "code",
      "execution_count": null,
      "id": "8e60987d",
      "metadata": {
        "id": "8e60987d",
        "outputId": "3d7c5147-34c4-41dd-bb63-2112ef18fdcc"
      },
      "outputs": [
        {
          "data": {
            "text/html": [
              "<div>\n",
              "<style scoped>\n",
              "    .dataframe tbody tr th:only-of-type {\n",
              "        vertical-align: middle;\n",
              "    }\n",
              "\n",
              "    .dataframe tbody tr th {\n",
              "        vertical-align: top;\n",
              "    }\n",
              "\n",
              "    .dataframe thead th {\n",
              "        text-align: right;\n",
              "    }\n",
              "</style>\n",
              "<table border=\"1\" class=\"dataframe\">\n",
              "  <thead>\n",
              "    <tr style=\"text-align: right;\">\n",
              "      <th></th>\n",
              "      <th>0</th>\n",
              "      <th>1</th>\n",
              "      <th>2</th>\n",
              "      <th>3</th>\n",
              "      <th>4</th>\n",
              "      <th>5</th>\n",
              "      <th>6</th>\n",
              "      <th>7</th>\n",
              "      <th>8</th>\n",
              "      <th>9</th>\n",
              "      <th>...</th>\n",
              "      <th>39</th>\n",
              "      <th>40</th>\n",
              "      <th>41</th>\n",
              "      <th>42</th>\n",
              "      <th>43</th>\n",
              "      <th>44</th>\n",
              "      <th>45</th>\n",
              "      <th>46</th>\n",
              "      <th>47</th>\n",
              "      <th>48</th>\n",
              "    </tr>\n",
              "  </thead>\n",
              "  <tbody>\n",
              "    <tr>\n",
              "      <th>0</th>\n",
              "      <td>25.4</td>\n",
              "      <td>26.3</td>\n",
              "      <td>26.5</td>\n",
              "      <td>29.0</td>\n",
              "      <td>29.0</td>\n",
              "      <td>29.7</td>\n",
              "      <td>29.7</td>\n",
              "      <td>30.0</td>\n",
              "      <td>30.0</td>\n",
              "      <td>30.7</td>\n",
              "      <td>...</td>\n",
              "      <td>11.2</td>\n",
              "      <td>11.3</td>\n",
              "      <td>11.8</td>\n",
              "      <td>11.8</td>\n",
              "      <td>12.0</td>\n",
              "      <td>12.2</td>\n",
              "      <td>12.4</td>\n",
              "      <td>13.0</td>\n",
              "      <td>14.3</td>\n",
              "      <td>15.0</td>\n",
              "    </tr>\n",
              "    <tr>\n",
              "      <th>1</th>\n",
              "      <td>242.0</td>\n",
              "      <td>290.0</td>\n",
              "      <td>340.0</td>\n",
              "      <td>363.0</td>\n",
              "      <td>430.0</td>\n",
              "      <td>450.0</td>\n",
              "      <td>500.0</td>\n",
              "      <td>390.0</td>\n",
              "      <td>450.0</td>\n",
              "      <td>500.0</td>\n",
              "      <td>...</td>\n",
              "      <td>9.8</td>\n",
              "      <td>8.7</td>\n",
              "      <td>10.0</td>\n",
              "      <td>9.9</td>\n",
              "      <td>9.8</td>\n",
              "      <td>12.2</td>\n",
              "      <td>13.4</td>\n",
              "      <td>12.2</td>\n",
              "      <td>19.7</td>\n",
              "      <td>19.9</td>\n",
              "    </tr>\n",
              "    <tr>\n",
              "      <th>2</th>\n",
              "      <td>1.0</td>\n",
              "      <td>1.0</td>\n",
              "      <td>1.0</td>\n",
              "      <td>1.0</td>\n",
              "      <td>1.0</td>\n",
              "      <td>1.0</td>\n",
              "      <td>1.0</td>\n",
              "      <td>1.0</td>\n",
              "      <td>1.0</td>\n",
              "      <td>1.0</td>\n",
              "      <td>...</td>\n",
              "      <td>0.0</td>\n",
              "      <td>0.0</td>\n",
              "      <td>0.0</td>\n",
              "      <td>0.0</td>\n",
              "      <td>0.0</td>\n",
              "      <td>0.0</td>\n",
              "      <td>0.0</td>\n",
              "      <td>0.0</td>\n",
              "      <td>0.0</td>\n",
              "      <td>0.0</td>\n",
              "    </tr>\n",
              "  </tbody>\n",
              "</table>\n",
              "<p>3 rows × 49 columns</p>\n",
              "</div>"
            ],
            "text/plain": [
              "      0      1      2      3      4      5      6      7      8      9   ...  \\\n",
              "0   25.4   26.3   26.5   29.0   29.0   29.7   29.7   30.0   30.0   30.7  ...   \n",
              "1  242.0  290.0  340.0  363.0  430.0  450.0  500.0  390.0  450.0  500.0  ...   \n",
              "2    1.0    1.0    1.0    1.0    1.0    1.0    1.0    1.0    1.0    1.0  ...   \n",
              "\n",
              "     39    40    41    42    43    44    45    46    47    48  \n",
              "0  11.2  11.3  11.8  11.8  12.0  12.2  12.4  13.0  14.3  15.0  \n",
              "1   9.8   8.7  10.0   9.9   9.8  12.2  13.4  12.2  19.7  19.9  \n",
              "2   0.0   0.0   0.0   0.0   0.0   0.0   0.0   0.0   0.0   0.0  \n",
              "\n",
              "[3 rows x 49 columns]"
            ]
          },
          "execution_count": 24,
          "metadata": {},
          "output_type": "execute_result"
        }
      ],
      "source": [
        "# 데이터프레임으로 생성 1-1\n",
        "\n",
        "df_fish = pd.DataFrame([fish_length , fish_weight, fish_target])\n",
        "df_fish"
      ]
    },
    {
      "cell_type": "code",
      "execution_count": null,
      "id": "eda478e2",
      "metadata": {
        "id": "eda478e2",
        "outputId": "1ddd7beb-6469-4290-c981-87ec73482bdb"
      },
      "outputs": [
        {
          "data": {
            "text/html": [
              "<div>\n",
              "<style scoped>\n",
              "    .dataframe tbody tr th:only-of-type {\n",
              "        vertical-align: middle;\n",
              "    }\n",
              "\n",
              "    .dataframe tbody tr th {\n",
              "        vertical-align: top;\n",
              "    }\n",
              "\n",
              "    .dataframe thead th {\n",
              "        text-align: right;\n",
              "    }\n",
              "</style>\n",
              "<table border=\"1\" class=\"dataframe\">\n",
              "  <thead>\n",
              "    <tr style=\"text-align: right;\">\n",
              "      <th></th>\n",
              "      <th>0</th>\n",
              "      <th>1</th>\n",
              "      <th>2</th>\n",
              "    </tr>\n",
              "  </thead>\n",
              "  <tbody>\n",
              "    <tr>\n",
              "      <th>35</th>\n",
              "      <td>9.8</td>\n",
              "      <td>6.7</td>\n",
              "      <td>0.0</td>\n",
              "    </tr>\n",
              "    <tr>\n",
              "      <th>38</th>\n",
              "      <td>11.0</td>\n",
              "      <td>9.7</td>\n",
              "      <td>0.0</td>\n",
              "    </tr>\n",
              "    <tr>\n",
              "      <th>21</th>\n",
              "      <td>34.0</td>\n",
              "      <td>685.0</td>\n",
              "      <td>1.0</td>\n",
              "    </tr>\n",
              "  </tbody>\n",
              "</table>\n",
              "</div>"
            ],
            "text/plain": [
              "       0      1    2\n",
              "35   9.8    6.7  0.0\n",
              "38  11.0    9.7  0.0\n",
              "21  34.0  685.0  1.0"
            ]
          },
          "execution_count": 25,
          "metadata": {},
          "output_type": "execute_result"
        }
      ],
      "source": [
        "# 데이터프레임으로 생성 1-2\n",
        "# pd.DataFrame( 데이터 ).T : 전치행렬\n",
        "df_fish = pd.DataFrame([fish_length , fish_weight, fish_target]).T\n",
        "df_fish.sample(3)"
      ]
    },
    {
      "cell_type": "code",
      "execution_count": null,
      "id": "88390db6",
      "metadata": {
        "id": "88390db6",
        "outputId": "aac2c7e3-e515-4efd-92f2-37ff3c8e30a9"
      },
      "outputs": [
        {
          "data": {
            "text/html": [
              "<div>\n",
              "<style scoped>\n",
              "    .dataframe tbody tr th:only-of-type {\n",
              "        vertical-align: middle;\n",
              "    }\n",
              "\n",
              "    .dataframe tbody tr th {\n",
              "        vertical-align: top;\n",
              "    }\n",
              "\n",
              "    .dataframe thead th {\n",
              "        text-align: right;\n",
              "    }\n",
              "</style>\n",
              "<table border=\"1\" class=\"dataframe\">\n",
              "  <thead>\n",
              "    <tr style=\"text-align: right;\">\n",
              "      <th></th>\n",
              "      <th>fish_length</th>\n",
              "      <th>fish_weight</th>\n",
              "      <th>label</th>\n",
              "    </tr>\n",
              "  </thead>\n",
              "  <tbody>\n",
              "    <tr>\n",
              "      <th>42</th>\n",
              "      <td>11.8</td>\n",
              "      <td>9.9</td>\n",
              "      <td>0.0</td>\n",
              "    </tr>\n",
              "    <tr>\n",
              "      <th>2</th>\n",
              "      <td>26.5</td>\n",
              "      <td>340.0</td>\n",
              "      <td>1.0</td>\n",
              "    </tr>\n",
              "    <tr>\n",
              "      <th>18</th>\n",
              "      <td>33.5</td>\n",
              "      <td>610.0</td>\n",
              "      <td>1.0</td>\n",
              "    </tr>\n",
              "  </tbody>\n",
              "</table>\n",
              "</div>"
            ],
            "text/plain": [
              "    fish_length  fish_weight  label\n",
              "42         11.8          9.9    0.0\n",
              "2          26.5        340.0    1.0\n",
              "18         33.5        610.0    1.0"
            ]
          },
          "execution_count": 26,
          "metadata": {},
          "output_type": "execute_result"
        }
      ],
      "source": [
        "# 데이터프레임으로 생성 1-3\n",
        "# 컬럼명 지정해서\n",
        "df_fish = pd.DataFrame([fish_length , fish_weight, fish_target]).T\n",
        "df_fish.columns = ['fish_length' , 'fish_weight', 'label']\n",
        "\n",
        "df_fish.sample(3)"
      ]
    },
    {
      "cell_type": "code",
      "execution_count": null,
      "id": "2af0c635",
      "metadata": {
        "id": "2af0c635",
        "outputId": "93807d9b-761d-448e-a72f-5f1096e48538"
      },
      "outputs": [
        {
          "name": "stdout",
          "output_type": "stream",
          "text": [
            "<class 'pandas.core.frame.DataFrame'>\n",
            "RangeIndex: 49 entries, 0 to 48\n",
            "Data columns (total 3 columns):\n",
            " #   Column       Non-Null Count  Dtype  \n",
            "---  ------       --------------  -----  \n",
            " 0   fish_length  49 non-null     float64\n",
            " 1   fish_weight  49 non-null     float64\n",
            " 2   label        49 non-null     float64\n",
            "dtypes: float64(3)\n",
            "memory usage: 1.3 KB\n"
          ]
        }
      ],
      "source": [
        "df_fish.info()"
      ]
    },
    {
      "cell_type": "code",
      "execution_count": null,
      "id": "f933176f",
      "metadata": {
        "id": "f933176f"
      },
      "outputs": [],
      "source": [
        "# label 형변환 - 실수형 float 을 정수형 int 으로\n",
        "# 컬럼명.타입을(문자,실수,정수형)으로 변경한다.\n",
        "df_fish['label'] = df_fish['label'].astype(int)"
      ]
    },
    {
      "cell_type": "code",
      "execution_count": null,
      "id": "253e849d",
      "metadata": {
        "id": "253e849d",
        "outputId": "bc605aa8-c4c2-4234-b0a6-ccfd85425693"
      },
      "outputs": [
        {
          "data": {
            "text/html": [
              "<div>\n",
              "<style scoped>\n",
              "    .dataframe tbody tr th:only-of-type {\n",
              "        vertical-align: middle;\n",
              "    }\n",
              "\n",
              "    .dataframe tbody tr th {\n",
              "        vertical-align: top;\n",
              "    }\n",
              "\n",
              "    .dataframe thead th {\n",
              "        text-align: right;\n",
              "    }\n",
              "</style>\n",
              "<table border=\"1\" class=\"dataframe\">\n",
              "  <thead>\n",
              "    <tr style=\"text-align: right;\">\n",
              "      <th></th>\n",
              "      <th>fish_length</th>\n",
              "      <th>fish_weight</th>\n",
              "      <th>label</th>\n",
              "    </tr>\n",
              "  </thead>\n",
              "  <tbody>\n",
              "    <tr>\n",
              "      <th>22</th>\n",
              "      <td>34.5</td>\n",
              "      <td>620.0</td>\n",
              "      <td>1</td>\n",
              "    </tr>\n",
              "    <tr>\n",
              "      <th>36</th>\n",
              "      <td>10.5</td>\n",
              "      <td>7.5</td>\n",
              "      <td>0</td>\n",
              "    </tr>\n",
              "    <tr>\n",
              "      <th>19</th>\n",
              "      <td>33.5</td>\n",
              "      <td>650.0</td>\n",
              "      <td>1</td>\n",
              "    </tr>\n",
              "  </tbody>\n",
              "</table>\n",
              "</div>"
            ],
            "text/plain": [
              "    fish_length  fish_weight  label\n",
              "22         34.5        620.0      1\n",
              "36         10.5          7.5      0\n",
              "19         33.5        650.0      1"
            ]
          },
          "execution_count": 29,
          "metadata": {},
          "output_type": "execute_result"
        }
      ],
      "source": [
        "df_fish.sample(3)"
      ]
    },
    {
      "cell_type": "code",
      "execution_count": null,
      "id": "ada5e126",
      "metadata": {
        "id": "ada5e126",
        "outputId": "c52b68cf-7d21-404c-9807-be8725736fe4"
      },
      "outputs": [
        {
          "data": {
            "image/png": "[encoded data removed]",
            "text/plain": [
              "<Figure size 720x432 with 1 Axes>"
            ]
          },
          "metadata": {
            "image/png": {
              "height": 373,
              "width": 618
            },
            "needs_background": "light"
          },
          "output_type": "display_data"
        }
      ],
      "source": [
        "# 시각화 1-1\n",
        "\n",
        "sns.scatterplot(x = 'fish_length' , y = 'fish_weight' , data = df_fish);"
      ]
    },
    {
      "cell_type": "code",
      "execution_count": null,
      "id": "51f8555a",
      "metadata": {
        "id": "51f8555a",
        "outputId": "b0dcbc9c-b324-472d-ca54-b1f588021fcb"
      },
      "outputs": [
        {
          "data": {
            "image/png": "[encoded data removed]",
            "text/plain": [
              "<Figure size 720x432 with 1 Axes>"
            ]
          },
          "metadata": {
            "image/png": {
              "height": 373,
              "width": 618
            },
            "needs_background": "light"
          },
          "output_type": "display_data"
        }
      ],
      "source": [
        "# 시각화 1-2\n",
        "\n",
        "sns.scatterplot(x = 'fish_length' , y = 'fish_weight' , data = df_fish, hue='label');"
      ]
    },
    {
      "cell_type": "code",
      "execution_count": null,
      "id": "9873d585",
      "metadata": {
        "id": "9873d585",
        "outputId": "8a290c47-5ef5-46e4-a3d5-8a443e56266e"
      },
      "outputs": [
        {
          "data": {
            "image/png": "[encoded data removed]",
            "text/plain": [
              "<Figure size 720x432 with 1 Axes>"
            ]
          },
          "metadata": {
            "image/png": {
              "height": 373,
              "width": 618
            },
            "needs_background": "light"
          },
          "output_type": "display_data"
        }
      ],
      "source": [
        "# 시각화 2\n",
        "sns.scatterplot(x = 'fish_length' , y = 'fish_weight' , data = df_fish, hue='label')\n",
        "\n",
        "# 새로운 데이터 26.3, 290.0\n",
        "sns.scatterplot(x = [26.3] , y = [290.0] ,  color = 'black');"
      ]
    },
    {
      "cell_type": "markdown",
      "id": "9d1e402a",
      "metadata": {
        "id": "9d1e402a"
      },
      "source": [
        "--------------------------------------------------"
      ]
    },
    {
      "cell_type": "markdown",
      "id": "c37853fe",
      "metadata": {
        "id": "c37853fe"
      },
      "source": [
        "## 스케일링?"
      ]
    },
    {
      "cell_type": "code",
      "execution_count": null,
      "id": "e5a4b419",
      "metadata": {
        "id": "e5a4b419"
      },
      "outputs": [],
      "source": [
        "# sklearn 모듈 임포트\n",
        "\n",
        "from sklearn.neighbors import KNeighborsClassifier\n",
        "from sklearn.model_selection import train_test_split\n",
        "from sklearn.metrics import accuracy_score"
      ]
    },
    {
      "cell_type": "code",
      "execution_count": null,
      "id": "d2213681",
      "metadata": {
        "id": "d2213681"
      },
      "outputs": [],
      "source": [
        "# 2) 모델 생성 후 학습시키기\n",
        "\n",
        "X = df_fish[['fish_length', 'fish_weight']]\n",
        "y = df_fish['label']\n",
        "\n",
        "X_train, X_test, y_train, y_test = train_test_split(X, y,  test_size = 0.2,\n",
        "                                                    \n",
        "                                                   # 비율 맞게 학습 ; train, test 둘다 확인 후 사용\n",
        "                                                   stratify = y)"
      ]
    },
    {
      "cell_type": "code",
      "execution_count": null,
      "id": "19066e4f",
      "metadata": {
        "id": "19066e4f",
        "outputId": "7f7430c5-eb2a-4e9e-aca3-2bbe535270a7"
      },
      "outputs": [
        {
          "name": "stdout",
          "output_type": "stream",
          "text": [
            "1    28\n",
            "0    11\n",
            "Name: label, dtype: int64\n",
            "\n",
            "[1 0 1 1 1 0 1 1 1 0 1 1 0 0 1 1 1 1 0 1 1 1 1 0 1 1 1 0 1 1 1 1 1 0 1 0 1\n",
            " 1 0]\n"
          ]
        }
      ],
      "source": [
        "print(y_train.value_counts())\n",
        "print()\n",
        "print(y_train.values)"
      ]
    },
    {
      "cell_type": "code",
      "execution_count": null,
      "id": "2e1cac44",
      "metadata": {
        "id": "2e1cac44",
        "outputId": "f20b58e5-73c5-4db3-f0b8-14a2be6c1ed2"
      },
      "outputs": [
        {
          "data": {
            "text/plain": [
              "(1    7\n",
              " 0    3\n",
              " Name: label, dtype: int64,\n",
              " array([1, 1, 1, 1, 0, 1, 1, 1, 0, 0]))"
            ]
          },
          "execution_count": 35,
          "metadata": {},
          "output_type": "execute_result"
        }
      ],
      "source": [
        "y_test.value_counts(), y_test.values"
      ]
    },
    {
      "cell_type": "code",
      "execution_count": null,
      "id": "a905dfe4",
      "metadata": {
        "id": "a905dfe4",
        "outputId": "b78f8f9a-d067-4cba-e245-d036bd731b9f"
      },
      "outputs": [
        {
          "data": {
            "text/plain": [
              "KNeighborsClassifier()"
            ]
          },
          "execution_count": 36,
          "metadata": {},
          "output_type": "execute_result"
        }
      ],
      "source": [
        "# 모델 생성 및 학습\n",
        "\n",
        "model_knn = KNeighborsClassifier()\n",
        "\n",
        "model_knn.fit(X_train, y_train)"
      ]
    },
    {
      "cell_type": "code",
      "execution_count": null,
      "id": "00106013",
      "metadata": {
        "id": "00106013",
        "outputId": "a8ab3b60-7c57-4a59-d664-26ae73a00410"
      },
      "outputs": [
        {
          "data": {
            "text/plain": [
              "array([1])"
            ]
          },
          "execution_count": 37,
          "metadata": {},
          "output_type": "execute_result"
        }
      ],
      "source": [
        "# 새로운 데이터 26.3, 290.0 의 예측????\n",
        "\n",
        "model_knn.predict([[26.3, 290.0]])"
      ]
    },
    {
      "cell_type": "code",
      "execution_count": null,
      "id": "a1e75f41",
      "metadata": {
        "id": "a1e75f41",
        "outputId": "93c93218-ac46-4336-d99f-285eeba3278f"
      },
      "outputs": [
        {
          "data": {
            "text/plain": [
              "array([0])"
            ]
          },
          "execution_count": 38,
          "metadata": {},
          "output_type": "execute_result"
        }
      ],
      "source": [
        "# 다른 데이타 25, 150 => 도미(1) 이어야하는데 예측값은 빙어(0)\n",
        "\n",
        "model_knn.predict([[25, 150]])"
      ]
    },
    {
      "cell_type": "code",
      "execution_count": null,
      "id": "3a4c08ee",
      "metadata": {
        "id": "3a4c08ee",
        "outputId": "bd9222e1-5a13-43a1-cf30-6c9a0942e1ed"
      },
      "outputs": [
        {
          "data": {
            "image/png": "[encoded data removed]",
            "text/plain": [
              "<Figure size 720x432 with 1 Axes>"
            ]
          },
          "metadata": {
            "image/png": {
              "height": 373,
              "width": 618
            },
            "needs_background": "light"
          },
          "output_type": "display_data"
        }
      ],
      "source": [
        "# 시각화 3\n",
        "sns.scatterplot(x = 'fish_length' , y = 'fish_weight' , data = df_fish, hue='label')\n",
        "\n",
        "# 새로운 데이터 26.3, 290.0\n",
        "# 다른 데이타 25, 150\n",
        "sns.scatterplot(x = [26.3] , y = [290.0] ,  color = 'black')\n",
        "sns.scatterplot(x = [25.0] , y = [150.0] ,  color = 'green');"
      ]
    },
    {
      "cell_type": "markdown",
      "id": "b60e6749",
      "metadata": {
        "id": "b60e6749"
      },
      "source": [
        "### 표준화 시킨 후 모델 학습 → 테스트"
      ]
    },
    {
      "cell_type": "code",
      "execution_count": null,
      "id": "16fe7b13",
      "metadata": {
        "id": "16fe7b13",
        "outputId": "c448d257-2f06-4c00-9be9-171a11762345"
      },
      "outputs": [
        {
          "data": {
            "text/html": [
              "<div>\n",
              "<style scoped>\n",
              "    .dataframe tbody tr th:only-of-type {\n",
              "        vertical-align: middle;\n",
              "    }\n",
              "\n",
              "    .dataframe tbody tr th {\n",
              "        vertical-align: top;\n",
              "    }\n",
              "\n",
              "    .dataframe thead th {\n",
              "        text-align: right;\n",
              "    }\n",
              "</style>\n",
              "<table border=\"1\" class=\"dataframe\">\n",
              "  <thead>\n",
              "    <tr style=\"text-align: right;\">\n",
              "      <th></th>\n",
              "      <th>fish_length</th>\n",
              "      <th>fish_weight</th>\n",
              "    </tr>\n",
              "  </thead>\n",
              "  <tbody>\n",
              "    <tr>\n",
              "      <th>0</th>\n",
              "      <td>25.4</td>\n",
              "      <td>242.0</td>\n",
              "    </tr>\n",
              "    <tr>\n",
              "      <th>1</th>\n",
              "      <td>26.3</td>\n",
              "      <td>290.0</td>\n",
              "    </tr>\n",
              "    <tr>\n",
              "      <th>2</th>\n",
              "      <td>26.5</td>\n",
              "      <td>340.0</td>\n",
              "    </tr>\n",
              "    <tr>\n",
              "      <th>3</th>\n",
              "      <td>29.0</td>\n",
              "      <td>363.0</td>\n",
              "    </tr>\n",
              "    <tr>\n",
              "      <th>4</th>\n",
              "      <td>29.0</td>\n",
              "      <td>430.0</td>\n",
              "    </tr>\n",
              "  </tbody>\n",
              "</table>\n",
              "</div>"
            ],
            "text/plain": [
              "   fish_length  fish_weight\n",
              "0         25.4        242.0\n",
              "1         26.3        290.0\n",
              "2         26.5        340.0\n",
              "3         29.0        363.0\n",
              "4         29.0        430.0"
            ]
          },
          "execution_count": 40,
          "metadata": {},
          "output_type": "execute_result"
        }
      ],
      "source": [
        "# X 표준화\n",
        "\n",
        "X.head()"
      ]
    },
    {
      "cell_type": "code",
      "execution_count": null,
      "id": "873b0397",
      "metadata": {
        "id": "873b0397",
        "outputId": "34ba5b90-9145-4366-ca53-582a8b91de3a"
      },
      "outputs": [
        {
          "data": {
            "text/plain": [
              "0    25.4\n",
              "1    26.3\n",
              "2    26.5\n",
              "3    29.0\n",
              "4    29.0\n",
              "Name: fish_length, dtype: float64"
            ]
          },
          "execution_count": 41,
          "metadata": {},
          "output_type": "execute_result"
        }
      ],
      "source": [
        "# 넘파이 \n",
        "\n",
        "X['fish_length'].head()"
      ]
    },
    {
      "cell_type": "code",
      "execution_count": null,
      "id": "4a44b98b",
      "metadata": {
        "id": "4a44b98b",
        "outputId": "12857245-9589-42d0-ffd1-8336d351379f"
      },
      "outputs": [
        {
          "data": {
            "text/plain": [
              "(27.055102040816323, 10.242803596193967)"
            ]
          },
          "execution_count": 42,
          "metadata": {},
          "output_type": "execute_result"
        }
      ],
      "source": [
        "# 평균, 표준편차\n",
        "\n",
        "X['fish_length'].mean() , X['fish_length'].std()"
      ]
    },
    {
      "cell_type": "code",
      "execution_count": null,
      "id": "de463e97",
      "metadata": {
        "id": "de463e97",
        "outputId": "bacfd008-f2bf-4498-a769-515a1b3a2a90"
      },
      "outputs": [
        {
          "data": {
            "text/plain": [
              "(10.242803596193967, 10.137746423175521)"
            ]
          },
          "execution_count": 43,
          "metadata": {},
          "output_type": "execute_result"
        }
      ],
      "source": [
        "# 판다스 표준편차와 넘파이 표준편차 비교\n",
        "\n",
        "X['fish_length'].std() , np.std(X['fish_length'].values)"
      ]
    },
    {
      "cell_type": "code",
      "execution_count": null,
      "id": "8f14a355",
      "metadata": {
        "id": "8f14a355",
        "outputId": "c970e0ed-358c-4e8b-aa1a-5f19f8666f46"
      },
      "outputs": [
        {
          "data": {
            "text/plain": [
              "(10.242803596193967, 10.137746423175521, 10.137746423175521)"
            ]
          },
          "execution_count": 44,
          "metadata": {},
          "output_type": "execute_result"
        }
      ],
      "source": [
        "# 판다스 표준편차와 넘파이 표준편차 비교 - ddof 자유도 ???\n",
        "# ddof = 0 :  판다스 표준편차와 넘파이 표준편차 일치 \n",
        "\n",
        "X['fish_length'].std() , np.std(X['fish_length'].values), X['fish_length'].std(ddof=0)"
      ]
    },
    {
      "cell_type": "code",
      "execution_count": null,
      "id": "3149ca0b",
      "metadata": {
        "id": "3149ca0b"
      },
      "outputs": [],
      "source": [
        "# 표준 점수는? - 길이\n",
        "# (데이터 - 평균) / 표준편차\n",
        "\n",
        "X['fish_length_scale'] = (X['fish_length'] - X['fish_length'].mean()) / X['fish_length'].std(ddof=0)"
      ]
    },
    {
      "cell_type": "code",
      "execution_count": null,
      "id": "25b1d1bf",
      "metadata": {
        "id": "25b1d1bf"
      },
      "outputs": [],
      "source": [
        "# 표준 점수는? - 무게\n",
        "# (데이터 - 평균) / 표준편차\n",
        "\n",
        "X['fish_weight_scale'] = (X['fish_weight'] - X['fish_weight'].mean()) / X['fish_weight'].std(ddof=0)"
      ]
    },
    {
      "cell_type": "code",
      "execution_count": null,
      "id": "2b215948",
      "metadata": {
        "scrolled": true,
        "id": "2b215948",
        "outputId": "2d6faf81-42fa-4b80-f918-6ad4a1cbfe8e"
      },
      "outputs": [
        {
          "data": {
            "text/html": [
              "<div>\n",
              "<style scoped>\n",
              "    .dataframe tbody tr th:only-of-type {\n",
              "        vertical-align: middle;\n",
              "    }\n",
              "\n",
              "    .dataframe tbody tr th {\n",
              "        vertical-align: top;\n",
              "    }\n",
              "\n",
              "    .dataframe thead th {\n",
              "        text-align: right;\n",
              "    }\n",
              "</style>\n",
              "<table border=\"1\" class=\"dataframe\">\n",
              "  <thead>\n",
              "    <tr style=\"text-align: right;\">\n",
              "      <th></th>\n",
              "      <th>fish_length</th>\n",
              "      <th>fish_weight</th>\n",
              "      <th>fish_length_scale</th>\n",
              "      <th>fish_weight_scale</th>\n",
              "    </tr>\n",
              "  </thead>\n",
              "  <tbody>\n",
              "    <tr>\n",
              "      <th>0</th>\n",
              "      <td>25.4</td>\n",
              "      <td>242.0</td>\n",
              "      <td>-0.163261</td>\n",
              "      <td>-0.623504</td>\n",
              "    </tr>\n",
              "    <tr>\n",
              "      <th>1</th>\n",
              "      <td>26.3</td>\n",
              "      <td>290.0</td>\n",
              "      <td>-0.074484</td>\n",
              "      <td>-0.475710</td>\n",
              "    </tr>\n",
              "    <tr>\n",
              "      <th>2</th>\n",
              "      <td>26.5</td>\n",
              "      <td>340.0</td>\n",
              "      <td>-0.054756</td>\n",
              "      <td>-0.321759</td>\n",
              "    </tr>\n",
              "    <tr>\n",
              "      <th>3</th>\n",
              "      <td>29.0</td>\n",
              "      <td>363.0</td>\n",
              "      <td>0.191847</td>\n",
              "      <td>-0.250941</td>\n",
              "    </tr>\n",
              "    <tr>\n",
              "      <th>4</th>\n",
              "      <td>29.0</td>\n",
              "      <td>430.0</td>\n",
              "      <td>0.191847</td>\n",
              "      <td>-0.044646</td>\n",
              "    </tr>\n",
              "  </tbody>\n",
              "</table>\n",
              "</div>"
            ],
            "text/plain": [
              "   fish_length  fish_weight  fish_length_scale  fish_weight_scale\n",
              "0         25.4        242.0          -0.163261          -0.623504\n",
              "1         26.3        290.0          -0.074484          -0.475710\n",
              "2         26.5        340.0          -0.054756          -0.321759\n",
              "3         29.0        363.0           0.191847          -0.250941\n",
              "4         29.0        430.0           0.191847          -0.044646"
            ]
          },
          "execution_count": 47,
          "metadata": {},
          "output_type": "execute_result"
        }
      ],
      "source": [
        "X.head()"
      ]
    },
    {
      "cell_type": "code",
      "execution_count": null,
      "id": "25dd35dc",
      "metadata": {
        "id": "25dd35dc"
      },
      "outputs": [],
      "source": [
        "X2 = X[['fish_length_scale','fish_weight_scale']]\n",
        "\n",
        "y = df_fish['label']\n",
        "\n",
        "X_train, X_test, y_train, y_test = train_test_split(X2, y, \n",
        "                                                    random_state=11, \n",
        "                                                    test_size=0.2, \n",
        "                                                    stratify=y)"
      ]
    },
    {
      "cell_type": "code",
      "execution_count": null,
      "id": "1c139ccd",
      "metadata": {
        "id": "1c139ccd",
        "outputId": "4994792d-500c-4c55-8510-3ceb3b30df78"
      },
      "outputs": [
        {
          "data": {
            "text/plain": [
              "KNeighborsClassifier()"
            ]
          },
          "execution_count": 49,
          "metadata": {},
          "output_type": "execute_result"
        }
      ],
      "source": [
        "# 모델 생성 및 학습\n",
        "\n",
        "model_knn = KNeighborsClassifier()\n",
        "\n",
        "model_knn.fit(X_train, y_train)"
      ]
    },
    {
      "cell_type": "code",
      "execution_count": null,
      "id": "620d7ff5",
      "metadata": {
        "id": "620d7ff5",
        "outputId": "ba94ea41-9168-4f54-d5f3-d1d3db327e36"
      },
      "outputs": [
        {
          "data": {
            "text/plain": [
              "array([1])"
            ]
          },
          "execution_count": 50,
          "metadata": {},
          "output_type": "execute_result"
        }
      ],
      "source": [
        "# 스케일 후 도미로 예측 결과가 변경됨\n",
        "\n",
        "# 스케일 전 예측은 빙어였음\n",
        "\n",
        "model_knn.predict([[25, 150]])"
      ]
    },
    {
      "cell_type": "code",
      "execution_count": null,
      "id": "dd12acb8",
      "metadata": {
        "scrolled": true,
        "id": "dd12acb8",
        "outputId": "29441cba-7617-47c1-ef93-8f4383285f4e"
      },
      "outputs": [
        {
          "data": {
            "text/html": [
              "<div>\n",
              "<style scoped>\n",
              "    .dataframe tbody tr th:only-of-type {\n",
              "        vertical-align: middle;\n",
              "    }\n",
              "\n",
              "    .dataframe tbody tr th {\n",
              "        vertical-align: top;\n",
              "    }\n",
              "\n",
              "    .dataframe thead th {\n",
              "        text-align: right;\n",
              "    }\n",
              "</style>\n",
              "<table border=\"1\" class=\"dataframe\">\n",
              "  <thead>\n",
              "    <tr style=\"text-align: right;\">\n",
              "      <th></th>\n",
              "      <th>fish_length_scale</th>\n",
              "      <th>fish_weight_scale</th>\n",
              "      <th>label</th>\n",
              "    </tr>\n",
              "  </thead>\n",
              "  <tbody>\n",
              "    <tr>\n",
              "      <th>0</th>\n",
              "      <td>-0.163261</td>\n",
              "      <td>-0.623504</td>\n",
              "      <td>1</td>\n",
              "    </tr>\n",
              "    <tr>\n",
              "      <th>1</th>\n",
              "      <td>-0.074484</td>\n",
              "      <td>-0.475710</td>\n",
              "      <td>1</td>\n",
              "    </tr>\n",
              "    <tr>\n",
              "      <th>2</th>\n",
              "      <td>-0.054756</td>\n",
              "      <td>-0.321759</td>\n",
              "      <td>1</td>\n",
              "    </tr>\n",
              "    <tr>\n",
              "      <th>3</th>\n",
              "      <td>0.191847</td>\n",
              "      <td>-0.250941</td>\n",
              "      <td>1</td>\n",
              "    </tr>\n",
              "    <tr>\n",
              "      <th>4</th>\n",
              "      <td>0.191847</td>\n",
              "      <td>-0.044646</td>\n",
              "      <td>1</td>\n",
              "    </tr>\n",
              "  </tbody>\n",
              "</table>\n",
              "</div>"
            ],
            "text/plain": [
              "   fish_length_scale  fish_weight_scale  label\n",
              "0          -0.163261          -0.623504      1\n",
              "1          -0.074484          -0.475710      1\n",
              "2          -0.054756          -0.321759      1\n",
              "3           0.191847          -0.250941      1\n",
              "4           0.191847          -0.044646      1"
            ]
          },
          "execution_count": 51,
          "metadata": {},
          "output_type": "execute_result"
        }
      ],
      "source": [
        "# 시각화 4-1\n",
        "X_temp = X2.copy()\n",
        "X_temp['label'] = y\n",
        "\n",
        "X_temp.head()"
      ]
    },
    {
      "cell_type": "code",
      "execution_count": null,
      "id": "50f727df",
      "metadata": {
        "id": "50f727df",
        "outputId": "866f55ef-b94e-46e3-c0dd-cb338e1fb6a0"
      },
      "outputs": [
        {
          "data": {
            "text/plain": [
              "(-0.20271783836674304, -1.2916532293463285)"
            ]
          },
          "execution_count": 52,
          "metadata": {},
          "output_type": "execute_result"
        }
      ],
      "source": [
        "# 새로운 데이터 ( 25, 150 ) → 표준 점수로 변경\n",
        "\n",
        "l = (25 - X['fish_length'].mean()) / X['fish_length'].std(ddof=0)\n",
        "w = (25 - X['fish_weight'].mean()) / X['fish_weight'].std(ddof=0)\n",
        "\n",
        "l, w"
      ]
    },
    {
      "cell_type": "code",
      "execution_count": null,
      "id": "037e7834",
      "metadata": {
        "id": "037e7834",
        "outputId": "fc8fe7c7-fef4-4cf7-ced7-bb0379d6d3f6"
      },
      "outputs": [
        {
          "data": {
            "image/png": "[encoded data removed]",
            "text/plain": [
              "<Figure size 720x432 with 1 Axes>"
            ]
          },
          "metadata": {
            "image/png": {
              "height": 373,
              "width": 615
            },
            "needs_background": "light"
          },
          "output_type": "display_data"
        }
      ],
      "source": [
        "# 시각화 4-2\n",
        "sns.scatterplot(x = 'fish_length_scale' , y = 'fish_weight_scale' , data = X_temp, hue='label')\n",
        "\n",
        "# 새로운 데이터 ( 25, 150 )\n",
        "sns.scatterplot(x = [l] , y = [w] ,  color = 'green');"
      ]
    },
    {
      "cell_type": "markdown",
      "id": "c57fe4e4",
      "metadata": {
        "id": "c57fe4e4"
      },
      "source": [
        "--------------------------------------------------"
      ]
    },
    {
      "cell_type": "markdown",
      "id": "e7377952",
      "metadata": {
        "id": "e7377952"
      },
      "source": [
        "# KNN의 이웃점과의 거리와 이웃점 인덱스\n",
        "\n",
        ">## knn모델명.kneighbors( [ [x , y] ] )\n",
        ">### 예) distance, indexes = model_kn.kneighbors([[26.3,290.0]])"
      ]
    },
    {
      "cell_type": "code",
      "execution_count": null,
      "id": "94cec3b7",
      "metadata": {
        "id": "94cec3b7",
        "outputId": "003c1e4e-6e1e-43f1-a609-99bc6caf2c6e"
      },
      "outputs": [
        {
          "name": "stdout",
          "output_type": "stream",
          "text": [
            "['__abstractmethods__', '__class__', '__delattr__', '__dict__', '__dir__', '__doc__', '__eq__', '__format__', '__ge__', '__getattribute__', '__getstate__', '__gt__', '__hash__', '__init__', '__init_subclass__', '__le__', '__lt__', '__module__', '__ne__', '__new__', '__reduce__', '__reduce_ex__', '__repr__', '__setattr__', '__setstate__', '__sizeof__', '__str__', '__subclasshook__', '__weakref__', '_abc_impl', '_check_algorithm_metric', '_check_feature_names', '_check_n_features', '_estimator_type', '_fit', '_get_param_names', '_get_tags', '_kneighbors_reduce_func', '_more_tags', '_pairwise', '_repr_html_', '_repr_html_inner', '_repr_mimebundle_', '_validate_data', 'fit', 'get_params', 'kneighbors', 'kneighbors_graph', 'predict', 'predict_proba', 'score', 'set_params']\n"
          ]
        }
      ],
      "source": [
        "print(dir(KNeighborsClassifier))"
      ]
    },
    {
      "cell_type": "code",
      "execution_count": null,
      "id": "de3ef67c",
      "metadata": {
        "id": "de3ef67c",
        "outputId": "5b1ba6b9-85fd-41c9-cc97-29e232f162aa"
      },
      "outputs": [
        {
          "data": {
            "text/plain": [
              "array([1])"
            ]
          },
          "execution_count": 55,
          "metadata": {},
          "output_type": "execute_result"
        }
      ],
      "source": [
        "model_knn.predict([[-0.20271783836674304, -0.9067744363349078]])"
      ]
    },
    {
      "cell_type": "code",
      "execution_count": null,
      "id": "af5784d9",
      "metadata": {
        "id": "af5784d9",
        "outputId": "81b7bd89-257c-460c-a336-c17d71902c82"
      },
      "outputs": [
        {
          "data": {
            "text/plain": [
              "(array([[0.28600552, 0.60343696, 0.76537512, 0.90499623, 1.04713462]]),\n",
              " array([[20, 21, 29,  9, 17]], dtype=int64))"
            ]
          },
          "execution_count": 56,
          "metadata": {},
          "output_type": "execute_result"
        }
      ],
      "source": [
        "# 새로운 데이타 25, 150 표준점수로 변경 \n",
        "l = (25-X['fish_length'].mean()) / X['fish_length'].std(ddof=0)\n",
        "w = (150-X['fish_weight'].mean()) / X['fish_weight'].std(ddof=0)\n",
        "\n",
        "\n",
        "# distance 는 이웃간 거리\n",
        "# k_idx 는 이웃의 인덱스 \n",
        "\n",
        "distance, k_idx = model_knn.kneighbors([[l, w]])\n",
        "distance, k_idx"
      ]
    },
    {
      "cell_type": "code",
      "execution_count": null,
      "id": "1bb043e3",
      "metadata": {
        "id": "1bb043e3",
        "outputId": "44001ed9-fda5-41b6-96f0-4cc6c4829590"
      },
      "outputs": [
        {
          "data": {
            "text/plain": [
              "{'algorithm': 'auto',\n",
              " 'leaf_size': 30,\n",
              " 'metric': 'minkowski',\n",
              " 'metric_params': None,\n",
              " 'n_jobs': None,\n",
              " 'n_neighbors': 5,\n",
              " 'p': 2,\n",
              " 'weights': 'uniform'}"
            ]
          },
          "execution_count": 57,
          "metadata": {},
          "output_type": "execute_result"
        }
      ],
      "source": [
        "model_knn.get_params()"
      ]
    },
    {
      "cell_type": "code",
      "execution_count": null,
      "id": "ad6c3ee7",
      "metadata": {
        "id": "ad6c3ee7",
        "outputId": "318c83a1-322d-4628-923b-44254c8b9584"
      },
      "outputs": [
        {
          "data": {
            "text/html": [
              "<div>\n",
              "<style scoped>\n",
              "    .dataframe tbody tr th:only-of-type {\n",
              "        vertical-align: middle;\n",
              "    }\n",
              "\n",
              "    .dataframe tbody tr th {\n",
              "        vertical-align: top;\n",
              "    }\n",
              "\n",
              "    .dataframe thead th {\n",
              "        text-align: right;\n",
              "    }\n",
              "</style>\n",
              "<table border=\"1\" class=\"dataframe\">\n",
              "  <thead>\n",
              "    <tr style=\"text-align: right;\">\n",
              "      <th></th>\n",
              "      <th>fish_length_scale</th>\n",
              "      <th>fish_weight_scale</th>\n",
              "    </tr>\n",
              "  </thead>\n",
              "  <tbody>\n",
              "    <tr>\n",
              "      <th>0</th>\n",
              "      <td>-0.163261</td>\n",
              "      <td>-0.623504</td>\n",
              "    </tr>\n",
              "    <tr>\n",
              "      <th>2</th>\n",
              "      <td>-0.054756</td>\n",
              "      <td>-0.321759</td>\n",
              "    </tr>\n",
              "    <tr>\n",
              "      <th>3</th>\n",
              "      <td>0.191847</td>\n",
              "      <td>-0.250941</td>\n",
              "    </tr>\n",
              "    <tr>\n",
              "      <th>13</th>\n",
              "      <td>0.487771</td>\n",
              "      <td>-0.321759</td>\n",
              "    </tr>\n",
              "    <tr>\n",
              "      <th>8</th>\n",
              "      <td>0.290488</td>\n",
              "      <td>0.016935</td>\n",
              "    </tr>\n",
              "  </tbody>\n",
              "</table>\n",
              "</div>"
            ],
            "text/plain": [
              "    fish_length_scale  fish_weight_scale\n",
              "0           -0.163261          -0.623504\n",
              "2           -0.054756          -0.321759\n",
              "3            0.191847          -0.250941\n",
              "13           0.487771          -0.321759\n",
              "8            0.290488           0.016935"
            ]
          },
          "execution_count": 58,
          "metadata": {},
          "output_type": "execute_result"
        }
      ],
      "source": [
        "# 이웃점의 정보는?\n",
        "# 이웃점 데이터프레임 \n",
        "\n",
        "X_train.iloc[[20, 21, 29,  9, 17]]"
      ]
    },
    {
      "cell_type": "code",
      "execution_count": null,
      "id": "4decb1e6",
      "metadata": {
        "id": "4decb1e6",
        "outputId": "31a78eaa-9e89-4889-a31c-d4e02d5d7f56"
      },
      "outputs": [
        {
          "data": {
            "text/html": [
              "<div>\n",
              "<style scoped>\n",
              "    .dataframe tbody tr th:only-of-type {\n",
              "        vertical-align: middle;\n",
              "    }\n",
              "\n",
              "    .dataframe tbody tr th {\n",
              "        vertical-align: top;\n",
              "    }\n",
              "\n",
              "    .dataframe thead th {\n",
              "        text-align: right;\n",
              "    }\n",
              "</style>\n",
              "<table border=\"1\" class=\"dataframe\">\n",
              "  <thead>\n",
              "    <tr style=\"text-align: right;\">\n",
              "      <th></th>\n",
              "      <th>fish_length_scale</th>\n",
              "      <th>fish_weight_scale</th>\n",
              "      <th>label</th>\n",
              "    </tr>\n",
              "  </thead>\n",
              "  <tbody>\n",
              "    <tr>\n",
              "      <th>20</th>\n",
              "      <td>0.685053</td>\n",
              "      <td>0.401813</td>\n",
              "      <td>1</td>\n",
              "    </tr>\n",
              "    <tr>\n",
              "      <th>21</th>\n",
              "      <td>0.685053</td>\n",
              "      <td>0.740507</td>\n",
              "      <td>1</td>\n",
              "    </tr>\n",
              "    <tr>\n",
              "      <th>29</th>\n",
              "      <td>0.980977</td>\n",
              "      <td>1.710401</td>\n",
              "      <td>1</td>\n",
              "    </tr>\n",
              "    <tr>\n",
              "      <th>9</th>\n",
              "      <td>0.359537</td>\n",
              "      <td>0.170886</td>\n",
              "      <td>1</td>\n",
              "    </tr>\n",
              "    <tr>\n",
              "      <th>17</th>\n",
              "      <td>0.586412</td>\n",
              "      <td>0.786692</td>\n",
              "      <td>1</td>\n",
              "    </tr>\n",
              "  </tbody>\n",
              "</table>\n",
              "</div>"
            ],
            "text/plain": [
              "    fish_length_scale  fish_weight_scale  label\n",
              "20           0.685053           0.401813      1\n",
              "21           0.685053           0.740507      1\n",
              "29           0.980977           1.710401      1\n",
              "9            0.359537           0.170886      1\n",
              "17           0.586412           0.786692      1"
            ]
          },
          "execution_count": 59,
          "metadata": {},
          "output_type": "execute_result"
        }
      ],
      "source": [
        "n_df = X_temp.loc[[20, 21, 29,  9, 17]]\n",
        "n_df"
      ]
    },
    {
      "cell_type": "code",
      "execution_count": null,
      "id": "56c3893f",
      "metadata": {
        "scrolled": false,
        "id": "56c3893f",
        "outputId": "7a2d9d95-35bc-4962-b502-87fc1676b7f8"
      },
      "outputs": [
        {
          "data": {
            "image/png": "[encoded data removed]",
            "text/plain": [
              "<Figure size 720x432 with 1 Axes>"
            ]
          },
          "metadata": {
            "image/png": {
              "height": 373,
              "width": 615
            },
            "needs_background": "light"
          },
          "output_type": "display_data"
        }
      ],
      "source": [
        "# 시각화 5\n",
        "\n",
        "# X_train 그래프\n",
        "sns.scatterplot(x = 'fish_length_scale' , y = 'fish_weight_scale' , data = X_temp, hue='label')\n",
        "\n",
        "\n",
        "# 새로운 데이터 ( 25, 150 )\n",
        "sns.scatterplot(x = [l] , y = [w] ,  color = 'green')\n",
        "\n",
        "# 이웃점 추가  \n",
        "sns.scatterplot(x = 'fish_length_scale' , y = 'fish_weight_scale', data = n_df , color = 'purple');"
      ]
    },
    {
      "cell_type": "code",
      "execution_count": null,
      "id": "096ef214",
      "metadata": {
        "id": "096ef214",
        "outputId": "ab93c8ff-6890-4647-e585-a928abd6de20"
      },
      "outputs": [
        {
          "data": {
            "image/png": "[encoded data removed]",
            "text/plain": [
              "<Figure size 720x432 with 1 Axes>"
            ]
          },
          "metadata": {
            "image/png": {
              "height": 373,
              "width": 615
            },
            "needs_background": "light"
          },
          "output_type": "display_data"
        }
      ],
      "source": [
        "# 시각화 5\n",
        "\n",
        "# X_train 그래프\n",
        "sns.scatterplot(x = 'fish_length_scale' , y = 'fish_weight_scale' , data = X_train, color='blue')\n",
        "\n",
        "# X_test 그래프\n",
        "sns.scatterplot(x = 'fish_length_scale' , y = 'fish_weight_scale' , data = X_test, color='red')\n",
        "\n",
        "\n",
        "# 새로운 데이터 ( 25, 150 )\n",
        "sns.scatterplot(x = [l] , y = [w] ,  color = 'green')\n",
        "\n",
        "# 이웃점 추가  \n",
        "sns.scatterplot(x = 'fish_length_scale' , y = 'fish_weight_scale', \n",
        "                data = X_train.iloc[[20, 21, 29,  9, 17]] , \n",
        "                color = 'purple');"
      ]
    },
    {
      "cell_type": "markdown",
      "id": "49e552a3",
      "metadata": {
        "id": "49e552a3"
      },
      "source": [
        "--------------------------------------------------"
      ]
    },
    {
      "cell_type": "markdown",
      "id": "20ca3b7c",
      "metadata": {
        "id": "20ca3b7c"
      },
      "source": [
        "# skitlearn의 이용 - 스케일링\n",
        "\n",
        "## StandardScaler\n",
        ">### - 평균이 0이고 분산이 1인 정규분포 형태로 변환\n",
        "- 데이터의 특징을 모르는 경우 가장 무난하게 사용됨\n",
        "\n",
        "- 관련 모듈 임포트\n",
        "     - from sklearn.preprocessing import StandardScaler\n",
        "     \n",
        "\n",
        "- 적용과정\n",
        "    - scaler = StandardScaler()\n",
        "    - scaler.fit(Data)\n",
        "    - Data_scaled = scaler.transform(Data)\n"
      ]
    },
    {
      "cell_type": "code",
      "execution_count": null,
      "id": "1fc80caf",
      "metadata": {
        "id": "1fc80caf"
      },
      "outputs": [],
      "source": [
        "# sklearn 모듈 임포트\n",
        "\n",
        "from sklearn.neighbors import KNeighborsClassifier\n",
        "from sklearn.model_selection import train_test_split\n",
        "from sklearn.metrics import accuracy_score\n",
        "\n",
        "# 붓꽃 데이터(토이 데이터) 관련\n",
        "from sklearn.datasets import load_iris\n",
        "\n",
        "# 스케일러 관련 모듈 임포트 \n",
        "from sklearn.preprocessing import MinMaxScaler, StandardScaler"
      ]
    },
    {
      "cell_type": "markdown",
      "id": "42d245ec",
      "metadata": {
        "id": "42d245ec"
      },
      "source": [
        "### 붓꽃 데이터 "
      ]
    },
    {
      "cell_type": "code",
      "execution_count": null,
      "id": "afd3f03f",
      "metadata": {
        "id": "afd3f03f"
      },
      "outputs": [],
      "source": [
        "# 1) 데이터 준비\n",
        "iris = load_iris()\n",
        "\n",
        "# 데이터 확인\n",
        "# iris\n",
        "\n",
        "# 데이터 프레임으로 \n",
        "df_iris = pd.DataFrame(iris.data, columns = iris.feature_names)\n",
        "\n",
        "# 라벨은?  (넘파이)\n",
        "iris_label = iris.target"
      ]
    },
    {
      "cell_type": "code",
      "execution_count": null,
      "id": "424b29e7",
      "metadata": {
        "id": "424b29e7",
        "outputId": "0df37649-9532-441f-adbc-bd3e8b9b973a"
      },
      "outputs": [
        {
          "data": {
            "text/html": [
              "<div>\n",
              "<style scoped>\n",
              "    .dataframe tbody tr th:only-of-type {\n",
              "        vertical-align: middle;\n",
              "    }\n",
              "\n",
              "    .dataframe tbody tr th {\n",
              "        vertical-align: top;\n",
              "    }\n",
              "\n",
              "    .dataframe thead th {\n",
              "        text-align: right;\n",
              "    }\n",
              "</style>\n",
              "<table border=\"1\" class=\"dataframe\">\n",
              "  <thead>\n",
              "    <tr style=\"text-align: right;\">\n",
              "      <th></th>\n",
              "      <th>sepal length (cm)</th>\n",
              "      <th>sepal width (cm)</th>\n",
              "      <th>petal length (cm)</th>\n",
              "      <th>petal width (cm)</th>\n",
              "    </tr>\n",
              "  </thead>\n",
              "  <tbody>\n",
              "    <tr>\n",
              "      <th>0</th>\n",
              "      <td>5.1</td>\n",
              "      <td>3.5</td>\n",
              "      <td>1.4</td>\n",
              "      <td>0.2</td>\n",
              "    </tr>\n",
              "    <tr>\n",
              "      <th>1</th>\n",
              "      <td>4.9</td>\n",
              "      <td>3.0</td>\n",
              "      <td>1.4</td>\n",
              "      <td>0.2</td>\n",
              "    </tr>\n",
              "    <tr>\n",
              "      <th>2</th>\n",
              "      <td>4.7</td>\n",
              "      <td>3.2</td>\n",
              "      <td>1.3</td>\n",
              "      <td>0.2</td>\n",
              "    </tr>\n",
              "    <tr>\n",
              "      <th>3</th>\n",
              "      <td>4.6</td>\n",
              "      <td>3.1</td>\n",
              "      <td>1.5</td>\n",
              "      <td>0.2</td>\n",
              "    </tr>\n",
              "    <tr>\n",
              "      <th>4</th>\n",
              "      <td>5.0</td>\n",
              "      <td>3.6</td>\n",
              "      <td>1.4</td>\n",
              "      <td>0.2</td>\n",
              "    </tr>\n",
              "  </tbody>\n",
              "</table>\n",
              "</div>"
            ],
            "text/plain": [
              "   sepal length (cm)  sepal width (cm)  petal length (cm)  petal width (cm)\n",
              "0                5.1               3.5                1.4               0.2\n",
              "1                4.9               3.0                1.4               0.2\n",
              "2                4.7               3.2                1.3               0.2\n",
              "3                4.6               3.1                1.5               0.2\n",
              "4                5.0               3.6                1.4               0.2"
            ]
          },
          "execution_count": 64,
          "metadata": {},
          "output_type": "execute_result"
        }
      ],
      "source": [
        "df_iris.head()"
      ]
    },
    {
      "cell_type": "code",
      "execution_count": null,
      "id": "440418cc",
      "metadata": {
        "id": "440418cc",
        "outputId": "cfe3ff31-5f64-4079-aef2-5d42285d546b"
      },
      "outputs": [
        {
          "data": {
            "text/plain": [
              "array([0, 0, 0, 0, 0, 0, 0, 0, 0, 0, 0, 0, 0, 0, 0, 0, 0, 0, 0, 0, 0, 0,\n",
              "       0, 0, 0, 0, 0, 0, 0, 0, 0, 0, 0, 0, 0, 0, 0, 0, 0, 0, 0, 0, 0, 0,\n",
              "       0, 0, 0, 0, 0, 0, 1, 1, 1, 1, 1, 1, 1, 1, 1, 1, 1, 1, 1, 1, 1, 1,\n",
              "       1, 1, 1, 1, 1, 1, 1, 1, 1, 1, 1, 1, 1, 1, 1, 1, 1, 1, 1, 1, 1, 1,\n",
              "       1, 1, 1, 1, 1, 1, 1, 1, 1, 1, 1, 1, 2, 2, 2, 2, 2, 2, 2, 2, 2, 2,\n",
              "       2, 2, 2, 2, 2, 2, 2, 2, 2, 2, 2, 2, 2, 2, 2, 2, 2, 2, 2, 2, 2, 2,\n",
              "       2, 2, 2, 2, 2, 2, 2, 2, 2, 2, 2, 2, 2, 2, 2, 2, 2, 2])"
            ]
          },
          "execution_count": 67,
          "metadata": {},
          "output_type": "execute_result"
        }
      ],
      "source": [
        "iris_label"
      ]
    },
    {
      "cell_type": "code",
      "execution_count": null,
      "id": "c059c1a9",
      "metadata": {
        "id": "c059c1a9",
        "outputId": "5b7cd131-a312-4902-9725-4adc93b9cc00"
      },
      "outputs": [
        {
          "data": {
            "text/plain": [
              "((150, 4), (150,))"
            ]
          },
          "execution_count": 68,
          "metadata": {},
          "output_type": "execute_result"
        }
      ],
      "source": [
        "df_iris.shape, iris_label.shape"
      ]
    },
    {
      "cell_type": "code",
      "execution_count": null,
      "id": "0fea3393",
      "metadata": {
        "id": "0fea3393",
        "outputId": "50b3ab6a-5d4b-4a59-fef7-babbaf518106"
      },
      "outputs": [
        {
          "data": {
            "text/plain": [
              "array([[-9.00681170e-01,  1.01900435e+00, -1.34022653e+00,\n",
              "        -1.31544430e+00],\n",
              "       [-1.14301691e+00, -1.31979479e-01, -1.34022653e+00,\n",
              "        -1.31544430e+00],\n",
              "       [-1.38535265e+00,  3.28414053e-01, -1.39706395e+00,\n",
              "        -1.31544430e+00],\n",
              "       [-1.50652052e+00,  9.82172869e-02, -1.28338910e+00,\n",
              "        -1.31544430e+00],\n",
              "       [-1.02184904e+00,  1.24920112e+00, -1.34022653e+00,\n",
              "        -1.31544430e+00],\n",
              "       [-5.37177559e-01,  1.93979142e+00, -1.16971425e+00,\n",
              "        -1.05217993e+00],\n",
              "       [-1.50652052e+00,  7.88807586e-01, -1.34022653e+00,\n",
              "        -1.18381211e+00],\n",
              "       [-1.02184904e+00,  7.88807586e-01, -1.28338910e+00,\n",
              "        -1.31544430e+00],\n",
              "       [-1.74885626e+00, -3.62176246e-01, -1.34022653e+00,\n",
              "        -1.31544430e+00],\n",
              "       [-1.14301691e+00,  9.82172869e-02, -1.28338910e+00,\n",
              "        -1.44707648e+00],\n",
              "       [-5.37177559e-01,  1.47939788e+00, -1.28338910e+00,\n",
              "        -1.31544430e+00],\n",
              "       [-1.26418478e+00,  7.88807586e-01, -1.22655167e+00,\n",
              "        -1.31544430e+00],\n",
              "       [-1.26418478e+00, -1.31979479e-01, -1.34022653e+00,\n",
              "        -1.44707648e+00],\n",
              "       [-1.87002413e+00, -1.31979479e-01, -1.51073881e+00,\n",
              "        -1.44707648e+00],\n",
              "       [-5.25060772e-02,  2.16998818e+00, -1.45390138e+00,\n",
              "        -1.31544430e+00],\n",
              "       [-1.73673948e-01,  3.09077525e+00, -1.28338910e+00,\n",
              "        -1.05217993e+00],\n",
              "       [-5.37177559e-01,  1.93979142e+00, -1.39706395e+00,\n",
              "        -1.05217993e+00],\n",
              "       [-9.00681170e-01,  1.01900435e+00, -1.34022653e+00,\n",
              "        -1.18381211e+00],\n",
              "       [-1.73673948e-01,  1.70959465e+00, -1.16971425e+00,\n",
              "        -1.18381211e+00],\n",
              "       [-9.00681170e-01,  1.70959465e+00, -1.28338910e+00,\n",
              "        -1.18381211e+00],\n",
              "       [-5.37177559e-01,  7.88807586e-01, -1.16971425e+00,\n",
              "        -1.31544430e+00],\n",
              "       [-9.00681170e-01,  1.47939788e+00, -1.28338910e+00,\n",
              "        -1.05217993e+00],\n",
              "       [-1.50652052e+00,  1.24920112e+00, -1.56757623e+00,\n",
              "        -1.31544430e+00],\n",
              "       [-9.00681170e-01,  5.58610819e-01, -1.16971425e+00,\n",
              "        -9.20547742e-01],\n",
              "       [-1.26418478e+00,  7.88807586e-01, -1.05603939e+00,\n",
              "        -1.31544430e+00],\n",
              "       [-1.02184904e+00, -1.31979479e-01, -1.22655167e+00,\n",
              "        -1.31544430e+00],\n",
              "       [-1.02184904e+00,  7.88807586e-01, -1.22655167e+00,\n",
              "        -1.05217993e+00],\n",
              "       [-7.79513300e-01,  1.01900435e+00, -1.28338910e+00,\n",
              "        -1.31544430e+00],\n",
              "       [-7.79513300e-01,  7.88807586e-01, -1.34022653e+00,\n",
              "        -1.31544430e+00],\n",
              "       [-1.38535265e+00,  3.28414053e-01, -1.22655167e+00,\n",
              "        -1.31544430e+00],\n",
              "       [-1.26418478e+00,  9.82172869e-02, -1.22655167e+00,\n",
              "        -1.31544430e+00],\n",
              "       [-5.37177559e-01,  7.88807586e-01, -1.28338910e+00,\n",
              "        -1.05217993e+00],\n",
              "       [-7.79513300e-01,  2.40018495e+00, -1.28338910e+00,\n",
              "        -1.44707648e+00],\n",
              "       [-4.16009689e-01,  2.63038172e+00, -1.34022653e+00,\n",
              "        -1.31544430e+00],\n",
              "       [-1.14301691e+00,  9.82172869e-02, -1.28338910e+00,\n",
              "        -1.31544430e+00],\n",
              "       [-1.02184904e+00,  3.28414053e-01, -1.45390138e+00,\n",
              "        -1.31544430e+00],\n",
              "       [-4.16009689e-01,  1.01900435e+00, -1.39706395e+00,\n",
              "        -1.31544430e+00],\n",
              "       [-1.14301691e+00,  1.24920112e+00, -1.34022653e+00,\n",
              "        -1.44707648e+00],\n",
              "       [-1.74885626e+00, -1.31979479e-01, -1.39706395e+00,\n",
              "        -1.31544430e+00],\n",
              "       [-9.00681170e-01,  7.88807586e-01, -1.28338910e+00,\n",
              "        -1.31544430e+00],\n",
              "       [-1.02184904e+00,  1.01900435e+00, -1.39706395e+00,\n",
              "        -1.18381211e+00],\n",
              "       [-1.62768839e+00, -1.74335684e+00, -1.39706395e+00,\n",
              "        -1.18381211e+00],\n",
              "       [-1.74885626e+00,  3.28414053e-01, -1.39706395e+00,\n",
              "        -1.31544430e+00],\n",
              "       [-1.02184904e+00,  1.01900435e+00, -1.22655167e+00,\n",
              "        -7.88915558e-01],\n",
              "       [-9.00681170e-01,  1.70959465e+00, -1.05603939e+00,\n",
              "        -1.05217993e+00],\n",
              "       [-1.26418478e+00, -1.31979479e-01, -1.34022653e+00,\n",
              "        -1.18381211e+00],\n",
              "       [-9.00681170e-01,  1.70959465e+00, -1.22655167e+00,\n",
              "        -1.31544430e+00],\n",
              "       [-1.50652052e+00,  3.28414053e-01, -1.34022653e+00,\n",
              "        -1.31544430e+00],\n",
              "       [-6.58345429e-01,  1.47939788e+00, -1.28338910e+00,\n",
              "        -1.31544430e+00],\n",
              "       [-1.02184904e+00,  5.58610819e-01, -1.34022653e+00,\n",
              "        -1.31544430e+00],\n",
              "       [ 1.40150837e+00,  3.28414053e-01,  5.35408562e-01,\n",
              "         2.64141916e-01],\n",
              "       [ 6.74501145e-01,  3.28414053e-01,  4.21733708e-01,\n",
              "         3.95774101e-01],\n",
              "       [ 1.28034050e+00,  9.82172869e-02,  6.49083415e-01,\n",
              "         3.95774101e-01],\n",
              "       [-4.16009689e-01, -1.74335684e+00,  1.37546573e-01,\n",
              "         1.32509732e-01],\n",
              "       [ 7.95669016e-01, -5.92373012e-01,  4.78571135e-01,\n",
              "         3.95774101e-01],\n",
              "       [-1.73673948e-01, -5.92373012e-01,  4.21733708e-01,\n",
              "         1.32509732e-01],\n",
              "       [ 5.53333275e-01,  5.58610819e-01,  5.35408562e-01,\n",
              "         5.27406285e-01],\n",
              "       [-1.14301691e+00, -1.51316008e+00, -2.60315415e-01,\n",
              "        -2.62386821e-01],\n",
              "       [ 9.16836886e-01, -3.62176246e-01,  4.78571135e-01,\n",
              "         1.32509732e-01],\n",
              "       [-7.79513300e-01, -8.22569778e-01,  8.07091462e-02,\n",
              "         2.64141916e-01],\n",
              "       [-1.02184904e+00, -2.43394714e+00, -1.46640561e-01,\n",
              "        -2.62386821e-01],\n",
              "       [ 6.86617933e-02, -1.31979479e-01,  2.51221427e-01,\n",
              "         3.95774101e-01],\n",
              "       [ 1.89829664e-01, -1.97355361e+00,  1.37546573e-01,\n",
              "        -2.62386821e-01],\n",
              "       [ 3.10997534e-01, -3.62176246e-01,  5.35408562e-01,\n",
              "         2.64141916e-01],\n",
              "       [-2.94841818e-01, -3.62176246e-01, -8.98031345e-02,\n",
              "         1.32509732e-01],\n",
              "       [ 1.03800476e+00,  9.82172869e-02,  3.64896281e-01,\n",
              "         2.64141916e-01],\n",
              "       [-2.94841818e-01, -1.31979479e-01,  4.21733708e-01,\n",
              "         3.95774101e-01],\n",
              "       [-5.25060772e-02, -8.22569778e-01,  1.94384000e-01,\n",
              "        -2.62386821e-01],\n",
              "       [ 4.32165405e-01, -1.97355361e+00,  4.21733708e-01,\n",
              "         3.95774101e-01],\n",
              "       [-2.94841818e-01, -1.28296331e+00,  8.07091462e-02,\n",
              "        -1.30754636e-01],\n",
              "       [ 6.86617933e-02,  3.28414053e-01,  5.92245988e-01,\n",
              "         7.90670654e-01],\n",
              "       [ 3.10997534e-01, -5.92373012e-01,  1.37546573e-01,\n",
              "         1.32509732e-01],\n",
              "       [ 5.53333275e-01, -1.28296331e+00,  6.49083415e-01,\n",
              "         3.95774101e-01],\n",
              "       [ 3.10997534e-01, -5.92373012e-01,  5.35408562e-01,\n",
              "         8.77547895e-04],\n",
              "       [ 6.74501145e-01, -3.62176246e-01,  3.08058854e-01,\n",
              "         1.32509732e-01],\n",
              "       [ 9.16836886e-01, -1.31979479e-01,  3.64896281e-01,\n",
              "         2.64141916e-01],\n",
              "       [ 1.15917263e+00, -5.92373012e-01,  5.92245988e-01,\n",
              "         2.64141916e-01],\n",
              "       [ 1.03800476e+00, -1.31979479e-01,  7.05920842e-01,\n",
              "         6.59038469e-01],\n",
              "       [ 1.89829664e-01, -3.62176246e-01,  4.21733708e-01,\n",
              "         3.95774101e-01],\n",
              "       [-1.73673948e-01, -1.05276654e+00, -1.46640561e-01,\n",
              "        -2.62386821e-01],\n",
              "       [-4.16009689e-01, -1.51316008e+00,  2.38717193e-02,\n",
              "        -1.30754636e-01],\n",
              "       [-4.16009689e-01, -1.51316008e+00, -3.29657076e-02,\n",
              "        -2.62386821e-01],\n",
              "       [-5.25060772e-02, -8.22569778e-01,  8.07091462e-02,\n",
              "         8.77547895e-04],\n",
              "       [ 1.89829664e-01, -8.22569778e-01,  7.62758269e-01,\n",
              "         5.27406285e-01],\n",
              "       [-5.37177559e-01, -1.31979479e-01,  4.21733708e-01,\n",
              "         3.95774101e-01],\n",
              "       [ 1.89829664e-01,  7.88807586e-01,  4.21733708e-01,\n",
              "         5.27406285e-01],\n",
              "       [ 1.03800476e+00,  9.82172869e-02,  5.35408562e-01,\n",
              "         3.95774101e-01],\n",
              "       [ 5.53333275e-01, -1.74335684e+00,  3.64896281e-01,\n",
              "         1.32509732e-01],\n",
              "       [-2.94841818e-01, -1.31979479e-01,  1.94384000e-01,\n",
              "         1.32509732e-01],\n",
              "       [-4.16009689e-01, -1.28296331e+00,  1.37546573e-01,\n",
              "         1.32509732e-01],\n",
              "       [-4.16009689e-01, -1.05276654e+00,  3.64896281e-01,\n",
              "         8.77547895e-04],\n",
              "       [ 3.10997534e-01, -1.31979479e-01,  4.78571135e-01,\n",
              "         2.64141916e-01],\n",
              "       [-5.25060772e-02, -1.05276654e+00,  1.37546573e-01,\n",
              "         8.77547895e-04],\n",
              "       [-1.02184904e+00, -1.74335684e+00, -2.60315415e-01,\n",
              "        -2.62386821e-01],\n",
              "       [-2.94841818e-01, -8.22569778e-01,  2.51221427e-01,\n",
              "         1.32509732e-01],\n",
              "       [-1.73673948e-01, -1.31979479e-01,  2.51221427e-01,\n",
              "         8.77547895e-04],\n",
              "       [-1.73673948e-01, -3.62176246e-01,  2.51221427e-01,\n",
              "         1.32509732e-01],\n",
              "       [ 4.32165405e-01, -3.62176246e-01,  3.08058854e-01,\n",
              "         1.32509732e-01],\n",
              "       [-9.00681170e-01, -1.28296331e+00, -4.30827696e-01,\n",
              "        -1.30754636e-01],\n",
              "       [-1.73673948e-01, -5.92373012e-01,  1.94384000e-01,\n",
              "         1.32509732e-01],\n",
              "       [ 5.53333275e-01,  5.58610819e-01,  1.27429511e+00,\n",
              "         1.71209594e+00],\n",
              "       [-5.25060772e-02, -8.22569778e-01,  7.62758269e-01,\n",
              "         9.22302838e-01],\n",
              "       [ 1.52267624e+00, -1.31979479e-01,  1.21745768e+00,\n",
              "         1.18556721e+00],\n",
              "       [ 5.53333275e-01, -3.62176246e-01,  1.04694540e+00,\n",
              "         7.90670654e-01],\n",
              "       [ 7.95669016e-01, -1.31979479e-01,  1.16062026e+00,\n",
              "         1.31719939e+00],\n",
              "       [ 2.12851559e+00, -1.31979479e-01,  1.61531967e+00,\n",
              "         1.18556721e+00],\n",
              "       [-1.14301691e+00, -1.28296331e+00,  4.21733708e-01,\n",
              "         6.59038469e-01],\n",
              "       [ 1.76501198e+00, -3.62176246e-01,  1.44480739e+00,\n",
              "         7.90670654e-01],\n",
              "       [ 1.03800476e+00, -1.28296331e+00,  1.16062026e+00,\n",
              "         7.90670654e-01],\n",
              "       [ 1.64384411e+00,  1.24920112e+00,  1.33113254e+00,\n",
              "         1.71209594e+00],\n",
              "       [ 7.95669016e-01,  3.28414053e-01,  7.62758269e-01,\n",
              "         1.05393502e+00],\n",
              "       [ 6.74501145e-01, -8.22569778e-01,  8.76433123e-01,\n",
              "         9.22302838e-01],\n",
              "       [ 1.15917263e+00, -1.31979479e-01,  9.90107977e-01,\n",
              "         1.18556721e+00],\n",
              "       [-1.73673948e-01, -1.28296331e+00,  7.05920842e-01,\n",
              "         1.05393502e+00],\n",
              "       [-5.25060772e-02, -5.92373012e-01,  7.62758269e-01,\n",
              "         1.58046376e+00],\n",
              "       [ 6.74501145e-01,  3.28414053e-01,  8.76433123e-01,\n",
              "         1.44883158e+00],\n",
              "       [ 7.95669016e-01, -1.31979479e-01,  9.90107977e-01,\n",
              "         7.90670654e-01],\n",
              "       [ 2.24968346e+00,  1.70959465e+00,  1.67215710e+00,\n",
              "         1.31719939e+00],\n",
              "       [ 2.24968346e+00, -1.05276654e+00,  1.78583195e+00,\n",
              "         1.44883158e+00],\n",
              "       [ 1.89829664e-01, -1.97355361e+00,  7.05920842e-01,\n",
              "         3.95774101e-01],\n",
              "       [ 1.28034050e+00,  3.28414053e-01,  1.10378283e+00,\n",
              "         1.44883158e+00],\n",
              "       [-2.94841818e-01, -5.92373012e-01,  6.49083415e-01,\n",
              "         1.05393502e+00],\n",
              "       [ 2.24968346e+00, -5.92373012e-01,  1.67215710e+00,\n",
              "         1.05393502e+00],\n",
              "       [ 5.53333275e-01, -8.22569778e-01,  6.49083415e-01,\n",
              "         7.90670654e-01],\n",
              "       [ 1.03800476e+00,  5.58610819e-01,  1.10378283e+00,\n",
              "         1.18556721e+00],\n",
              "       [ 1.64384411e+00,  3.28414053e-01,  1.27429511e+00,\n",
              "         7.90670654e-01],\n",
              "       [ 4.32165405e-01, -5.92373012e-01,  5.92245988e-01,\n",
              "         7.90670654e-01],\n",
              "       [ 3.10997534e-01, -1.31979479e-01,  6.49083415e-01,\n",
              "         7.90670654e-01],\n",
              "       [ 6.74501145e-01, -5.92373012e-01,  1.04694540e+00,\n",
              "         1.18556721e+00],\n",
              "       [ 1.64384411e+00, -1.31979479e-01,  1.16062026e+00,\n",
              "         5.27406285e-01],\n",
              "       [ 1.88617985e+00, -5.92373012e-01,  1.33113254e+00,\n",
              "         9.22302838e-01],\n",
              "       [ 2.49201920e+00,  1.70959465e+00,  1.50164482e+00,\n",
              "         1.05393502e+00],\n",
              "       [ 6.74501145e-01, -5.92373012e-01,  1.04694540e+00,\n",
              "         1.31719939e+00],\n",
              "       [ 5.53333275e-01, -5.92373012e-01,  7.62758269e-01,\n",
              "         3.95774101e-01],\n",
              "       [ 3.10997534e-01, -1.05276654e+00,  1.04694540e+00,\n",
              "         2.64141916e-01],\n",
              "       [ 2.24968346e+00, -1.31979479e-01,  1.33113254e+00,\n",
              "         1.44883158e+00],\n",
              "       [ 5.53333275e-01,  7.88807586e-01,  1.04694540e+00,\n",
              "         1.58046376e+00],\n",
              "       [ 6.74501145e-01,  9.82172869e-02,  9.90107977e-01,\n",
              "         7.90670654e-01],\n",
              "       [ 1.89829664e-01, -1.31979479e-01,  5.92245988e-01,\n",
              "         7.90670654e-01],\n",
              "       [ 1.28034050e+00,  9.82172869e-02,  9.33270550e-01,\n",
              "         1.18556721e+00],\n",
              "       [ 1.03800476e+00,  9.82172869e-02,  1.04694540e+00,\n",
              "         1.58046376e+00],\n",
              "       [ 1.28034050e+00,  9.82172869e-02,  7.62758269e-01,\n",
              "         1.44883158e+00],\n",
              "       [-5.25060772e-02, -8.22569778e-01,  7.62758269e-01,\n",
              "         9.22302838e-01],\n",
              "       [ 1.15917263e+00,  3.28414053e-01,  1.21745768e+00,\n",
              "         1.44883158e+00],\n",
              "       [ 1.03800476e+00,  5.58610819e-01,  1.10378283e+00,\n",
              "         1.71209594e+00],\n",
              "       [ 1.03800476e+00, -1.31979479e-01,  8.19595696e-01,\n",
              "         1.44883158e+00],\n",
              "       [ 5.53333275e-01, -1.28296331e+00,  7.05920842e-01,\n",
              "         9.22302838e-01],\n",
              "       [ 7.95669016e-01, -1.31979479e-01,  8.19595696e-01,\n",
              "         1.05393502e+00],\n",
              "       [ 4.32165405e-01,  7.88807586e-01,  9.33270550e-01,\n",
              "         1.44883158e+00],\n",
              "       [ 6.86617933e-02, -1.31979479e-01,  7.62758269e-01,\n",
              "         7.90670654e-01]])"
            ]
          },
          "execution_count": 69,
          "metadata": {},
          "output_type": "execute_result"
        }
      ],
      "source": [
        "# Standard 스케일 적용\n",
        "# 변수명 = StandardScaler()\n",
        "\n",
        "# 객체 생성\n",
        "scaler_st = StandardScaler()\n",
        "type(scaler_st)\n",
        "\n",
        "# 입력데이터 적용\n",
        "scaler_st.fit(df_iris)\n",
        "\n",
        "# 데이터 변환 후 저장 → 넘파이 출력\n",
        "df_iris_scale1 = scaler_st.transform(df_iris)\n",
        "df_iris_scale1"
      ]
    },
    {
      "cell_type": "code",
      "execution_count": null,
      "id": "31032ba6",
      "metadata": {
        "id": "31032ba6",
        "outputId": "23618550-eff2-437c-9f47-439818925a0b"
      },
      "outputs": [
        {
          "data": {
            "text/html": [
              "<div>\n",
              "<style scoped>\n",
              "    .dataframe tbody tr th:only-of-type {\n",
              "        vertical-align: middle;\n",
              "    }\n",
              "\n",
              "    .dataframe tbody tr th {\n",
              "        vertical-align: top;\n",
              "    }\n",
              "\n",
              "    .dataframe thead th {\n",
              "        text-align: right;\n",
              "    }\n",
              "</style>\n",
              "<table border=\"1\" class=\"dataframe\">\n",
              "  <thead>\n",
              "    <tr style=\"text-align: right;\">\n",
              "      <th></th>\n",
              "      <th>sepal length (cm)</th>\n",
              "      <th>sepal width (cm)</th>\n",
              "      <th>petal length (cm)</th>\n",
              "      <th>petal width (cm)</th>\n",
              "    </tr>\n",
              "  </thead>\n",
              "  <tbody>\n",
              "    <tr>\n",
              "      <th>0</th>\n",
              "      <td>-0.900681</td>\n",
              "      <td>1.019004</td>\n",
              "      <td>-1.340227</td>\n",
              "      <td>-1.315444</td>\n",
              "    </tr>\n",
              "    <tr>\n",
              "      <th>1</th>\n",
              "      <td>-1.143017</td>\n",
              "      <td>-0.131979</td>\n",
              "      <td>-1.340227</td>\n",
              "      <td>-1.315444</td>\n",
              "    </tr>\n",
              "    <tr>\n",
              "      <th>2</th>\n",
              "      <td>-1.385353</td>\n",
              "      <td>0.328414</td>\n",
              "      <td>-1.397064</td>\n",
              "      <td>-1.315444</td>\n",
              "    </tr>\n",
              "    <tr>\n",
              "      <th>3</th>\n",
              "      <td>-1.506521</td>\n",
              "      <td>0.098217</td>\n",
              "      <td>-1.283389</td>\n",
              "      <td>-1.315444</td>\n",
              "    </tr>\n",
              "    <tr>\n",
              "      <th>4</th>\n",
              "      <td>-1.021849</td>\n",
              "      <td>1.249201</td>\n",
              "      <td>-1.340227</td>\n",
              "      <td>-1.315444</td>\n",
              "    </tr>\n",
              "    <tr>\n",
              "      <th>...</th>\n",
              "      <td>...</td>\n",
              "      <td>...</td>\n",
              "      <td>...</td>\n",
              "      <td>...</td>\n",
              "    </tr>\n",
              "    <tr>\n",
              "      <th>145</th>\n",
              "      <td>1.038005</td>\n",
              "      <td>-0.131979</td>\n",
              "      <td>0.819596</td>\n",
              "      <td>1.448832</td>\n",
              "    </tr>\n",
              "    <tr>\n",
              "      <th>146</th>\n",
              "      <td>0.553333</td>\n",
              "      <td>-1.282963</td>\n",
              "      <td>0.705921</td>\n",
              "      <td>0.922303</td>\n",
              "    </tr>\n",
              "    <tr>\n",
              "      <th>147</th>\n",
              "      <td>0.795669</td>\n",
              "      <td>-0.131979</td>\n",
              "      <td>0.819596</td>\n",
              "      <td>1.053935</td>\n",
              "    </tr>\n",
              "    <tr>\n",
              "      <th>148</th>\n",
              "      <td>0.432165</td>\n",
              "      <td>0.788808</td>\n",
              "      <td>0.933271</td>\n",
              "      <td>1.448832</td>\n",
              "    </tr>\n",
              "    <tr>\n",
              "      <th>149</th>\n",
              "      <td>0.068662</td>\n",
              "      <td>-0.131979</td>\n",
              "      <td>0.762758</td>\n",
              "      <td>0.790671</td>\n",
              "    </tr>\n",
              "  </tbody>\n",
              "</table>\n",
              "<p>150 rows × 4 columns</p>\n",
              "</div>"
            ],
            "text/plain": [
              "     sepal length (cm)  sepal width (cm)  petal length (cm)  petal width (cm)\n",
              "0            -0.900681          1.019004          -1.340227         -1.315444\n",
              "1            -1.143017         -0.131979          -1.340227         -1.315444\n",
              "2            -1.385353          0.328414          -1.397064         -1.315444\n",
              "3            -1.506521          0.098217          -1.283389         -1.315444\n",
              "4            -1.021849          1.249201          -1.340227         -1.315444\n",
              "..                 ...               ...                ...               ...\n",
              "145           1.038005         -0.131979           0.819596          1.448832\n",
              "146           0.553333         -1.282963           0.705921          0.922303\n",
              "147           0.795669         -0.131979           0.819596          1.053935\n",
              "148           0.432165          0.788808           0.933271          1.448832\n",
              "149           0.068662         -0.131979           0.762758          0.790671\n",
              "\n",
              "[150 rows x 4 columns]"
            ]
          },
          "execution_count": 70,
          "metadata": {},
          "output_type": "execute_result"
        }
      ],
      "source": [
        "# 데이터프레임\n",
        "\n",
        "df_iris_scale1 = pd.DataFrame(df_iris_scale1)\n",
        "df_iris_scale1.columns = iris.feature_names\n",
        "df_iris_scale1"
      ]
    },
    {
      "cell_type": "code",
      "execution_count": null,
      "id": "e8f0cfa0",
      "metadata": {
        "id": "e8f0cfa0",
        "outputId": "4706593b-a7e9-4742-f705-10e096c8d2a7"
      },
      "outputs": [
        {
          "data": {
            "text/html": [
              "<div>\n",
              "<style scoped>\n",
              "    .dataframe tbody tr th:only-of-type {\n",
              "        vertical-align: middle;\n",
              "    }\n",
              "\n",
              "    .dataframe tbody tr th {\n",
              "        vertical-align: top;\n",
              "    }\n",
              "\n",
              "    .dataframe thead th {\n",
              "        text-align: right;\n",
              "    }\n",
              "</style>\n",
              "<table border=\"1\" class=\"dataframe\">\n",
              "  <thead>\n",
              "    <tr style=\"text-align: right;\">\n",
              "      <th></th>\n",
              "      <th>sepal length (cm)</th>\n",
              "      <th>sepal width (cm)</th>\n",
              "      <th>petal length (cm)</th>\n",
              "      <th>petal width (cm)</th>\n",
              "      <th>label</th>\n",
              "    </tr>\n",
              "  </thead>\n",
              "  <tbody>\n",
              "    <tr>\n",
              "      <th>47</th>\n",
              "      <td>-1.506521</td>\n",
              "      <td>0.328414</td>\n",
              "      <td>-1.340227</td>\n",
              "      <td>-1.315444</td>\n",
              "      <td>0</td>\n",
              "    </tr>\n",
              "    <tr>\n",
              "      <th>0</th>\n",
              "      <td>-0.900681</td>\n",
              "      <td>1.019004</td>\n",
              "      <td>-1.340227</td>\n",
              "      <td>-1.315444</td>\n",
              "      <td>0</td>\n",
              "    </tr>\n",
              "  </tbody>\n",
              "</table>\n",
              "</div>"
            ],
            "text/plain": [
              "    sepal length (cm)  sepal width (cm)  petal length (cm)  petal width (cm)  \\\n",
              "47          -1.506521          0.328414          -1.340227         -1.315444   \n",
              "0           -0.900681          1.019004          -1.340227         -1.315444   \n",
              "\n",
              "    label  \n",
              "47      0  \n",
              "0       0  "
            ]
          },
          "execution_count": 71,
          "metadata": {},
          "output_type": "execute_result"
        }
      ],
      "source": [
        "# 라벨 추가\n",
        "\n",
        "df_iris_scale1['label'] = iris_label\n",
        "df_iris_scale1.sample(2)"
      ]
    },
    {
      "cell_type": "code",
      "execution_count": null,
      "id": "e8ddd35a",
      "metadata": {
        "id": "e8ddd35a",
        "outputId": "26f1e668-fc9a-4e14-9486-93a281a4b749"
      },
      "outputs": [
        {
          "data": {
            "text/plain": [
              "KNeighborsClassifier()"
            ]
          },
          "execution_count": 72,
          "metadata": {},
          "output_type": "execute_result"
        }
      ],
      "source": [
        "# 모델 적용 → 평가점수 확인 1\n",
        "\n",
        "# 학습데이터\n",
        "X = df_iris_scale1\n",
        "y = iris_label\n",
        "\n",
        "X_train , X_test , y_train , y_test = train_test_split( X , y )\n",
        "\n",
        "\n",
        "model_knn = KNeighborsClassifier()\n",
        "model_knn.fit(X_train , y_train)"
      ]
    },
    {
      "cell_type": "code",
      "execution_count": null,
      "id": "8cca89ca",
      "metadata": {
        "id": "8cca89ca",
        "outputId": "736a61b0-d974-4955-b479-891429afeaf3"
      },
      "outputs": [
        {
          "data": {
            "text/plain": [
              "1.0"
            ]
          },
          "execution_count": 73,
          "metadata": {},
          "output_type": "execute_result"
        }
      ],
      "source": [
        "# 정답에 대한 예측?\n",
        "\n",
        "accuracy_score(y_test , model_knn.predict(X_test))"
      ]
    },
    {
      "cell_type": "code",
      "execution_count": null,
      "id": "f478c4a9",
      "metadata": {
        "id": "f478c4a9",
        "outputId": "d48d4aa1-903e-4b2d-f814-71d63d4f785e"
      },
      "outputs": [
        {
          "data": {
            "text/plain": [
              "0.9736842105263158"
            ]
          },
          "execution_count": 105,
          "metadata": {},
          "output_type": "execute_result"
        }
      ],
      "source": [
        "# 모델 적용 → 평가점수 확인 2 \n",
        "\n",
        "# 학습데이터\n",
        "X = df_iris_scale1\n",
        "y = iris_label\n",
        "\n",
        "X_train , X_test , y_train , y_test = train_test_split( X , y , \n",
        "                                                       random_state=11, \n",
        "                                                       stratify=y)\n",
        "\n",
        "\n",
        "model_knn = KNeighborsClassifier()\n",
        "model_knn.fit(X_train , y_train)\n",
        "\n",
        "# 정답에 대한 예측?\n",
        "\n",
        "accuracy_score(y_test , model_knn.predict(X_test))"
      ]
    },
    {
      "cell_type": "markdown",
      "id": "a640e266",
      "metadata": {
        "id": "a640e266"
      },
      "source": [
        "## MinMaxScaler\n",
        ">### 데이타값을 0과 1 사이의 범위값으로 변환한다. 음수값이 있으면 -1에서 1값으로 변환한다.\n",
        "\n",
        "- 관련 모듈 임포트 \n",
        "     - from sklearn.preprocessing import MinMaxScaler\n",
        "\n",
        "\n",
        "- 적용과정 \n",
        "    - scaler = MinMaxScaler()\n",
        "    - scaler.fit(Data)\n",
        "    - Data_scaled = scaler.transform(Data)"
      ]
    },
    {
      "cell_type": "code",
      "execution_count": null,
      "id": "4edee112",
      "metadata": {
        "id": "4edee112"
      },
      "outputs": [],
      "source": [
        "# 객체 생성 \n",
        "scaler_m = MinMaxScaler() \n",
        "\n",
        "# 입력 데이터 적용 \n",
        "scaler_m.fit(df_iris) \n",
        "\n",
        "# 데이타 변환 후 저장 → 넘파이 배열 \n",
        "df_iris_scale2 = scaler_m.transform(df_iris)\n",
        "# df_iris_scale2"
      ]
    },
    {
      "cell_type": "code",
      "execution_count": null,
      "id": "febae623",
      "metadata": {
        "id": "febae623",
        "outputId": "a9de8504-bbb9-42aa-c6f8-15447af97473"
      },
      "outputs": [
        {
          "data": {
            "text/html": [
              "<div>\n",
              "<style scoped>\n",
              "    .dataframe tbody tr th:only-of-type {\n",
              "        vertical-align: middle;\n",
              "    }\n",
              "\n",
              "    .dataframe tbody tr th {\n",
              "        vertical-align: top;\n",
              "    }\n",
              "\n",
              "    .dataframe thead th {\n",
              "        text-align: right;\n",
              "    }\n",
              "</style>\n",
              "<table border=\"1\" class=\"dataframe\">\n",
              "  <thead>\n",
              "    <tr style=\"text-align: right;\">\n",
              "      <th></th>\n",
              "      <th>sepal length (cm)</th>\n",
              "      <th>sepal width (cm)</th>\n",
              "      <th>petal length (cm)</th>\n",
              "      <th>petal width (cm)</th>\n",
              "    </tr>\n",
              "  </thead>\n",
              "  <tbody>\n",
              "    <tr>\n",
              "      <th>0</th>\n",
              "      <td>0.222222</td>\n",
              "      <td>0.625000</td>\n",
              "      <td>0.067797</td>\n",
              "      <td>0.041667</td>\n",
              "    </tr>\n",
              "    <tr>\n",
              "      <th>1</th>\n",
              "      <td>0.166667</td>\n",
              "      <td>0.416667</td>\n",
              "      <td>0.067797</td>\n",
              "      <td>0.041667</td>\n",
              "    </tr>\n",
              "    <tr>\n",
              "      <th>2</th>\n",
              "      <td>0.111111</td>\n",
              "      <td>0.500000</td>\n",
              "      <td>0.050847</td>\n",
              "      <td>0.041667</td>\n",
              "    </tr>\n",
              "    <tr>\n",
              "      <th>3</th>\n",
              "      <td>0.083333</td>\n",
              "      <td>0.458333</td>\n",
              "      <td>0.084746</td>\n",
              "      <td>0.041667</td>\n",
              "    </tr>\n",
              "    <tr>\n",
              "      <th>4</th>\n",
              "      <td>0.194444</td>\n",
              "      <td>0.666667</td>\n",
              "      <td>0.067797</td>\n",
              "      <td>0.041667</td>\n",
              "    </tr>\n",
              "    <tr>\n",
              "      <th>...</th>\n",
              "      <td>...</td>\n",
              "      <td>...</td>\n",
              "      <td>...</td>\n",
              "      <td>...</td>\n",
              "    </tr>\n",
              "    <tr>\n",
              "      <th>145</th>\n",
              "      <td>0.666667</td>\n",
              "      <td>0.416667</td>\n",
              "      <td>0.711864</td>\n",
              "      <td>0.916667</td>\n",
              "    </tr>\n",
              "    <tr>\n",
              "      <th>146</th>\n",
              "      <td>0.555556</td>\n",
              "      <td>0.208333</td>\n",
              "      <td>0.677966</td>\n",
              "      <td>0.750000</td>\n",
              "    </tr>\n",
              "    <tr>\n",
              "      <th>147</th>\n",
              "      <td>0.611111</td>\n",
              "      <td>0.416667</td>\n",
              "      <td>0.711864</td>\n",
              "      <td>0.791667</td>\n",
              "    </tr>\n",
              "    <tr>\n",
              "      <th>148</th>\n",
              "      <td>0.527778</td>\n",
              "      <td>0.583333</td>\n",
              "      <td>0.745763</td>\n",
              "      <td>0.916667</td>\n",
              "    </tr>\n",
              "    <tr>\n",
              "      <th>149</th>\n",
              "      <td>0.444444</td>\n",
              "      <td>0.416667</td>\n",
              "      <td>0.694915</td>\n",
              "      <td>0.708333</td>\n",
              "    </tr>\n",
              "  </tbody>\n",
              "</table>\n",
              "<p>150 rows × 4 columns</p>\n",
              "</div>"
            ],
            "text/plain": [
              "     sepal length (cm)  sepal width (cm)  petal length (cm)  petal width (cm)\n",
              "0             0.222222          0.625000           0.067797          0.041667\n",
              "1             0.166667          0.416667           0.067797          0.041667\n",
              "2             0.111111          0.500000           0.050847          0.041667\n",
              "3             0.083333          0.458333           0.084746          0.041667\n",
              "4             0.194444          0.666667           0.067797          0.041667\n",
              "..                 ...               ...                ...               ...\n",
              "145           0.666667          0.416667           0.711864          0.916667\n",
              "146           0.555556          0.208333           0.677966          0.750000\n",
              "147           0.611111          0.416667           0.711864          0.791667\n",
              "148           0.527778          0.583333           0.745763          0.916667\n",
              "149           0.444444          0.416667           0.694915          0.708333\n",
              "\n",
              "[150 rows x 4 columns]"
            ]
          },
          "execution_count": 108,
          "metadata": {},
          "output_type": "execute_result"
        }
      ],
      "source": [
        "df_iris_scale2 = pd.DataFrame(df_iris_scale2)\n",
        "df_iris_scale2.columns = iris.feature_names\n",
        "df_iris_scale2"
      ]
    },
    {
      "cell_type": "code",
      "execution_count": null,
      "id": "3f139371",
      "metadata": {
        "id": "3f139371",
        "outputId": "79b5918a-2bed-4ba9-8950-003ff1f422d3"
      },
      "outputs": [
        {
          "data": {
            "text/plain": [
              "KNeighborsClassifier()"
            ]
          },
          "execution_count": 109,
          "metadata": {},
          "output_type": "execute_result"
        }
      ],
      "source": [
        "# 모델 적용 → 평가점수 확인 2 \n",
        "\n",
        "# 학습데이터\n",
        "X = df_iris_scale1\n",
        "y = iris_label\n",
        "\n",
        "X_train , X_test , y_train , y_test = train_test_split( X , y , \n",
        "                                                       random_state=11, \n",
        "                                                       stratify=y)\n",
        "\n",
        "\n",
        "model_knn = KNeighborsClassifier()\n",
        "model_knn.fit(X_train , y_train)"
      ]
    },
    {
      "cell_type": "code",
      "execution_count": null,
      "id": "7c2f7f36",
      "metadata": {
        "id": "7c2f7f36",
        "outputId": "dd210ad9-0573-4400-b3b5-13a28dba4c4b"
      },
      "outputs": [
        {
          "data": {
            "text/plain": [
              "0.9736842105263158"
            ]
          },
          "execution_count": 110,
          "metadata": {},
          "output_type": "execute_result"
        }
      ],
      "source": [
        "# 정답에 대한 예측?\n",
        "accuracy_score(y_test , model_knn.predict(X_test))"
      ]
    },
    {
      "cell_type": "markdown",
      "id": "3edf2a36",
      "metadata": {
        "id": "3edf2a36"
      },
      "source": [
        "### 스케일전 상태 원본 데이터를 이용해서 학습 및 평가 테스트"
      ]
    },
    {
      "cell_type": "code",
      "execution_count": null,
      "id": "d01ded44",
      "metadata": {
        "id": "d01ded44",
        "outputId": "c6ee02c0-5d9e-4d3c-9485-1776f18fba8a"
      },
      "outputs": [
        {
          "data": {
            "text/plain": [
              "0.9736842105263158"
            ]
          },
          "execution_count": 111,
          "metadata": {},
          "output_type": "execute_result"
        }
      ],
      "source": [
        "X = df_iris\n",
        "y = df_iris_scale1['label']\n",
        "X_train, X_test, y_train, y_test = train_test_split( X, y, \n",
        "                                                    random_state=11, \n",
        "                                                    stratify=y )\n",
        "\n",
        "model_knn = KNeighborsClassifier()\n",
        "model_knn.fit(X_train, y_train)\n",
        "accuracy_score(y_test, model_knn.predict(X_test))"
      ]
    },
    {
      "cell_type": "code",
      "execution_count": null,
      "id": "68f1c7d3",
      "metadata": {
        "id": "68f1c7d3",
        "outputId": "94df6fb1-e0f2-4d8c-e9e4-2b587b39d22d"
      },
      "outputs": [
        {
          "data": {
            "text/html": [
              "<div>\n",
              "<style scoped>\n",
              "    .dataframe tbody tr th:only-of-type {\n",
              "        vertical-align: middle;\n",
              "    }\n",
              "\n",
              "    .dataframe tbody tr th {\n",
              "        vertical-align: top;\n",
              "    }\n",
              "\n",
              "    .dataframe thead th {\n",
              "        text-align: right;\n",
              "    }\n",
              "</style>\n",
              "<table border=\"1\" class=\"dataframe\">\n",
              "  <thead>\n",
              "    <tr style=\"text-align: right;\">\n",
              "      <th></th>\n",
              "      <th>sepal length (cm)</th>\n",
              "      <th>sepal width (cm)</th>\n",
              "      <th>petal length (cm)</th>\n",
              "      <th>petal width (cm)</th>\n",
              "    </tr>\n",
              "  </thead>\n",
              "  <tbody>\n",
              "    <tr>\n",
              "      <th>0</th>\n",
              "      <td>5.1</td>\n",
              "      <td>3.5</td>\n",
              "      <td>1.4</td>\n",
              "      <td>0.2</td>\n",
              "    </tr>\n",
              "    <tr>\n",
              "      <th>1</th>\n",
              "      <td>4.9</td>\n",
              "      <td>3.0</td>\n",
              "      <td>1.4</td>\n",
              "      <td>0.2</td>\n",
              "    </tr>\n",
              "    <tr>\n",
              "      <th>2</th>\n",
              "      <td>4.7</td>\n",
              "      <td>3.2</td>\n",
              "      <td>1.3</td>\n",
              "      <td>0.2</td>\n",
              "    </tr>\n",
              "    <tr>\n",
              "      <th>3</th>\n",
              "      <td>4.6</td>\n",
              "      <td>3.1</td>\n",
              "      <td>1.5</td>\n",
              "      <td>0.2</td>\n",
              "    </tr>\n",
              "    <tr>\n",
              "      <th>4</th>\n",
              "      <td>5.0</td>\n",
              "      <td>3.6</td>\n",
              "      <td>1.4</td>\n",
              "      <td>0.2</td>\n",
              "    </tr>\n",
              "    <tr>\n",
              "      <th>...</th>\n",
              "      <td>...</td>\n",
              "      <td>...</td>\n",
              "      <td>...</td>\n",
              "      <td>...</td>\n",
              "    </tr>\n",
              "    <tr>\n",
              "      <th>145</th>\n",
              "      <td>6.7</td>\n",
              "      <td>3.0</td>\n",
              "      <td>5.2</td>\n",
              "      <td>2.3</td>\n",
              "    </tr>\n",
              "    <tr>\n",
              "      <th>146</th>\n",
              "      <td>6.3</td>\n",
              "      <td>2.5</td>\n",
              "      <td>5.0</td>\n",
              "      <td>1.9</td>\n",
              "    </tr>\n",
              "    <tr>\n",
              "      <th>147</th>\n",
              "      <td>6.5</td>\n",
              "      <td>3.0</td>\n",
              "      <td>5.2</td>\n",
              "      <td>2.0</td>\n",
              "    </tr>\n",
              "    <tr>\n",
              "      <th>148</th>\n",
              "      <td>6.2</td>\n",
              "      <td>3.4</td>\n",
              "      <td>5.4</td>\n",
              "      <td>2.3</td>\n",
              "    </tr>\n",
              "    <tr>\n",
              "      <th>149</th>\n",
              "      <td>5.9</td>\n",
              "      <td>3.0</td>\n",
              "      <td>5.1</td>\n",
              "      <td>1.8</td>\n",
              "    </tr>\n",
              "  </tbody>\n",
              "</table>\n",
              "<p>150 rows × 4 columns</p>\n",
              "</div>"
            ],
            "text/plain": [
              "     sepal length (cm)  sepal width (cm)  petal length (cm)  petal width (cm)\n",
              "0                  5.1               3.5                1.4               0.2\n",
              "1                  4.9               3.0                1.4               0.2\n",
              "2                  4.7               3.2                1.3               0.2\n",
              "3                  4.6               3.1                1.5               0.2\n",
              "4                  5.0               3.6                1.4               0.2\n",
              "..                 ...               ...                ...               ...\n",
              "145                6.7               3.0                5.2               2.3\n",
              "146                6.3               2.5                5.0               1.9\n",
              "147                6.5               3.0                5.2               2.0\n",
              "148                6.2               3.4                5.4               2.3\n",
              "149                5.9               3.0                5.1               1.8\n",
              "\n",
              "[150 rows x 4 columns]"
            ]
          },
          "execution_count": 112,
          "metadata": {},
          "output_type": "execute_result"
        }
      ],
      "source": [
        "X"
      ]
    },
    {
      "cell_type": "markdown",
      "id": "b1c153f3",
      "metadata": {
        "id": "b1c153f3"
      },
      "source": [
        "### 스케일링 변환시 주의 사항\n",
        "\n",
        "- 가능하다면 전체 데이터의 스케일링 변환을 적용한 뒤 학습과 테스트 데이터로 분리한다.\n",
        "- 여의치 않다면 테스트 데이터 변환시에는 fit(), fit_transform()을 적용하지 않고\n",
        "- 학습 데이터로 이미 fit()된 Scaler 객체를 이용해 transform() 으로 변경한다."
      ]
    },
    {
      "cell_type": "code",
      "execution_count": null,
      "id": "c9e1826d",
      "metadata": {
        "id": "c9e1826d",
        "outputId": "0c5fb8d5-b757-45ab-a4e2-591f5a0e36c3"
      },
      "outputs": [
        {
          "name": "stdout",
          "output_type": "stream",
          "text": [
            "[[ 0]\n",
            " [ 1]\n",
            " [ 2]\n",
            " [ 3]\n",
            " [ 4]\n",
            " [ 5]\n",
            " [ 6]\n",
            " [ 7]\n",
            " [ 8]\n",
            " [ 9]\n",
            " [10]]\n",
            "\n",
            "[[0]\n",
            " [1]\n",
            " [2]\n",
            " [3]\n",
            " [4]\n",
            " [5]]\n"
          ]
        }
      ],
      "source": [
        "# 테스트 데이터 준비\n",
        "train_array = np.arange(0, 11).reshape(-1, 1)\n",
        "test_array = np.arange(0, 6).reshape(-1, 1)\n",
        "\n",
        "print(train_array)\n",
        "print()\n",
        "print(test_array)"
      ]
    },
    {
      "cell_type": "code",
      "execution_count": null,
      "id": "413ed8e4",
      "metadata": {
        "id": "413ed8e4",
        "outputId": "65740a60-7ff8-4129-8c94-5cb1fcde5f04"
      },
      "outputs": [
        {
          "name": "stdout",
          "output_type": "stream",
          "text": [
            "2 /  (6, 1)\n",
            "2 /  (11, 1)\n"
          ]
        }
      ],
      "source": [
        "print(test_array.ndim, '/ ' , test_array.shape)\n",
        "print(train_array.ndim, '/ ' , train_array.shape)"
      ]
    },
    {
      "cell_type": "code",
      "execution_count": null,
      "id": "67fde6cc",
      "metadata": {
        "id": "67fde6cc",
        "outputId": "e6045f37-a2ba-4276-be2d-3aaa1cb3c4a3"
      },
      "outputs": [
        {
          "data": {
            "text/plain": [
              "array([[0. ],\n",
              "       [0.1],\n",
              "       [0.2],\n",
              "       [0.3],\n",
              "       [0.4],\n",
              "       [0.5],\n",
              "       [0.6],\n",
              "       [0.7],\n",
              "       [0.8],\n",
              "       [0.9],\n",
              "       [1. ]])"
            ]
          },
          "execution_count": 118,
          "metadata": {},
          "output_type": "execute_result"
        }
      ],
      "source": [
        "# MinMax Scaler 적용\n",
        "\n",
        "\n",
        "# 객체 생성 \n",
        "scaler_m = MinMaxScaler() \n",
        "\n",
        "# 입력 데이터 적용 \n",
        "scaler_m.fit(train_array) \n",
        "\n",
        "# 데이타 변환 후 저장 → 넘파이 배열 \n",
        "train_array_scale = scaler_m.transform(train_array)\n",
        "train_array_scale"
      ]
    },
    {
      "cell_type": "code",
      "execution_count": null,
      "id": "114cb824",
      "metadata": {
        "id": "114cb824",
        "outputId": "33f5b874-7a25-43ab-f84e-5afa2e2d06ef"
      },
      "outputs": [
        {
          "name": "stdout",
          "output_type": "stream",
          "text": [
            "[[ 0]\n",
            " [ 1]\n",
            " [ 2]\n",
            " [ 3]\n",
            " [ 4]\n",
            " [ 5]\n",
            " [ 6]\n",
            " [ 7]\n",
            " [ 8]\n",
            " [ 9]\n",
            " [10]]\n",
            "\n",
            "[[0. ]\n",
            " [0.1]\n",
            " [0.2]\n",
            " [0.3]\n",
            " [0.4]\n",
            " [0.5]\n",
            " [0.6]\n",
            " [0.7]\n",
            " [0.8]\n",
            " [0.9]\n",
            " [1. ]]\n"
          ]
        }
      ],
      "source": [
        "print(train_array)\n",
        "print()\n",
        "print(train_array_scale)"
      ]
    },
    {
      "cell_type": "code",
      "execution_count": null,
      "id": "ecc05fa7",
      "metadata": {
        "id": "ecc05fa7",
        "outputId": "0fd0399e-8b0f-4086-865b-4031e10c65a1"
      },
      "outputs": [
        {
          "name": "stdout",
          "output_type": "stream",
          "text": [
            "[[0]\n",
            " [1]\n",
            " [2]\n",
            " [3]\n",
            " [4]\n",
            " [5]]\n",
            "\n",
            "[[0. ]\n",
            " [0.2]\n",
            " [0.4]\n",
            " [0.6]\n",
            " [0.8]\n",
            " [1. ]]\n"
          ]
        }
      ],
      "source": [
        "# 스케일러 변환기를 이용해서 다시 test 데이터로 입력데이터 넣고 다시 변형한다면 ?\n",
        "# 1/5 로 축소\n",
        "\n",
        "scaler_m = MinMaxScaler() \n",
        "\n",
        "# 입력 데이터 적용 \n",
        "scaler_m.fit(test_array) \n",
        "test_array_scale = scaler_m.transform(test_array)\n",
        "test_array_scale\n",
        "\n",
        "print(test_array)\n",
        "print()\n",
        "print(test_array_scale)"
      ]
    },
    {
      "cell_type": "markdown",
      "id": "d97ca38d",
      "metadata": {
        "id": "d97ca38d"
      },
      "source": [
        "### 결론 \n",
        "\n",
        "#### 가능하다면 전체 데이터의 스케일링 변환을 적용한 뒤 학습과 테스트 데이터로 분리"
      ]
    },
    {
      "cell_type": "code",
      "execution_count": null,
      "id": "cfdd4e77",
      "metadata": {
        "id": "cfdd4e77",
        "outputId": "68f8c3f5-174e-4870-fc07-d478145be7d0"
      },
      "outputs": [
        {
          "name": "stdout",
          "output_type": "stream",
          "text": [
            "[[0. ]\n",
            " [0.1]\n",
            " [0.2]\n",
            " [0.3]\n",
            " [0.4]\n",
            " [0.5]\n",
            " [0.6]\n",
            " [0.7]\n",
            " [0.8]\n",
            " [0.9]\n",
            " [1. ]]\n",
            "\n",
            "[[0. ]\n",
            " [0.1]\n",
            " [0.2]\n",
            " [0.3]\n",
            " [0.4]\n",
            " [0.5]]\n"
          ]
        }
      ],
      "source": [
        "### 학습 데이터의 스케일 비율을 그대로 이용하려면?\n",
        "\n",
        "# 객체 생성 \n",
        "scaler_m = MinMaxScaler() \n",
        "\n",
        "# 입력 데이터 적용 \n",
        "scaler_m.fit(train_array) \n",
        "\n",
        "train_array_scale = scaler_m.transform(train_array)\n",
        "\n",
        "# 데이타 변환 후 저장 → 넘파이 배열 \n",
        "# fit() 과정없이 바로 transform()\n",
        "\n",
        "test_array_scale = scaler_m.transform(test_array)\n",
        "\n",
        "print(train_array_scale)\n",
        "print()\n",
        "print(test_array_scale)"
      ]
    }
  ],
  "metadata": {
    "kernelspec": {
      "display_name": "Python 3 (ipykernel)",
      "language": "python",
      "name": "python3"
    },
    "language_info": {
      "codemirror_mode": {
        "name": "ipython",
        "version": 3
      },
      "file_extension": ".py",
      "mimetype": "text/x-python",
      "name": "python",
      "nbconvert_exporter": "python",
      "pygments_lexer": "ipython3",
      "version": "3.9.12"
    },
    "colab": {
      "provenance": [],
      "include_colab_link": true
    }
  },
  "nbformat": 4,
  "nbformat_minor": 5
}