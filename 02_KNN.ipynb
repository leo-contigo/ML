{
  "cells": [
    {
      "cell_type": "markdown",
      "metadata": {
        "id": "view-in-github",
        "colab_type": "text"
      },
      "source": [
        "<a href=\"https://colab.research.google.com/github/leo-contigo/ML/blob/main/02_KNN.ipynb\" target=\"_parent\"><img src=\"https://colab.research.google.com/assets/colab-badge.svg\" alt=\"Open In Colab\"/></a>"
      ]
    },
    {
      "cell_type": "code",
      "execution_count": null,
      "id": "9fd0795a",
      "metadata": {
        "id": "9fd0795a"
      },
      "outputs": [],
      "source": [
        "# 경고 메세지 숨기기 \n",
        "import warnings\n",
        "warnings.filterwarnings(action='ignore')\n",
        "\n",
        "# 라이브러리 임포트 \n",
        "import numpy as np\n",
        "import pandas as pd\n",
        "import seaborn as sns\n",
        "\n",
        "import matplotlib\n",
        "import matplotlib.pyplot as plt\n",
        "\n",
        "# gp 설정\n",
        "%matplotlib inline\n",
        "plt.rcParams['font.size'] = 11.0\n",
        "plt.rcParams['font.family'] = 'Malgun Gothic'\n",
        "plt.rcParams['axes.unicode_minus'] = False\n",
        "%config InlineBackend.figure_format = 'retina'\n",
        "\n",
        "# 그래프 기본 크기 설정 \n",
        "plt.rcParams['figure.figsize'] = [10, 6]"
      ]
    },
    {
      "cell_type": "markdown",
      "id": "e666faa8",
      "metadata": {
        "id": "e666faa8"
      },
      "source": [
        "#### ML_02_수업자료.html"
      ]
    },
    {
      "cell_type": "code",
      "execution_count": null,
      "id": "2c3e1553",
      "metadata": {
        "id": "2c3e1553"
      },
      "outputs": [],
      "source": [
        "# 학습기(모델)\n",
        "from sklearn.neighbors import KNeighborsClassifier\n",
        "\n",
        "# 평가도구\n",
        "from sklearn.metrics import mean_squared_error, accuracy_score\n",
        "\n",
        "# 유클리드 거리, 맨하탄 거리 함수 임포트 \n",
        "from scipy.spatial import distance"
      ]
    },
    {
      "cell_type": "markdown",
      "id": "021eac57",
      "metadata": {
        "id": "021eac57"
      },
      "source": [
        "# kNN(k-Nearest Neighbors, KNeighbors)\n",
        "\n",
        "- k-최근접 이웃 알고리즘\n",
        "- scikit-learn \n",
        "\n",
        "https://scikit-learn.org/stable/modules/generated/sklearn.neighbors.KNeighborsClassifier.html\n",
        "- 새로운 데이터를 입력받았을때 가장 가까이 있는 것은 무엇일까?"
      ]
    },
    {
      "cell_type": "markdown",
      "id": "ff50f454",
      "metadata": {
        "id": "ff50f454"
      },
      "source": [
        "## 두점사이의 거리\n",
        "\n",
        "### 유클리드 거리(Euclidean Distance)\n",
        "- 수학 세계에서 모든 차원에서 두 점 사이의 최단 거리\n",
        "- 두 점 간의 차이 제곱합의 제곱근\n",
        "\n",
        "### 맨하탄 거리(Manhattan Distance)\n",
        "- 택시거리, 시가지 거리\n",
        "- 두 점 간의 차이를 절대값의 합"
      ]
    },
    {
      "cell_type": "markdown",
      "id": "7e62469f",
      "metadata": {
        "id": "7e62469f"
      },
      "source": [
        "#### 유클리드 거리"
      ]
    },
    {
      "cell_type": "code",
      "execution_count": null,
      "id": "b5b29655",
      "metadata": {
        "id": "b5b29655"
      },
      "outputs": [],
      "source": [
        "# 유클리드 거리 구현\n",
        "# 두 점 간의 차이 제곱합의 제곱근(sqrt)\n",
        "\n",
        "a = np.array([2, 1, 60, 139, 0])\n",
        "b = np.array([3, 2, 80, 148, 0])"
      ]
    },
    {
      "cell_type": "code",
      "execution_count": null,
      "id": "74f8a336",
      "metadata": {
        "id": "74f8a336",
        "outputId": "9ff38cca-633a-4cfc-cd15-91e5b7af3706"
      },
      "outputs": [
        {
          "data": {
            "text/plain": [
              "21.97726097583591"
            ]
          },
          "execution_count": 4,
          "metadata": {},
          "output_type": "execute_result"
        }
      ],
      "source": [
        "np.sqrt((2-3)**2 + (1-2)**2 + (60-80)**2 + (139-148)**2 + (0-0)**2)"
      ]
    },
    {
      "cell_type": "code",
      "execution_count": null,
      "id": "ae35c582",
      "metadata": {
        "id": "ae35c582"
      },
      "outputs": [],
      "source": [
        "# 함수로 구현\n",
        "\n",
        "def eu_distance(x, y):\n",
        "    return np.sqrt(np.sum((x-y)**2))"
      ]
    },
    {
      "cell_type": "code",
      "execution_count": null,
      "id": "b1b32047",
      "metadata": {
        "id": "b1b32047",
        "outputId": "c33c3765-f0e5-4de3-9132-57c5a1330562"
      },
      "outputs": [
        {
          "data": {
            "text/plain": [
              "21.97726097583591"
            ]
          },
          "execution_count": 6,
          "metadata": {},
          "output_type": "execute_result"
        }
      ],
      "source": [
        "eu_distance(a, b)"
      ]
    },
    {
      "cell_type": "code",
      "execution_count": null,
      "id": "f6681363",
      "metadata": {
        "id": "f6681363",
        "outputId": "60e7d7fa-b781-413c-fcce-7af8c45a0811"
      },
      "outputs": [
        {
          "data": {
            "text/plain": [
              "21.97726097583591"
            ]
          },
          "execution_count": 7,
          "metadata": {},
          "output_type": "execute_result"
        }
      ],
      "source": [
        "# scipy 함수 적용\n",
        "\n",
        "distance.euclidean(a , b)"
      ]
    },
    {
      "cell_type": "markdown",
      "id": "44212d42",
      "metadata": {
        "id": "44212d42"
      },
      "source": [
        "#### 맨하탄 거리\n",
        "\n",
        "- abs() 절대값"
      ]
    },
    {
      "cell_type": "code",
      "execution_count": null,
      "id": "9987824c",
      "metadata": {
        "id": "9987824c",
        "outputId": "a8b46888-caf5-4b29-fa4a-426e6e3bf5a7"
      },
      "outputs": [
        {
          "data": {
            "text/plain": [
              "31"
            ]
          },
          "execution_count": 8,
          "metadata": {},
          "output_type": "execute_result"
        }
      ],
      "source": [
        "# scipy 함수 적용 - 맨하탄 \n",
        "\n",
        "distance.cityblock(a, b)"
      ]
    },
    {
      "cell_type": "code",
      "execution_count": null,
      "id": "382fd794",
      "metadata": {
        "id": "382fd794",
        "outputId": "4eff5c9d-cfd4-44a3-a781-7a32dc90da69"
      },
      "outputs": [
        {
          "data": {
            "text/plain": [
              "31"
            ]
          },
          "execution_count": 9,
          "metadata": {},
          "output_type": "execute_result"
        }
      ],
      "source": [
        "# 맨하탄 거리 공식으로 거리 구하기\n",
        "\n",
        "a = np.array([2, 1, 60, 139, 0])\n",
        "b = np.array([3, 2, 80, 148, 0])\n",
        "\n",
        "np.abs(2-3) + np.abs(1-2) + np.abs(60-80) + np.abs(139-148) + np.abs(0-0)"
      ]
    },
    {
      "cell_type": "markdown",
      "id": "cc7a25ae",
      "metadata": {
        "id": "cc7a25ae"
      },
      "source": [
        "## 생선 분류 문제\n",
        "\n",
        "- 출처 : https://www.kaggle.com/aungpyaeap/fish-market\n",
        "- 도미 데이타 : http://bit.ly/bream_list\n",
        "- 빙어 데이터 : http://bit.ly/smelt_list\n",
        "```\n",
        "1) 데이터 준비 \n",
        "  도미와 방어의 길이와 무게 \n",
        "  X, y \n",
        "2) 모델 생성 : KNeighborsClassifier\n",
        "3) 모델 학습 fit()\n",
        "4) 평가 score()\n",
        "5) 예측 predict()\n",
        "```"
      ]
    },
    {
      "cell_type": "code",
      "execution_count": null,
      "id": "8d46ebd3",
      "metadata": {
        "id": "8d46ebd3"
      },
      "outputs": [],
      "source": [
        "# 1) 전체 데이타 준비 \n",
        "\n",
        "# 도미 데이타 \n",
        "bream_length = [25.4, 26.3, 26.5, 29.0, 29.0, 29.7, 29.7, 30.0, 30.0, 30.7, 31.0, 31.0, \n",
        "                31.5, 32.0, 32.0, 32.0, 33.0, 33.0, 33.5, 33.5, 34.0, 34.0, 34.5, 35.0, \n",
        "                35.0, 35.0, 35.0, 36.0, 36.0, 37.0, 38.5, 38.5, 39.5, 41.0, 41.0]\n",
        "bream_weight = [242.0, 290.0, 340.0, 363.0, 430.0, 450.0, 500.0, 390.0, 450.0, 500.0, 475.0, 500.0, \n",
        "                500.0, 340.0, 600.0, 600.0, 700.0, 700.0, 610.0, 650.0, 575.0, 685.0, 620.0, 680.0, \n",
        "                700.0, 725.0, 720.0, 714.0, 850.0, 1000.0, 920.0, 955.0, 925.0, 975.0, 950.0]\n",
        "\n",
        "# 빙어 데이타 \n",
        "smelt_length = [9.8, 10.5, 10.6, 11.0, 11.2, 11.3, 11.8, 11.8, 12.0, 12.2, 12.4, 13.0, 14.3, 15.0]\n",
        "smelt_weight = [6.7, 7.5, 7.0, 9.7, 9.8, 8.7, 10.0, 9.9, 9.8, 12.2, 13.4, 12.2, 19.7, 19.9]"
      ]
    },
    {
      "cell_type": "code",
      "execution_count": null,
      "id": "f6a7058c",
      "metadata": {
        "id": "f6a7058c",
        "outputId": "27464262-c9cd-480b-b539-d5680bc0a188"
      },
      "outputs": [
        {
          "data": {
            "text/plain": [
              "(25.4, 242.0)"
            ]
          },
          "execution_count": 11,
          "metadata": {},
          "output_type": "execute_result"
        }
      ],
      "source": [
        "# 2차원 리스트로 생성\n",
        "\n",
        "# 도미 + 빙어 길이 → 1차원\n",
        "length = bream_length + smelt_length\n",
        "\n",
        "# 도미 + 빙어 무게 → 1차원\n",
        "weight = bream_weight + smelt_weight\n",
        "\n",
        "\n",
        "# 2차원 리스트로 생성\n",
        "# [ [길이1 , 무게1] ..... ]\n",
        "length[0], weight[0]"
      ]
    },
    {
      "cell_type": "code",
      "execution_count": null,
      "id": "25fccc80",
      "metadata": {
        "id": "25fccc80",
        "outputId": "c0a67346-adfc-4239-c108-466040fa0b58"
      },
      "outputs": [
        {
          "data": {
            "text/plain": [
              "[(25.4, 242.0),\n",
              " (26.3, 290.0),\n",
              " (26.5, 340.0),\n",
              " (29.0, 363.0),\n",
              " (29.0, 430.0),\n",
              " (29.7, 450.0),\n",
              " (29.7, 500.0),\n",
              " (30.0, 390.0),\n",
              " (30.0, 450.0),\n",
              " (30.7, 500.0),\n",
              " (31.0, 475.0),\n",
              " (31.0, 500.0),\n",
              " (31.5, 500.0),\n",
              " (32.0, 340.0),\n",
              " (32.0, 600.0),\n",
              " (32.0, 600.0),\n",
              " (33.0, 700.0),\n",
              " (33.0, 700.0),\n",
              " (33.5, 610.0),\n",
              " (33.5, 650.0),\n",
              " (34.0, 575.0),\n",
              " (34.0, 685.0),\n",
              " (34.5, 620.0),\n",
              " (35.0, 680.0),\n",
              " (35.0, 700.0),\n",
              " (35.0, 725.0),\n",
              " (35.0, 720.0),\n",
              " (36.0, 714.0),\n",
              " (36.0, 850.0),\n",
              " (37.0, 1000.0),\n",
              " (38.5, 920.0),\n",
              " (38.5, 955.0),\n",
              " (39.5, 925.0),\n",
              " (41.0, 975.0),\n",
              " (41.0, 950.0),\n",
              " (9.8, 6.7),\n",
              " (10.5, 7.5),\n",
              " (10.6, 7.0),\n",
              " (11.0, 9.7),\n",
              " (11.2, 9.8),\n",
              " (11.3, 8.7),\n",
              " (11.8, 10.0),\n",
              " (11.8, 9.9),\n",
              " (12.0, 9.8),\n",
              " (12.2, 12.2),\n",
              " (12.4, 13.4),\n",
              " (13.0, 12.2),\n",
              " (14.3, 19.7),\n",
              " (15.0, 19.9)]"
            ]
          },
          "execution_count": 12,
          "metadata": {},
          "output_type": "execute_result"
        }
      ],
      "source": [
        "#  방법 1\n",
        "\n",
        "# 1차원인데 인덱스가 같은 요소끼리 2차원으로 리스트 만들기\n",
        "# temp = []\n",
        "\n",
        "list(zip(length, weight))   # 리스트 안의 튜플"
      ]
    },
    {
      "cell_type": "code",
      "execution_count": null,
      "id": "fa79bf79",
      "metadata": {
        "id": "fa79bf79",
        "outputId": "940be0ae-0614-4a73-9e9f-6f964aa4980f"
      },
      "outputs": [
        {
          "data": {
            "text/plain": [
              "[[25.4, 242.0],\n",
              " [26.3, 290.0],\n",
              " [26.5, 340.0],\n",
              " [29.0, 363.0],\n",
              " [29.0, 430.0],\n",
              " [29.7, 450.0],\n",
              " [29.7, 500.0],\n",
              " [30.0, 390.0],\n",
              " [30.0, 450.0],\n",
              " [30.7, 500.0],\n",
              " [31.0, 475.0],\n",
              " [31.0, 500.0],\n",
              " [31.5, 500.0],\n",
              " [32.0, 340.0],\n",
              " [32.0, 600.0],\n",
              " [32.0, 600.0],\n",
              " [33.0, 700.0],\n",
              " [33.0, 700.0],\n",
              " [33.5, 610.0],\n",
              " [33.5, 650.0],\n",
              " [34.0, 575.0],\n",
              " [34.0, 685.0],\n",
              " [34.5, 620.0],\n",
              " [35.0, 680.0],\n",
              " [35.0, 700.0],\n",
              " [35.0, 725.0],\n",
              " [35.0, 720.0],\n",
              " [36.0, 714.0],\n",
              " [36.0, 850.0],\n",
              " [37.0, 1000.0],\n",
              " [38.5, 920.0],\n",
              " [38.5, 955.0],\n",
              " [39.5, 925.0],\n",
              " [41.0, 975.0],\n",
              " [41.0, 950.0],\n",
              " [9.8, 6.7],\n",
              " [10.5, 7.5],\n",
              " [10.6, 7.0],\n",
              " [11.0, 9.7],\n",
              " [11.2, 9.8],\n",
              " [11.3, 8.7],\n",
              " [11.8, 10.0],\n",
              " [11.8, 9.9],\n",
              " [12.0, 9.8],\n",
              " [12.2, 12.2],\n",
              " [12.4, 13.4],\n",
              " [13.0, 12.2],\n",
              " [14.3, 19.7],\n",
              " [15.0, 19.9]]"
            ]
          },
          "execution_count": 13,
          "metadata": {},
          "output_type": "execute_result"
        }
      ],
      "source": [
        "# 방법 2\n",
        "\n",
        "# 리스트 for 와 zip()\n",
        "\n",
        "fish_data = [ [l , w] for l, w in zip(length, weight)]  # 리스트 안의 리스트\n",
        "fish_data"
      ]
    },
    {
      "cell_type": "code",
      "execution_count": null,
      "id": "5c098c2c",
      "metadata": {
        "id": "5c098c2c"
      },
      "outputs": [],
      "source": [
        "# 입력 학습 데이터\n",
        "\n",
        "X = fish_data "
      ]
    },
    {
      "cell_type": "code",
      "execution_count": null,
      "id": "d904fa87",
      "metadata": {
        "id": "d904fa87",
        "outputId": "65a9d159-a801-47f0-aabc-bcbeff605ef5"
      },
      "outputs": [
        {
          "data": {
            "text/plain": [
              "(35, 14)"
            ]
          },
          "execution_count": 15,
          "metadata": {},
          "output_type": "execute_result"
        }
      ],
      "source": [
        "# 도미의 개수????\n",
        "len(bream_length), len(smelt_length)"
      ]
    },
    {
      "cell_type": "code",
      "execution_count": null,
      "id": "06c9e4ba",
      "metadata": {
        "id": "06c9e4ba",
        "outputId": "c1d732d9-38e6-49e8-b720-3886629f8d3c"
      },
      "outputs": [
        {
          "data": {
            "text/plain": [
              "[1,\n",
              " 1,\n",
              " 1,\n",
              " 1,\n",
              " 1,\n",
              " 1,\n",
              " 1,\n",
              " 1,\n",
              " 1,\n",
              " 1,\n",
              " 1,\n",
              " 1,\n",
              " 1,\n",
              " 1,\n",
              " 1,\n",
              " 1,\n",
              " 1,\n",
              " 1,\n",
              " 1,\n",
              " 1,\n",
              " 1,\n",
              " 1,\n",
              " 1,\n",
              " 1,\n",
              " 1,\n",
              " 1,\n",
              " 1,\n",
              " 1,\n",
              " 1,\n",
              " 1,\n",
              " 1,\n",
              " 1,\n",
              " 1,\n",
              " 1,\n",
              " 1,\n",
              " 0,\n",
              " 0,\n",
              " 0,\n",
              " 0,\n",
              " 0,\n",
              " 0,\n",
              " 0,\n",
              " 0,\n",
              " 0,\n",
              " 0,\n",
              " 0,\n",
              " 0,\n",
              " 0,\n",
              " 0]"
            ]
          },
          "execution_count": 16,
          "metadata": {},
          "output_type": "execute_result"
        }
      ],
      "source": [
        "# r결과값(답안지) y 데이터 생성\n",
        "# 도미는 1, 빙어는 0\n",
        "\n",
        "y = [1] * len(bream_length) + [0] * len(smelt_length)\n",
        "y"
      ]
    },
    {
      "cell_type": "code",
      "execution_count": null,
      "id": "9cb75d46",
      "metadata": {
        "id": "9cb75d46",
        "outputId": "508174e0-97eb-4064-c88e-7a4d13bc15fb"
      },
      "outputs": [
        {
          "data": {
            "text/plain": [
              "{'algorithm': 'auto',\n",
              " 'leaf_size': 30,\n",
              " 'metric': 'minkowski',\n",
              " 'metric_params': None,\n",
              " 'n_jobs': None,\n",
              " 'n_neighbors': 5,\n",
              " 'p': 2,\n",
              " 'weights': 'uniform'}"
            ]
          },
          "execution_count": 17,
          "metadata": {},
          "output_type": "execute_result"
        }
      ],
      "source": [
        "# K-근접 이웃 알고리즘 구현하기 위해 클래스 KNeighborsClassifier()\n",
        "# 2) 모델(객체) 생성 \n",
        "model_knn = KNeighborsClassifier()\n",
        "model_knn.get_params()"
      ]
    },
    {
      "cell_type": "code",
      "execution_count": null,
      "id": "66c090b4",
      "metadata": {
        "id": "66c090b4",
        "outputId": "83362654-6d6f-407b-aef5-2a8940a3f1db"
      },
      "outputs": [
        {
          "data": {
            "text/plain": [
              "KNeighborsClassifier()"
            ]
          },
          "execution_count": 18,
          "metadata": {},
          "output_type": "execute_result"
        }
      ],
      "source": [
        "# 3) 모델 학습\n",
        "# X = fish_data / y = fish_target\n",
        "\n",
        "model_knn.fit(X, y)"
      ]
    },
    {
      "cell_type": "code",
      "execution_count": null,
      "id": "107d8d4c",
      "metadata": {
        "id": "107d8d4c",
        "outputId": "d15e59fa-ab4e-4e35-8485-ce5ff04f4fca"
      },
      "outputs": [
        {
          "data": {
            "text/plain": [
              "array([1, 1, 1, 1, 1, 1, 1, 1, 1, 1, 1, 1, 1, 1, 1, 1, 1, 1, 1, 1, 1, 1,\n",
              "       1, 1, 1, 1, 1, 1, 1, 1, 1, 1, 1, 1, 1, 0, 0, 0, 0, 0, 0, 0, 0, 0,\n",
              "       0, 0, 0, 0, 0])"
            ]
          },
          "execution_count": 21,
          "metadata": {},
          "output_type": "execute_result"
        }
      ],
      "source": [
        "# 4) 평가 후 예측 \n",
        "\n",
        "model_knn.predict(X)"
      ]
    },
    {
      "cell_type": "code",
      "execution_count": null,
      "id": "696239a5",
      "metadata": {
        "id": "696239a5",
        "outputId": "2f66c98c-f88d-4ea8-da2f-d007cc740032"
      },
      "outputs": [
        {
          "data": {
            "text/plain": [
              "array([1])"
            ]
          },
          "execution_count": 22,
          "metadata": {},
          "output_type": "execute_result"
        }
      ],
      "source": [
        "# 일부 데이타 테스트 \n",
        "\n",
        "model_knn.predict([[29.0, 363.0]])"
      ]
    },
    {
      "cell_type": "code",
      "execution_count": null,
      "id": "b92ad26d",
      "metadata": {
        "id": "b92ad26d",
        "outputId": "86e6803f-3587-49ce-d731-72bab57e89d4"
      },
      "outputs": [
        {
          "data": {
            "text/plain": [
              "([15.0, 19.9], 0)"
            ]
          },
          "execution_count": 23,
          "metadata": {},
          "output_type": "execute_result"
        }
      ],
      "source": [
        "X[-1], y[-1]"
      ]
    },
    {
      "cell_type": "code",
      "execution_count": null,
      "id": "535e42d6",
      "metadata": {
        "id": "535e42d6",
        "outputId": "f997f995-52e8-417b-a335-2e931956fda8"
      },
      "outputs": [
        {
          "data": {
            "text/plain": [
              "(array([[0., 1.]]), array([[1., 0.]]))"
            ]
          },
          "execution_count": 24,
          "metadata": {},
          "output_type": "execute_result"
        }
      ],
      "source": [
        "# 개별 테스트\n",
        "# 모델명.predict_proba(x데이터)\n",
        "\n",
        "model_knn.predict_proba([[29.0, 363.0]]), model_knn.predict_proba([[15.0, 19.9]])"
      ]
    },
    {
      "cell_type": "code",
      "execution_count": null,
      "id": "330c043c",
      "metadata": {
        "id": "330c043c",
        "outputId": "68b861cb-bf33-47e8-f648-e91abaa7f8a2"
      },
      "outputs": [
        {
          "data": {
            "text/plain": [
              "1.0"
            ]
          },
          "execution_count": 25,
          "metadata": {},
          "output_type": "execute_result"
        }
      ],
      "source": [
        "# 3) 평가 \n",
        "# accuracy_score(y_true, y_pred)\n",
        "\n",
        "accuracy_score(y, model_knn.predict(X))"
      ]
    },
    {
      "cell_type": "code",
      "execution_count": null,
      "id": "d41dbc9d",
      "metadata": {
        "id": "d41dbc9d",
        "outputId": "86761770-dc6b-4c9f-da66-c9a4c34d0e95"
      },
      "outputs": [
        {
          "data": {
            "text/plain": [
              "{'algorithm': 'auto',\n",
              " 'leaf_size': 30,\n",
              " 'metric': 'minkowski',\n",
              " 'metric_params': None,\n",
              " 'n_jobs': None,\n",
              " 'n_neighbors': 3,\n",
              " 'p': 2,\n",
              " 'weights': 'uniform'}"
            ]
          },
          "execution_count": 26,
          "metadata": {},
          "output_type": "execute_result"
        }
      ],
      "source": [
        "# knn의 k 설정 → 옵션\n",
        "\n",
        "model_knn = KNeighborsClassifier(n_neighbors = 3)\n",
        "model_knn.get_params()"
      ]
    },
    {
      "cell_type": "code",
      "execution_count": null,
      "id": "bfe179c9",
      "metadata": {
        "id": "bfe179c9",
        "outputId": "0d7ca385-f751-4bb2-dedf-f70bd07ed975"
      },
      "outputs": [
        {
          "name": "stdout",
          "output_type": "stream",
          "text": [
            "3: 1.0\n",
            "\n",
            "5: 1.0\n",
            "\n",
            "7: 1.0\n",
            "\n",
            "9: 1.0\n",
            "\n",
            "11: 1.0\n",
            "\n",
            "13: 1.0\n",
            "\n",
            "15: 1.0\n",
            "\n",
            "17: 1.0\n",
            "\n",
            "19: 0.9795918367346939\n",
            "\n",
            "21: 0.9795918367346939\n",
            "\n",
            "23: 0.9795918367346939\n",
            "\n",
            "25: 0.9795918367346939\n",
            "\n",
            "27: 0.9795918367346939\n",
            "\n",
            "29: 0.7142857142857143\n",
            "\n"
          ]
        }
      ],
      "source": [
        "# n_neighbors 가 3 ~ 27 까지 변경될 경우 정확도는?\n",
        "for n in range(3, 30, 2):\n",
        "    print(n, end = '')\n",
        "    model_knn = KNeighborsClassifier(n_neighbors = n)\n",
        "    model_knn.fit(X, y)\n",
        "    model_knn.predict(X)\n",
        "    print(':', model_knn.score(X, y))\n",
        "    print()"
      ]
    },
    {
      "cell_type": "code",
      "execution_count": null,
      "id": "d4229601",
      "metadata": {
        "id": "d4229601",
        "outputId": "3919997e-288b-46d9-b7cd-3c6ad6dc9c33"
      },
      "outputs": [
        {
          "data": {
            "image/png": "[encoded data removed]",
            "text/plain": [
              "<Figure size 720x432 with 1 Axes>"
            ]
          },
          "metadata": {
            "image/png": {
              "height": 358,
              "width": 603
            },
            "needs_background": "light"
          },
          "output_type": "display_data"
        }
      ],
      "source": [
        "# 빙어와 도미를 산점도로 출력하기\n",
        "# 길이와 몸무게를 x, y\n",
        "# scatter() - 산점도 그리는 맷플롯립 함수\n",
        "\n",
        "# 도미\n",
        "plt.scatter(bream_length, bream_weight) \n",
        "# 빙어\n",
        "plt.scatter(smelt_length, smelt_weight);\n",
        "\n",
        "# 미지의 새로운 데이타 \n",
        "plt.scatter(17, 200, marker='^', color='red' );"
      ]
    },
    {
      "cell_type": "markdown",
      "id": "5e8cb8b9",
      "metadata": {
        "id": "5e8cb8b9"
      },
      "source": [
        "-----------------------------------"
      ]
    },
    {
      "cell_type": "markdown",
      "id": "fbe4bfb8",
      "metadata": {
        "id": "fbe4bfb8"
      },
      "source": [
        "#### ML_03_수업자료.html"
      ]
    },
    {
      "cell_type": "markdown",
      "id": "5b8544cf",
      "metadata": {
        "id": "5b8544cf"
      },
      "source": [
        "↑ 지금까지는 두 가지 동일한 상황\n",
        "\n",
        "# 훈련 세트와 테스트 세트\n",
        "\n",
        "\n",
        "- 지도학습 Supervied learning : 입력과 타깃이 모두 있음\n",
        "- 비지도학습 Unsupervied learning : 입력만 있음\n",
        "\n",
        "- 훈련데이타 = 입력 + 타깃\n",
        "\n",
        " * 머신러닝 알고리즘의 평가를 제대로 평가하려면 훈련 데이터와 평가에 사용할 데이터가 각각 달라야한다.\n",
        "\n",
        " * 평가를 위한 또 다른 데이터를 준비하거나 이미 준비된 데이타중에서 일부를 떼어 내어 활용한다.\n",
        "\n",
        "\n",
        "- 훈련 세트 = 학습용 : fit()\n",
        "    - traing set : 훈련에 사용되는 데이터.\n",
        "    \n",
        "\n",
        "- 테스트 세트 = 검증용 : predict(), score()\n",
        "    - test set : 평가에 사용하는 데이타.\n",
        "\n",
        "\n",
        "- train_test_split() : 훈련세트와 테스트 세트를 지정된 비율에 의해 분리시키는 함수 "
      ]
    },
    {
      "cell_type": "code",
      "execution_count": null,
      "id": "c3044d15",
      "metadata": {
        "id": "c3044d15"
      },
      "outputs": [],
      "source": [
        "# 훈련 세트와 테스트 세트 함수 임포트\n",
        "\n",
        "from sklearn.model_selection import train_test_split"
      ]
    },
    {
      "cell_type": "code",
      "execution_count": null,
      "id": "ec417dba",
      "metadata": {
        "id": "ec417dba"
      },
      "outputs": [],
      "source": [
        "train_test_split?"
      ]
    },
    {
      "cell_type": "raw",
      "id": "3cff2dac",
      "metadata": {
        "id": "3cff2dac"
      },
      "source": [
        "train_test_split(\n",
        "    *arrays,\n",
        "    test_size=None,             # 검증용 데이터 크기 . 기본은 0.25\n",
        "    train_size=None,            # 학습용 데이터 크기 . 나머지 0.75\n",
        "    random_state=None,          # 정수값 . 데이터 고정\n",
        "    shuffle=True,               # \n",
        "    stratify=None,              # 각 레벨의 비율을 맞추어주는 역할 . 값으로 타겟값 = y = 라벨값 = 답안\n",
        ")"
      ]
    },
    {
      "cell_type": "markdown",
      "id": "8803d440",
      "metadata": {
        "id": "8803d440"
      },
      "source": [
        "-----------------------------------"
      ]
    },
    {
      "cell_type": "markdown",
      "id": "797400d2",
      "metadata": {
        "id": "797400d2"
      },
      "source": [
        "## 샘플링 편향(Sampling bias)\n",
        "\n",
        "- 통계학상으로의 샘플링 편향이란 표본을 잘못 선택함으로써 통계 분석이 왜곡되는 것을 뜻한다.\n",
        "```\n",
        "예시)\n",
        "야구장에서 1000명에게 가장 좋아하는 스포츠에 대해 설문조사를 했더니 \n",
        "75%가 야구를 좋아한다고 했다.\n",
        "따라서 한국사람들이 가장 좋아하는 스포츠는 야구가 틀림없다.\n",
        "```\n",
        "\n",
        "\n",
        "- 머신러닝에서의 샘플링 편향이란? \n",
        "```\n",
        "훈련세트와 테스트 세트에 샘플이 골고루 섞여있지 않고 샘플링이 한쪽에 치워쳤다.\n",
        "```"
      ]
    },
    {
      "cell_type": "code",
      "execution_count": null,
      "id": "f541b8e9",
      "metadata": {
        "id": "f541b8e9"
      },
      "outputs": [],
      "source": [
        "# 1) 데이타 준비 \n",
        "\n",
        "# 도미 데이타 \n",
        "bream_length = [25.4, 26.3, 26.5, 29.0, 29.0, 29.7, 29.7, 30.0, 30.0, 30.7, 31.0, 31.0, \n",
        "                31.5, 32.0, 32.0, 32.0, 33.0, 33.0, 33.5, 33.5, 34.0, 34.0, 34.5, 35.0, \n",
        "                35.0, 35.0, 35.0, 36.0, 36.0, 37.0, 38.5, 38.5, 39.5, 41.0, 41.0]\n",
        "bream_weight = [242.0, 290.0, 340.0, 363.0, 430.0, 450.0, 500.0, 390.0, 450.0, 500.0, 475.0, 500.0, \n",
        "                500.0, 340.0, 600.0, 600.0, 700.0, 700.0, 610.0, 650.0, 575.0, 685.0, 620.0, 680.0, \n",
        "                700.0, 725.0, 720.0, 714.0, 850.0, 1000.0, 920.0, 955.0, 925.0, 975.0, 950.0]\n",
        "\n",
        "# 빙어 데이타 \n",
        "smelt_length = [9.8, 10.5, 10.6, 11.0, 11.2, 11.3, 11.8, 11.8, 12.0, 12.2, 12.4, 13.0, 14.3, 15.0]\n",
        "smelt_weight = [6.7, 7.5, 7.0, 9.7, 9.8, 8.7, 10.0, 9.9, 9.8, 12.2, 13.4, 12.2, 19.7, 19.9]\n",
        "\n",
        "# 도미 + 빙어 길이 => 1차원 \n",
        "length = bream_length + smelt_length\n",
        "\n",
        "# 도미 + 빙어 무게  => 1차원 \n",
        "weight = bream_weight + smelt_weight\n",
        "\n",
        "X = [ [l, w] for l, w in zip(length, weight)]\n",
        "y = [1]*len(bream_length) + [0]*len(smelt_length)"
      ]
    },
    {
      "cell_type": "code",
      "execution_count": null,
      "id": "78ce13a5",
      "metadata": {
        "id": "78ce13a5"
      },
      "outputs": [],
      "source": [
        "# X, y"
      ]
    },
    {
      "cell_type": "code",
      "execution_count": null,
      "id": "fb33540b",
      "metadata": {
        "id": "fb33540b",
        "outputId": "d2e2fea1-fa26-4e45-8131-1f5332f38fe7"
      },
      "outputs": [
        {
          "data": {
            "text/plain": [
              "(35, 14)"
            ]
          },
          "execution_count": 34,
          "metadata": {},
          "output_type": "execute_result"
        }
      ],
      "source": [
        "len(bream_length), len(smelt_length)"
      ]
    },
    {
      "cell_type": "code",
      "execution_count": null,
      "id": "1ac883bb",
      "metadata": {
        "id": "1ac883bb",
        "outputId": "c944b407-d73a-4b95-d5bf-81f6c436bf12"
      },
      "outputs": [
        {
          "data": {
            "text/plain": [
              "(35, 14)"
            ]
          },
          "execution_count": 35,
          "metadata": {},
          "output_type": "execute_result"
        }
      ],
      "source": [
        "# 학습용 데이터와 테스트 데이터 분리 \n",
        "\n",
        "X_train = X[:35]\n",
        "X_test = X[35:]\n",
        "len(X_train), len(X_test)"
      ]
    },
    {
      "cell_type": "code",
      "execution_count": null,
      "id": "dc880b57",
      "metadata": {
        "id": "dc880b57",
        "outputId": "1ecf0e6e-eaea-4369-80d1-d8a89eaa0613"
      },
      "outputs": [
        {
          "data": {
            "text/plain": [
              "([41.0, 950.0], [9.8, 6.7])"
            ]
          },
          "execution_count": 36,
          "metadata": {},
          "output_type": "execute_result"
        }
      ],
      "source": [
        "# 데이터 분리 확인 \n",
        "\n",
        "X_train[-1], X_test[0]"
      ]
    },
    {
      "cell_type": "code",
      "execution_count": null,
      "id": "6a865020",
      "metadata": {
        "id": "6a865020"
      },
      "outputs": [],
      "source": [
        "# 정답지 분리\n",
        "\n",
        "y_train = y[:35]\n",
        "y_test = y[35:]"
      ]
    },
    {
      "cell_type": "code",
      "execution_count": null,
      "id": "ad6f4673",
      "metadata": {
        "id": "ad6f4673",
        "outputId": "8c40025c-b392-443e-f5dc-1748f73f4e3e"
      },
      "outputs": [
        {
          "data": {
            "text/plain": [
              "KNeighborsClassifier()"
            ]
          },
          "execution_count": 38,
          "metadata": {},
          "output_type": "execute_result"
        }
      ],
      "source": [
        "# 모델 생성하고 학습 시킴\n",
        "\n",
        "model_knn = KNeighborsClassifier()\n",
        "model_knn.fit(X_train, y_train)"
      ]
    },
    {
      "cell_type": "code",
      "execution_count": null,
      "id": "3aaa36a0",
      "metadata": {
        "id": "3aaa36a0",
        "outputId": "789b4002-1aa2-4a94-a9ab-3c23f4e88c9a"
      },
      "outputs": [
        {
          "data": {
            "text/plain": [
              "array([1, 1, 1, 1, 1, 1, 1, 1, 1, 1, 1, 1, 1, 1])"
            ]
          },
          "execution_count": 39,
          "metadata": {},
          "output_type": "execute_result"
        }
      ],
      "source": [
        "# 테스트 입력 데이터 X_test 로 예측\n",
        "\n",
        "model_knn.predict(X_test)"
      ]
    },
    {
      "cell_type": "code",
      "execution_count": null,
      "id": "25f0454a",
      "metadata": {
        "id": "25f0454a",
        "outputId": "68407980-ca6f-426e-f59b-27d549d6e238"
      },
      "outputs": [
        {
          "data": {
            "text/plain": [
              "[0, 0, 0, 0, 0, 0, 0, 0, 0, 0, 0, 0, 0, 0]"
            ]
          },
          "execution_count": 40,
          "metadata": {},
          "output_type": "execute_result"
        }
      ],
      "source": [
        "y_test"
      ]
    },
    {
      "cell_type": "code",
      "execution_count": null,
      "id": "3b56cd77",
      "metadata": {
        "id": "3b56cd77",
        "outputId": "2457290b-22cf-41bf-e863-f9972a1453c4"
      },
      "outputs": [
        {
          "data": {
            "text/plain": [
              "0.0"
            ]
          },
          "execution_count": 41,
          "metadata": {},
          "output_type": "execute_result"
        }
      ],
      "source": [
        "model_knn.score(X_test, y_test)"
      ]
    },
    {
      "cell_type": "markdown",
      "id": "11fea9d6",
      "metadata": {
        "id": "11fea9d6"
      },
      "source": [
        "-----------------------------------"
      ]
    },
    {
      "cell_type": "markdown",
      "id": "73369e4b",
      "metadata": {
        "id": "73369e4b"
      },
      "source": [
        "## 랜덤하게 데이터 전체를 분리"
      ]
    },
    {
      "cell_type": "code",
      "execution_count": null,
      "id": "5f5e1d02",
      "metadata": {
        "id": "5f5e1d02"
      },
      "outputs": [],
      "source": [
        "# X, y  # 섞이지 않은 상태"
      ]
    },
    {
      "cell_type": "raw",
      "id": "0953f2dd",
      "metadata": {
        "id": "0953f2dd"
      },
      "source": [
        "학습용 데이터, 테스트용 데이터, 학습용 정답지, 테스트용 정답지 = \n",
        "\n",
        "train_test_split(\n",
        "    *arrays,\n",
        "    test_size=None,             # 검증용 데이터 크기 . 기본은 0.25\n",
        "    train_size=None,            # 학습용 데이터 크기 . 나머지 0.75\n",
        "    random_state=None,          # 정수값 . 데이터 고정\n",
        "    shuffle=True,               # \n",
        "    stratify=None,              # 각 레벨의 비율을 맞추어주는 역할 . 값으로 타겟값 = y = 라벨값 = 답안\n",
        ")"
      ]
    },
    {
      "cell_type": "code",
      "execution_count": null,
      "id": "cd47b9c9",
      "metadata": {
        "id": "cd47b9c9"
      },
      "outputs": [],
      "source": [
        "# 학습 데이터와 테스트 데이터를 train_test_split() 로 분리\n",
        "\n",
        "\n",
        "X_train, X_test, y_train, y_test = train_test_split( np.array(X), \n",
        "                                                    y,\n",
        "                                                    random_state=1)"
      ]
    },
    {
      "cell_type": "code",
      "execution_count": null,
      "id": "12875bf6",
      "metadata": {
        "id": "12875bf6"
      },
      "outputs": [],
      "source": [
        "# 제대로 섞였는지 확인\n",
        "\n",
        "# y_train"
      ]
    },
    {
      "cell_type": "code",
      "execution_count": null,
      "id": "857ce922",
      "metadata": {
        "id": "857ce922",
        "outputId": "4698522d-f613-4fdd-f974-0cf5c1b776cf"
      },
      "outputs": [
        {
          "data": {
            "text/plain": [
              "(13, 36)"
            ]
          },
          "execution_count": 44,
          "metadata": {},
          "output_type": "execute_result"
        }
      ],
      "source": [
        "# 개수 확인 25% 정도인가?\n",
        "\n",
        "len(y_test), len(y_train)"
      ]
    },
    {
      "cell_type": "code",
      "execution_count": null,
      "id": "254aecc6",
      "metadata": {
        "id": "254aecc6",
        "outputId": "353f49b0-e4ee-48ae-a9ce-5b0dccf9c2ac"
      },
      "outputs": [
        {
          "data": {
            "text/plain": [
              "KNeighborsClassifier()"
            ]
          },
          "execution_count": 45,
          "metadata": {},
          "output_type": "execute_result"
        }
      ],
      "source": [
        "# 모델 생성하고 학습 시킴\n",
        "\n",
        "model_knn = KNeighborsClassifier()\n",
        "model_knn.fit(X_train, y_train)"
      ]
    },
    {
      "cell_type": "code",
      "execution_count": null,
      "id": "a4d5601d",
      "metadata": {
        "id": "a4d5601d",
        "outputId": "caf4b126-d4d3-4c61-d0bc-b5e98c83d356"
      },
      "outputs": [
        {
          "data": {
            "text/plain": [
              "array([1, 1, 0, 0, 1, 1, 0, 1, 0, 1, 1, 0, 1])"
            ]
          },
          "execution_count": 46,
          "metadata": {},
          "output_type": "execute_result"
        }
      ],
      "source": [
        "model_knn.predict(X_test)"
      ]
    },
    {
      "cell_type": "code",
      "execution_count": null,
      "id": "aab9a40a",
      "metadata": {
        "id": "aab9a40a",
        "outputId": "166f5fa9-8f51-4bab-9a79-bd51a4eb4200"
      },
      "outputs": [
        {
          "data": {
            "text/plain": [
              "1.0"
            ]
          },
          "execution_count": 47,
          "metadata": {},
          "output_type": "execute_result"
        }
      ],
      "source": [
        "model_knn.score(X_test, y_test)"
      ]
    }
  ],
  "metadata": {
    "kernelspec": {
      "display_name": "Python 3 (ipykernel)",
      "language": "python",
      "name": "python3"
    },
    "language_info": {
      "codemirror_mode": {
        "name": "ipython",
        "version": 3
      },
      "file_extension": ".py",
      "mimetype": "text/x-python",
      "name": "python",
      "nbconvert_exporter": "python",
      "pygments_lexer": "ipython3",
      "version": "3.9.12"
    },
    "colab": {
      "provenance": [],
      "include_colab_link": true
    }
  },
  "nbformat": 4,
  "nbformat_minor": 5
}