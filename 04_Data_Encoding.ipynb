{
  "cells": [
    {
      "cell_type": "markdown",
      "metadata": {
        "id": "view-in-github",
        "colab_type": "text"
      },
      "source": [
        "<a href=\"https://colab.research.google.com/github/leo-contigo/ML/blob/main/04_Data_Encoding.ipynb\" target=\"_parent\"><img src=\"https://colab.research.google.com/assets/colab-badge.svg\" alt=\"Open In Colab\"/></a>"
      ]
    },
    {
      "cell_type": "code",
      "execution_count": null,
      "id": "fadddc0b",
      "metadata": {
        "id": "fadddc0b"
      },
      "outputs": [],
      "source": [
        "# 경고 메세지 숨기기 \n",
        "import warnings\n",
        "warnings.filterwarnings(action='ignore')\n",
        "\n",
        "# 라이브러리 임포트 \n",
        "import numpy as np\n",
        "import pandas as pd\n",
        "import seaborn as sns\n",
        "\n",
        "import matplotlib\n",
        "import matplotlib.pyplot as plt\n",
        "\n",
        "# gp 설정\n",
        "%matplotlib inline\n",
        "plt.rcParams['font.size'] = 11.0\n",
        "plt.rcParams['font.family'] = 'Malgun Gothic'\n",
        "plt.rcParams['axes.unicode_minus'] = False\n",
        "%config InlineBackend.figure_format = 'retina'\n",
        "\n",
        "# 그래프 기본 크기 설정 \n",
        "plt.rcParams['figure.figsize'] = [10, 6]"
      ]
    },
    {
      "cell_type": "markdown",
      "id": "ef084380",
      "metadata": {
        "id": "ef084380"
      },
      "source": [
        "#### ML_06_수업자료.html"
      ]
    },
    {
      "cell_type": "markdown",
      "id": "2164fcb2",
      "metadata": {
        "id": "2164fcb2"
      },
      "source": [
        "# 데이타 전처리(Preprocessing)\n",
        "\n",
        ">- 데이타 클린징\n",
        ">- 결측값, 결손값 처리 (Null, NaN 처리)\n",
        ">- 데이터 인코딩 (레이블, 원핫인코딩)\n",
        ">- 데이터 스케일링\n",
        ">- 이상치 제거\n",
        ">- 피처 선택, 추출 및 가공"
      ]
    },
    {
      "cell_type": "markdown",
      "id": "f3281add",
      "metadata": {
        "id": "f3281add"
      },
      "source": [
        "## 레이블 인코딩(Label encoding)\n",
        "\n",
        ": 사이킷런의 LabelEncoder 이용. 숫자형태로 변경\n",
        "\n",
        ">- 모듈 임포트\n",
        "    - from sklearn.preprocessing import LabelEncoder\n",
        "\n",
        ">- 인코딩 객체 생성\n",
        "    - encoder = LabelEncoder()\n",
        "\n",
        ">- 인코딩객체 fit → 인코딩.fit(타겟리스트)\n",
        "    - encoder.fit(items)\n",
        "\n",
        ">- 인코딩객체 변환및 저장 → 인코딩.transform(타겟리스트)\n",
        "    - labels = encoder.transform(items)\n",
        "\n",
        "\n",
        "## 원-핫 인코딩(One-Hot encoding)\n",
        "\n",
        ">- 판다스의 get_dummies()를 이용한 원핫 인코딩\n",
        ">- pd.get_dummies(데이타프레임[컬럼명])\n",
        ">- pd.get_dummies(데이타프레임)\n"
      ]
    },
    {
      "cell_type": "code",
      "execution_count": null,
      "id": "ed885eb9",
      "metadata": {
        "id": "ed885eb9"
      },
      "outputs": [],
      "source": [
        "# 사이킷런 import\n",
        "\n",
        "from sklearn.preprocessing import LabelEncoder"
      ]
    },
    {
      "cell_type": "markdown",
      "id": "cd2d4092",
      "metadata": {
        "id": "cd2d4092"
      },
      "source": [
        "---------------------------------------------------"
      ]
    },
    {
      "cell_type": "markdown",
      "id": "cd5710b2",
      "metadata": {
        "id": "cd5710b2"
      },
      "source": [
        "## 레이블 인코딩\n",
        "- 문자열 데이터값을 수치형으로 변경\n",
        "\n",
        ">- 판다스 apply()\n",
        ">- 사이킷런 LabelEncoder()"
      ]
    },
    {
      "cell_type": "code",
      "execution_count": null,
      "id": "900cc37e",
      "metadata": {
        "id": "900cc37e",
        "outputId": "773764c3-3d91-4d1e-8b30-4d2cc25fbc20"
      },
      "outputs": [
        {
          "data": {
            "text/html": [
              "<div>\n",
              "<style scoped>\n",
              "    .dataframe tbody tr th:only-of-type {\n",
              "        vertical-align: middle;\n",
              "    }\n",
              "\n",
              "    .dataframe tbody tr th {\n",
              "        vertical-align: top;\n",
              "    }\n",
              "\n",
              "    .dataframe thead th {\n",
              "        text-align: right;\n",
              "    }\n",
              "</style>\n",
              "<table border=\"1\" class=\"dataframe\">\n",
              "  <thead>\n",
              "    <tr style=\"text-align: right;\">\n",
              "      <th></th>\n",
              "      <th>items</th>\n",
              "    </tr>\n",
              "  </thead>\n",
              "  <tbody>\n",
              "    <tr>\n",
              "      <th>0</th>\n",
              "      <td>TV</td>\n",
              "    </tr>\n",
              "    <tr>\n",
              "      <th>1</th>\n",
              "      <td>냉장고</td>\n",
              "    </tr>\n",
              "    <tr>\n",
              "      <th>2</th>\n",
              "      <td>전자레인지</td>\n",
              "    </tr>\n",
              "    <tr>\n",
              "      <th>3</th>\n",
              "      <td>컴퓨터</td>\n",
              "    </tr>\n",
              "    <tr>\n",
              "      <th>4</th>\n",
              "      <td>선풍기</td>\n",
              "    </tr>\n",
              "    <tr>\n",
              "      <th>5</th>\n",
              "      <td>선풍기</td>\n",
              "    </tr>\n",
              "    <tr>\n",
              "      <th>6</th>\n",
              "      <td>믹서기</td>\n",
              "    </tr>\n",
              "    <tr>\n",
              "      <th>7</th>\n",
              "      <td>믹서기</td>\n",
              "    </tr>\n",
              "  </tbody>\n",
              "</table>\n",
              "</div>"
            ],
            "text/plain": [
              "   items\n",
              "0     TV\n",
              "1    냉장고\n",
              "2  전자레인지\n",
              "3    컴퓨터\n",
              "4    선풍기\n",
              "5    선풍기\n",
              "6    믹서기\n",
              "7    믹서기"
            ]
          },
          "execution_count": 3,
          "metadata": {},
          "output_type": "execute_result"
        }
      ],
      "source": [
        "# 데이터프레임으로 데이터 준비\n",
        "\n",
        "items = ['TV' , '냉장고' , '전자레인지' , '컴퓨터' , '선풍기' , '선풍기' , '믹서기' , '믹서기' ]\n",
        "df = pd.DataFrame(items,\n",
        "                 columns = ['items'])\n",
        "df"
      ]
    },
    {
      "cell_type": "markdown",
      "id": "506e251a",
      "metadata": {
        "id": "506e251a"
      },
      "source": [
        "---------------------------------------------------"
      ]
    },
    {
      "cell_type": "markdown",
      "id": "5a731486",
      "metadata": {
        "id": "5a731486"
      },
      "source": [
        "### apply() 활용"
      ]
    },
    {
      "cell_type": "code",
      "execution_count": null,
      "id": "871a52f9",
      "metadata": {
        "id": "871a52f9",
        "outputId": "8ba3c168-9ff3-4800-9779-95777d918466"
      },
      "outputs": [
        {
          "data": {
            "text/plain": [
              "['TV', '냉장고', '전자레인지', '컴퓨터', '선풍기', '믹서기']"
            ]
          },
          "execution_count": 4,
          "metadata": {},
          "output_type": "execute_result"
        }
      ],
      "source": [
        "# 컬럼 중복 제거 후 리스트화\n",
        "\n",
        "item_list = list(df['items'].unique())\n",
        "item_list"
      ]
    },
    {
      "cell_type": "code",
      "execution_count": null,
      "id": "161a622b",
      "metadata": {
        "id": "161a622b",
        "outputId": "fe4e1bd9-f141-4fd2-e68f-2b8febf3cdd4"
      },
      "outputs": [
        {
          "data": {
            "text/plain": [
              "['TV', '냉장고', '믹서기', '선풍기', '전자레인지', '컴퓨터']"
            ]
          },
          "execution_count": 5,
          "metadata": {},
          "output_type": "execute_result"
        }
      ],
      "source": [
        "# ㄱㄴㄷ순으로 정렬 - 원본 저장 O\n",
        "\n",
        "item_list = sorted(item_list)\n",
        "item_list"
      ]
    },
    {
      "cell_type": "code",
      "execution_count": null,
      "id": "f46f5af4",
      "metadata": {
        "id": "f46f5af4"
      },
      "outputs": [],
      "source": [
        "# 데이터값 삽입시 인덱스가 반환되도록 함수 정의\n",
        "\n",
        "# 함수 정의\n",
        "def change_label(item):\n",
        "    # 리스트명 . index ( 값) → 값에 해당하는 인덱스 위치 반환\n",
        "    return item_list.index(item)"
      ]
    },
    {
      "cell_type": "code",
      "execution_count": null,
      "id": "825d99dc",
      "metadata": {
        "id": "825d99dc",
        "outputId": "9005ad08-4c77-4dad-a762-7e09448bc77a"
      },
      "outputs": [
        {
          "data": {
            "text/plain": [
              "(0, 4)"
            ]
          },
          "execution_count": 7,
          "metadata": {},
          "output_type": "execute_result"
        }
      ],
      "source": [
        "change_label('TV'), change_label('전자레인지')"
      ]
    },
    {
      "cell_type": "code",
      "execution_count": null,
      "id": "9fdf1ed5",
      "metadata": {
        "id": "9fdf1ed5"
      },
      "outputs": [],
      "source": [
        "# 데이터프레임에 컬럼을 추가 후 라벨링한 값 추가\n",
        "# 데이터프레임 [ 컬럼명 ].(함수명이나 람다함수)\n",
        "\n",
        "df['items_label'] = df['items'].apply(change_label)"
      ]
    },
    {
      "cell_type": "code",
      "execution_count": null,
      "id": "f3fc02ed",
      "metadata": {
        "id": "f3fc02ed",
        "outputId": "70f51d4b-78a3-4f08-84a9-7043c0f4e5db"
      },
      "outputs": [
        {
          "data": {
            "text/html": [
              "<div>\n",
              "<style scoped>\n",
              "    .dataframe tbody tr th:only-of-type {\n",
              "        vertical-align: middle;\n",
              "    }\n",
              "\n",
              "    .dataframe tbody tr th {\n",
              "        vertical-align: top;\n",
              "    }\n",
              "\n",
              "    .dataframe thead th {\n",
              "        text-align: right;\n",
              "    }\n",
              "</style>\n",
              "<table border=\"1\" class=\"dataframe\">\n",
              "  <thead>\n",
              "    <tr style=\"text-align: right;\">\n",
              "      <th></th>\n",
              "      <th>items</th>\n",
              "      <th>items_label</th>\n",
              "    </tr>\n",
              "  </thead>\n",
              "  <tbody>\n",
              "    <tr>\n",
              "      <th>0</th>\n",
              "      <td>TV</td>\n",
              "      <td>0</td>\n",
              "    </tr>\n",
              "    <tr>\n",
              "      <th>1</th>\n",
              "      <td>냉장고</td>\n",
              "      <td>1</td>\n",
              "    </tr>\n",
              "    <tr>\n",
              "      <th>2</th>\n",
              "      <td>전자레인지</td>\n",
              "      <td>4</td>\n",
              "    </tr>\n",
              "    <tr>\n",
              "      <th>3</th>\n",
              "      <td>컴퓨터</td>\n",
              "      <td>5</td>\n",
              "    </tr>\n",
              "    <tr>\n",
              "      <th>4</th>\n",
              "      <td>선풍기</td>\n",
              "      <td>3</td>\n",
              "    </tr>\n",
              "    <tr>\n",
              "      <th>5</th>\n",
              "      <td>선풍기</td>\n",
              "      <td>3</td>\n",
              "    </tr>\n",
              "    <tr>\n",
              "      <th>6</th>\n",
              "      <td>믹서기</td>\n",
              "      <td>2</td>\n",
              "    </tr>\n",
              "    <tr>\n",
              "      <th>7</th>\n",
              "      <td>믹서기</td>\n",
              "      <td>2</td>\n",
              "    </tr>\n",
              "  </tbody>\n",
              "</table>\n",
              "</div>"
            ],
            "text/plain": [
              "   items  items_label\n",
              "0     TV            0\n",
              "1    냉장고            1\n",
              "2  전자레인지            4\n",
              "3    컴퓨터            5\n",
              "4    선풍기            3\n",
              "5    선풍기            3\n",
              "6    믹서기            2\n",
              "7    믹서기            2"
            ]
          },
          "execution_count": 9,
          "metadata": {},
          "output_type": "execute_result"
        }
      ],
      "source": [
        "df"
      ]
    },
    {
      "cell_type": "markdown",
      "id": "860edeb8",
      "metadata": {
        "id": "860edeb8"
      },
      "source": [
        "---------------------------------------------------"
      ]
    },
    {
      "cell_type": "markdown",
      "id": "d117bb81",
      "metadata": {
        "id": "d117bb81"
      },
      "source": [
        "### 사이킷런 LabelEncoder() 활용\n",
        "\n",
        "- 1) 인코딩 객체 생성\n",
        "\n",
        ">    - encoder.fit(items)\n",
        "    \n",
        "\n",
        "- 2) 인코딩 객체 fit → 인코딩.fit(타겟리스트)\n",
        "\n",
        ">    - encoder.fit(items)\n",
        "    \n",
        "\n",
        "- 3) 인코딩객체 변환및 저장 => 인코딩.transform(타겟리스트)\n",
        "\n",
        ">    - labels = encoder.transform(items)"
      ]
    },
    {
      "cell_type": "code",
      "execution_count": null,
      "id": "d6a42ccf",
      "metadata": {
        "id": "d6a42ccf",
        "outputId": "56b651f1-5cac-4db4-f0f7-8d3a65029e6d"
      },
      "outputs": [
        {
          "data": {
            "text/plain": [
              "sklearn.preprocessing._label.LabelEncoder"
            ]
          },
          "execution_count": 10,
          "metadata": {},
          "output_type": "execute_result"
        }
      ],
      "source": [
        "# 1) 인코딩 객체 생성\n",
        "\n",
        "encoder = LabelEncoder()\n",
        "type(encoder)"
      ]
    },
    {
      "cell_type": "code",
      "execution_count": null,
      "id": "03f94497",
      "metadata": {
        "id": "03f94497",
        "outputId": "32726ca3-c64e-4b68-d69b-b4f8b0835df2"
      },
      "outputs": [
        {
          "name": "stdout",
          "output_type": "stream",
          "text": [
            "['TV', '냉장고', '믹서기', '선풍기', '전자레인지', '컴퓨터']\n"
          ]
        },
        {
          "data": {
            "text/plain": [
              "LabelEncoder()"
            ]
          },
          "execution_count": 11,
          "metadata": {},
          "output_type": "execute_result"
        }
      ],
      "source": [
        "# 2) 입력 데이터 적용\n",
        "\n",
        "print(item_list)\n",
        "encoder.fit(item_list)"
      ]
    },
    {
      "cell_type": "code",
      "execution_count": null,
      "id": "6269245e",
      "metadata": {
        "id": "6269245e",
        "outputId": "7bbc4a18-c536-4131-bdb3-e230f28d756d"
      },
      "outputs": [
        {
          "data": {
            "text/plain": [
              "array([0, 1, 2, 3, 4, 5])"
            ]
          },
          "execution_count": 12,
          "metadata": {},
          "output_type": "execute_result"
        }
      ],
      "source": [
        "# 3) 결과 데이타 저장 \n",
        "# encoder.transform(items)\n",
        "\n",
        "encoder.transform(['TV', '냉장고', '믹서기', '선풍기', '전자레인지', '컴퓨터'])"
      ]
    },
    {
      "cell_type": "code",
      "execution_count": null,
      "id": "4333ff47",
      "metadata": {
        "id": "4333ff47",
        "outputId": "ae92fa8b-cb0e-4b74-b5af-668957b1b324"
      },
      "outputs": [
        {
          "data": {
            "text/html": [
              "<div>\n",
              "<style scoped>\n",
              "    .dataframe tbody tr th:only-of-type {\n",
              "        vertical-align: middle;\n",
              "    }\n",
              "\n",
              "    .dataframe tbody tr th {\n",
              "        vertical-align: top;\n",
              "    }\n",
              "\n",
              "    .dataframe thead th {\n",
              "        text-align: right;\n",
              "    }\n",
              "</style>\n",
              "<table border=\"1\" class=\"dataframe\">\n",
              "  <thead>\n",
              "    <tr style=\"text-align: right;\">\n",
              "      <th></th>\n",
              "      <th>items</th>\n",
              "      <th>items_label</th>\n",
              "      <th>items_label2</th>\n",
              "    </tr>\n",
              "  </thead>\n",
              "  <tbody>\n",
              "    <tr>\n",
              "      <th>0</th>\n",
              "      <td>TV</td>\n",
              "      <td>0</td>\n",
              "      <td>0</td>\n",
              "    </tr>\n",
              "    <tr>\n",
              "      <th>1</th>\n",
              "      <td>냉장고</td>\n",
              "      <td>1</td>\n",
              "      <td>1</td>\n",
              "    </tr>\n",
              "    <tr>\n",
              "      <th>2</th>\n",
              "      <td>전자레인지</td>\n",
              "      <td>4</td>\n",
              "      <td>4</td>\n",
              "    </tr>\n",
              "    <tr>\n",
              "      <th>3</th>\n",
              "      <td>컴퓨터</td>\n",
              "      <td>5</td>\n",
              "      <td>5</td>\n",
              "    </tr>\n",
              "    <tr>\n",
              "      <th>4</th>\n",
              "      <td>선풍기</td>\n",
              "      <td>3</td>\n",
              "      <td>3</td>\n",
              "    </tr>\n",
              "    <tr>\n",
              "      <th>5</th>\n",
              "      <td>선풍기</td>\n",
              "      <td>3</td>\n",
              "      <td>3</td>\n",
              "    </tr>\n",
              "    <tr>\n",
              "      <th>6</th>\n",
              "      <td>믹서기</td>\n",
              "      <td>2</td>\n",
              "      <td>2</td>\n",
              "    </tr>\n",
              "    <tr>\n",
              "      <th>7</th>\n",
              "      <td>믹서기</td>\n",
              "      <td>2</td>\n",
              "      <td>2</td>\n",
              "    </tr>\n",
              "  </tbody>\n",
              "</table>\n",
              "</div>"
            ],
            "text/plain": [
              "   items  items_label  items_label2\n",
              "0     TV            0             0\n",
              "1    냉장고            1             1\n",
              "2  전자레인지            4             4\n",
              "3    컴퓨터            5             5\n",
              "4    선풍기            3             3\n",
              "5    선풍기            3             3\n",
              "6    믹서기            2             2\n",
              "7    믹서기            2             2"
            ]
          },
          "execution_count": 13,
          "metadata": {},
          "output_type": "execute_result"
        }
      ],
      "source": [
        "# 데이터프레임에 컬럼 추가 후 레이블링 된 값 추가\n",
        "\n",
        "df['items_label2'] = encoder.transform(df['items'])\n",
        "df"
      ]
    },
    {
      "cell_type": "code",
      "execution_count": null,
      "id": "ddb8a1cd",
      "metadata": {
        "scrolled": false,
        "id": "ddb8a1cd",
        "outputId": "aa831c39-46cc-4ff5-8f2d-2bc5062fce3b"
      },
      "outputs": [
        {
          "data": {
            "text/plain": [
              "['__class__',\n",
              " '__delattr__',\n",
              " '__dict__',\n",
              " '__dir__',\n",
              " '__doc__',\n",
              " '__eq__',\n",
              " '__format__',\n",
              " '__ge__',\n",
              " '__getattribute__',\n",
              " '__getstate__',\n",
              " '__gt__',\n",
              " '__hash__',\n",
              " '__init__',\n",
              " '__init_subclass__',\n",
              " '__le__',\n",
              " '__lt__',\n",
              " '__module__',\n",
              " '__ne__',\n",
              " '__new__',\n",
              " '__reduce__',\n",
              " '__reduce_ex__',\n",
              " '__repr__',\n",
              " '__setattr__',\n",
              " '__setstate__',\n",
              " '__sizeof__',\n",
              " '__str__',\n",
              " '__subclasshook__',\n",
              " '__weakref__',\n",
              " '_check_feature_names',\n",
              " '_check_n_features',\n",
              " '_get_param_names',\n",
              " '_get_tags',\n",
              " '_more_tags',\n",
              " '_repr_html_',\n",
              " '_repr_html_inner',\n",
              " '_repr_mimebundle_',\n",
              " '_validate_data',\n",
              " 'classes_',\n",
              " 'fit',\n",
              " 'fit_transform',\n",
              " 'get_params',\n",
              " 'inverse_transform',\n",
              " 'set_params',\n",
              " 'transform']"
            ]
          },
          "execution_count": 14,
          "metadata": {},
          "output_type": "execute_result"
        }
      ],
      "source": [
        "# 전체 속성과 값 확인 \n",
        "dir(encoder)"
      ]
    },
    {
      "cell_type": "code",
      "execution_count": null,
      "id": "93845f64",
      "metadata": {
        "id": "93845f64"
      },
      "outputs": [],
      "source": [
        "# 인코딩객체.classes_ : 각 숫자에 해당하는 원본 리스트 반환\n",
        "# 인코딩객체.inverse_transform( [  레이블링된 숫자, ... ]) : 메소드 이용 원본값 보기"
      ]
    },
    {
      "cell_type": "code",
      "execution_count": null,
      "id": "648a5d24",
      "metadata": {
        "id": "648a5d24",
        "outputId": "ff03f617-020f-4fa6-a638-b320e30c1f74"
      },
      "outputs": [
        {
          "data": {
            "text/plain": [
              "array(['TV', '냉장고', '믹서기', '선풍기', '전자레인지', '컴퓨터'], dtype='<U5')"
            ]
          },
          "execution_count": 16,
          "metadata": {},
          "output_type": "execute_result"
        }
      ],
      "source": [
        "encoder.classes_"
      ]
    },
    {
      "cell_type": "code",
      "execution_count": null,
      "id": "61f82ef0",
      "metadata": {
        "id": "61f82ef0",
        "outputId": "e366f73a-14e1-47f8-9bd4-347d8b03ceb7"
      },
      "outputs": [
        {
          "data": {
            "text/plain": [
              "array(['TV', '믹서기', '선풍기', '컴퓨터', '컴퓨터'], dtype='<U5')"
            ]
          },
          "execution_count": 17,
          "metadata": {},
          "output_type": "execute_result"
        }
      ],
      "source": [
        "encoder.inverse_transform([0, 2, 3, 5, 5])"
      ]
    },
    {
      "cell_type": "markdown",
      "id": "f708a74c",
      "metadata": {
        "id": "f708a74c"
      },
      "source": [
        "---------------------------------------------------"
      ]
    },
    {
      "cell_type": "markdown",
      "id": "175ae918",
      "metadata": {
        "id": "175ae918"
      },
      "source": [
        "## 원핫인코딩\n",
        "\n",
        ">- pd.get_dummies(데이터프레임[컬럼])"
      ]
    },
    {
      "cell_type": "code",
      "execution_count": null,
      "id": "65f46f21",
      "metadata": {
        "id": "65f46f21",
        "outputId": "4132845d-ec19-40f5-ef30-48982e4dfdce"
      },
      "outputs": [
        {
          "data": {
            "text/html": [
              "<div>\n",
              "<style scoped>\n",
              "    .dataframe tbody tr th:only-of-type {\n",
              "        vertical-align: middle;\n",
              "    }\n",
              "\n",
              "    .dataframe tbody tr th {\n",
              "        vertical-align: top;\n",
              "    }\n",
              "\n",
              "    .dataframe thead th {\n",
              "        text-align: right;\n",
              "    }\n",
              "</style>\n",
              "<table border=\"1\" class=\"dataframe\">\n",
              "  <thead>\n",
              "    <tr style=\"text-align: right;\">\n",
              "      <th></th>\n",
              "      <th>TV</th>\n",
              "      <th>냉장고</th>\n",
              "      <th>믹서기</th>\n",
              "      <th>선풍기</th>\n",
              "      <th>전자레인지</th>\n",
              "      <th>컴퓨터</th>\n",
              "    </tr>\n",
              "  </thead>\n",
              "  <tbody>\n",
              "    <tr>\n",
              "      <th>0</th>\n",
              "      <td>1</td>\n",
              "      <td>0</td>\n",
              "      <td>0</td>\n",
              "      <td>0</td>\n",
              "      <td>0</td>\n",
              "      <td>0</td>\n",
              "    </tr>\n",
              "    <tr>\n",
              "      <th>1</th>\n",
              "      <td>0</td>\n",
              "      <td>1</td>\n",
              "      <td>0</td>\n",
              "      <td>0</td>\n",
              "      <td>0</td>\n",
              "      <td>0</td>\n",
              "    </tr>\n",
              "    <tr>\n",
              "      <th>2</th>\n",
              "      <td>0</td>\n",
              "      <td>0</td>\n",
              "      <td>0</td>\n",
              "      <td>0</td>\n",
              "      <td>1</td>\n",
              "      <td>0</td>\n",
              "    </tr>\n",
              "    <tr>\n",
              "      <th>3</th>\n",
              "      <td>0</td>\n",
              "      <td>0</td>\n",
              "      <td>0</td>\n",
              "      <td>0</td>\n",
              "      <td>0</td>\n",
              "      <td>1</td>\n",
              "    </tr>\n",
              "    <tr>\n",
              "      <th>4</th>\n",
              "      <td>0</td>\n",
              "      <td>0</td>\n",
              "      <td>0</td>\n",
              "      <td>1</td>\n",
              "      <td>0</td>\n",
              "      <td>0</td>\n",
              "    </tr>\n",
              "    <tr>\n",
              "      <th>5</th>\n",
              "      <td>0</td>\n",
              "      <td>0</td>\n",
              "      <td>0</td>\n",
              "      <td>1</td>\n",
              "      <td>0</td>\n",
              "      <td>0</td>\n",
              "    </tr>\n",
              "    <tr>\n",
              "      <th>6</th>\n",
              "      <td>0</td>\n",
              "      <td>0</td>\n",
              "      <td>1</td>\n",
              "      <td>0</td>\n",
              "      <td>0</td>\n",
              "      <td>0</td>\n",
              "    </tr>\n",
              "    <tr>\n",
              "      <th>7</th>\n",
              "      <td>0</td>\n",
              "      <td>0</td>\n",
              "      <td>1</td>\n",
              "      <td>0</td>\n",
              "      <td>0</td>\n",
              "      <td>0</td>\n",
              "    </tr>\n",
              "  </tbody>\n",
              "</table>\n",
              "</div>"
            ],
            "text/plain": [
              "   TV  냉장고  믹서기  선풍기  전자레인지  컴퓨터\n",
              "0   1    0    0    0      0    0\n",
              "1   0    1    0    0      0    0\n",
              "2   0    0    0    0      1    0\n",
              "3   0    0    0    0      0    1\n",
              "4   0    0    0    1      0    0\n",
              "5   0    0    0    1      0    0\n",
              "6   0    0    1    0      0    0\n",
              "7   0    0    1    0      0    0"
            ]
          },
          "execution_count": 18,
          "metadata": {},
          "output_type": "execute_result"
        }
      ],
      "source": [
        "pd.get_dummies(df['items'])"
      ]
    },
    {
      "cell_type": "code",
      "execution_count": null,
      "id": "9f7e666a",
      "metadata": {
        "id": "9f7e666a",
        "outputId": "bebe9b6c-149f-48c5-e6dd-7595b4d94604"
      },
      "outputs": [
        {
          "data": {
            "text/html": [
              "<div>\n",
              "<style scoped>\n",
              "    .dataframe tbody tr th:only-of-type {\n",
              "        vertical-align: middle;\n",
              "    }\n",
              "\n",
              "    .dataframe tbody tr th {\n",
              "        vertical-align: top;\n",
              "    }\n",
              "\n",
              "    .dataframe thead th {\n",
              "        text-align: right;\n",
              "    }\n",
              "</style>\n",
              "<table border=\"1\" class=\"dataframe\">\n",
              "  <thead>\n",
              "    <tr style=\"text-align: right;\">\n",
              "      <th></th>\n",
              "      <th>items</th>\n",
              "      <th>items_label</th>\n",
              "      <th>items_label2</th>\n",
              "      <th>item_TV</th>\n",
              "      <th>item_냉장고</th>\n",
              "      <th>item_믹서기</th>\n",
              "      <th>item_선풍기</th>\n",
              "      <th>item_전자레인지</th>\n",
              "      <th>item_컴퓨터</th>\n",
              "    </tr>\n",
              "  </thead>\n",
              "  <tbody>\n",
              "    <tr>\n",
              "      <th>0</th>\n",
              "      <td>TV</td>\n",
              "      <td>0</td>\n",
              "      <td>0</td>\n",
              "      <td>1</td>\n",
              "      <td>0</td>\n",
              "      <td>0</td>\n",
              "      <td>0</td>\n",
              "      <td>0</td>\n",
              "      <td>0</td>\n",
              "    </tr>\n",
              "    <tr>\n",
              "      <th>1</th>\n",
              "      <td>냉장고</td>\n",
              "      <td>1</td>\n",
              "      <td>1</td>\n",
              "      <td>0</td>\n",
              "      <td>1</td>\n",
              "      <td>0</td>\n",
              "      <td>0</td>\n",
              "      <td>0</td>\n",
              "      <td>0</td>\n",
              "    </tr>\n",
              "    <tr>\n",
              "      <th>2</th>\n",
              "      <td>전자레인지</td>\n",
              "      <td>4</td>\n",
              "      <td>4</td>\n",
              "      <td>0</td>\n",
              "      <td>0</td>\n",
              "      <td>0</td>\n",
              "      <td>0</td>\n",
              "      <td>1</td>\n",
              "      <td>0</td>\n",
              "    </tr>\n",
              "    <tr>\n",
              "      <th>3</th>\n",
              "      <td>컴퓨터</td>\n",
              "      <td>5</td>\n",
              "      <td>5</td>\n",
              "      <td>0</td>\n",
              "      <td>0</td>\n",
              "      <td>0</td>\n",
              "      <td>0</td>\n",
              "      <td>0</td>\n",
              "      <td>1</td>\n",
              "    </tr>\n",
              "    <tr>\n",
              "      <th>4</th>\n",
              "      <td>선풍기</td>\n",
              "      <td>3</td>\n",
              "      <td>3</td>\n",
              "      <td>0</td>\n",
              "      <td>0</td>\n",
              "      <td>0</td>\n",
              "      <td>1</td>\n",
              "      <td>0</td>\n",
              "      <td>0</td>\n",
              "    </tr>\n",
              "    <tr>\n",
              "      <th>5</th>\n",
              "      <td>선풍기</td>\n",
              "      <td>3</td>\n",
              "      <td>3</td>\n",
              "      <td>0</td>\n",
              "      <td>0</td>\n",
              "      <td>0</td>\n",
              "      <td>1</td>\n",
              "      <td>0</td>\n",
              "      <td>0</td>\n",
              "    </tr>\n",
              "    <tr>\n",
              "      <th>6</th>\n",
              "      <td>믹서기</td>\n",
              "      <td>2</td>\n",
              "      <td>2</td>\n",
              "      <td>0</td>\n",
              "      <td>0</td>\n",
              "      <td>1</td>\n",
              "      <td>0</td>\n",
              "      <td>0</td>\n",
              "      <td>0</td>\n",
              "    </tr>\n",
              "    <tr>\n",
              "      <th>7</th>\n",
              "      <td>믹서기</td>\n",
              "      <td>2</td>\n",
              "      <td>2</td>\n",
              "      <td>0</td>\n",
              "      <td>0</td>\n",
              "      <td>1</td>\n",
              "      <td>0</td>\n",
              "      <td>0</td>\n",
              "      <td>0</td>\n",
              "    </tr>\n",
              "  </tbody>\n",
              "</table>\n",
              "</div>"
            ],
            "text/plain": [
              "   items  items_label  items_label2  item_TV  item_냉장고  item_믹서기  item_선풍기  \\\n",
              "0     TV            0             0        1         0         0         0   \n",
              "1    냉장고            1             1        0         1         0         0   \n",
              "2  전자레인지            4             4        0         0         0         0   \n",
              "3    컴퓨터            5             5        0         0         0         0   \n",
              "4    선풍기            3             3        0         0         0         1   \n",
              "5    선풍기            3             3        0         0         0         1   \n",
              "6    믹서기            2             2        0         0         1         0   \n",
              "7    믹서기            2             2        0         0         1         0   \n",
              "\n",
              "   item_전자레인지  item_컴퓨터  \n",
              "0           0         0  \n",
              "1           0         0  \n",
              "2           1         0  \n",
              "3           0         1  \n",
              "4           0         0  \n",
              "5           0         0  \n",
              "6           0         0  \n",
              "7           0         0  "
            ]
          },
          "execution_count": 19,
          "metadata": {},
          "output_type": "execute_result"
        }
      ],
      "source": [
        "# 가로로 합치기 \n",
        "\n",
        "pd.concat([df, pd.get_dummies(df['items'], prefix='item')], axis=1)"
      ]
    },
    {
      "cell_type": "markdown",
      "id": "071570ee",
      "metadata": {
        "id": "071570ee"
      },
      "source": [
        "---------------------------------------------------"
      ]
    },
    {
      "cell_type": "markdown",
      "id": "73ce8461",
      "metadata": {
        "id": "73ce8461"
      },
      "source": [
        "## 타이타닉 생존자 예측"
      ]
    },
    {
      "cell_type": "code",
      "execution_count": null,
      "id": "d1f18a8f",
      "metadata": {
        "id": "d1f18a8f"
      },
      "outputs": [],
      "source": [
        "# 1) 데이터 확인"
      ]
    },
    {
      "cell_type": "code",
      "execution_count": null,
      "id": "fa2d3989",
      "metadata": {
        "id": "fa2d3989",
        "outputId": "f6734704-385c-4b89-b55c-713d1eab1877"
      },
      "outputs": [
        {
          "name": "stdout",
          "output_type": "stream",
          "text": [
            " C 드라이브의 볼륨에는 이름이 없습니다.\n",
            " 볼륨 일련 번호: 2C15-09AA\n",
            "\n",
            " C:\\Users\\uuuna\\Desktop\\AI\\9W_머신러닝\\data 디렉터리\n",
            "\n",
            "2020-08-18  오전 09:29            61,194 titanic_book.csv\n",
            "               1개 파일              61,194 바이트\n",
            "               0개 디렉터리  73,088,176,128 바이트 남음\n"
          ]
        }
      ],
      "source": [
        "ls data\\titanic_book.csv"
      ]
    },
    {
      "cell_type": "markdown",
      "id": "e13a8dbd",
      "metadata": {
        "id": "e13a8dbd"
      },
      "source": [
        "#### 각 피처 설명\n",
        "- Passengerid: 탑승자 데이터 일련번호\n",
        "- survived: 생존 여부, 0 = 사망, 1 = 생존\n",
        "- Pclass: 티켓의 선실 등급, 1 = 일등석, 2 = 이등석, 3 = 삼등석\n",
        "- sex: 탑승자 성별\n",
        "- name: 탑승자 이름\n",
        "- Age: 탑승자 나이\n",
        "- sibsp: 같이 탑승한 형제자매 또는 배우자 인원수\n",
        "- parch: 같이 탑승한 부모님 또는 어린이 인원수\n",
        "- ticket: 티켓 번호\n",
        "- fare: 요금\n",
        "- cabin: 선실 번호\n",
        "- embarked: 중간 정착 항구 C = Cherbourg, Q = Queenstown, S = Southampton"
      ]
    },
    {
      "cell_type": "code",
      "execution_count": null,
      "id": "8975e9fd",
      "metadata": {
        "id": "8975e9fd"
      },
      "outputs": [],
      "source": [
        "# !type data\\titanic_book.csv"
      ]
    },
    {
      "cell_type": "code",
      "execution_count": null,
      "id": "73f3a967",
      "metadata": {
        "id": "73f3a967",
        "outputId": "cb32e440-37d3-4688-aa5c-5ae231957c31"
      },
      "outputs": [
        {
          "data": {
            "text/plain": [
              "(891, 12)"
            ]
          },
          "execution_count": 22,
          "metadata": {},
          "output_type": "execute_result"
        }
      ],
      "source": [
        "# 2) 데이터 프레임으로 저장\n",
        "\n",
        "df_t = pd.read_csv('data/titanic_book.csv')\n",
        "df_t.shape"
      ]
    },
    {
      "cell_type": "code",
      "execution_count": null,
      "id": "7ed87014",
      "metadata": {
        "id": "7ed87014",
        "outputId": "74a30a2b-8ba7-4cad-f7ba-d818be3505c2"
      },
      "outputs": [
        {
          "data": {
            "text/html": [
              "<div>\n",
              "<style scoped>\n",
              "    .dataframe tbody tr th:only-of-type {\n",
              "        vertical-align: middle;\n",
              "    }\n",
              "\n",
              "    .dataframe tbody tr th {\n",
              "        vertical-align: top;\n",
              "    }\n",
              "\n",
              "    .dataframe thead th {\n",
              "        text-align: right;\n",
              "    }\n",
              "</style>\n",
              "<table border=\"1\" class=\"dataframe\">\n",
              "  <thead>\n",
              "    <tr style=\"text-align: right;\">\n",
              "      <th></th>\n",
              "      <th>PassengerId</th>\n",
              "      <th>Survived</th>\n",
              "      <th>Pclass</th>\n",
              "      <th>Name</th>\n",
              "      <th>Sex</th>\n",
              "      <th>Age</th>\n",
              "      <th>SibSp</th>\n",
              "      <th>Parch</th>\n",
              "      <th>Ticket</th>\n",
              "      <th>Fare</th>\n",
              "      <th>Cabin</th>\n",
              "      <th>Embarked</th>\n",
              "    </tr>\n",
              "  </thead>\n",
              "  <tbody>\n",
              "    <tr>\n",
              "      <th>845</th>\n",
              "      <td>846</td>\n",
              "      <td>0</td>\n",
              "      <td>3</td>\n",
              "      <td>Abbing, Mr. Anthony</td>\n",
              "      <td>male</td>\n",
              "      <td>42.0</td>\n",
              "      <td>0</td>\n",
              "      <td>0</td>\n",
              "      <td>C.A. 5547</td>\n",
              "      <td>7.550</td>\n",
              "      <td>NaN</td>\n",
              "      <td>S</td>\n",
              "    </tr>\n",
              "    <tr>\n",
              "      <th>816</th>\n",
              "      <td>817</td>\n",
              "      <td>0</td>\n",
              "      <td>3</td>\n",
              "      <td>Heininen, Miss. Wendla Maria</td>\n",
              "      <td>female</td>\n",
              "      <td>23.0</td>\n",
              "      <td>0</td>\n",
              "      <td>0</td>\n",
              "      <td>STON/O2. 3101290</td>\n",
              "      <td>7.925</td>\n",
              "      <td>NaN</td>\n",
              "      <td>S</td>\n",
              "    </tr>\n",
              "    <tr>\n",
              "      <th>277</th>\n",
              "      <td>278</td>\n",
              "      <td>0</td>\n",
              "      <td>2</td>\n",
              "      <td>Parkes, Mr. Francis \"Frank\"</td>\n",
              "      <td>male</td>\n",
              "      <td>NaN</td>\n",
              "      <td>0</td>\n",
              "      <td>0</td>\n",
              "      <td>239853</td>\n",
              "      <td>0.000</td>\n",
              "      <td>NaN</td>\n",
              "      <td>S</td>\n",
              "    </tr>\n",
              "  </tbody>\n",
              "</table>\n",
              "</div>"
            ],
            "text/plain": [
              "     PassengerId  Survived  Pclass                          Name     Sex  \\\n",
              "845          846         0       3           Abbing, Mr. Anthony    male   \n",
              "816          817         0       3  Heininen, Miss. Wendla Maria  female   \n",
              "277          278         0       2   Parkes, Mr. Francis \"Frank\"    male   \n",
              "\n",
              "      Age  SibSp  Parch            Ticket   Fare Cabin Embarked  \n",
              "845  42.0      0      0         C.A. 5547  7.550   NaN        S  \n",
              "816  23.0      0      0  STON/O2. 3101290  7.925   NaN        S  \n",
              "277   NaN      0      0            239853  0.000   NaN        S  "
            ]
          },
          "execution_count": 23,
          "metadata": {},
          "output_type": "execute_result"
        }
      ],
      "source": [
        "df_t.sample(3)"
      ]
    },
    {
      "cell_type": "code",
      "execution_count": null,
      "id": "4e510d1c",
      "metadata": {
        "id": "4e510d1c",
        "outputId": "623c7e1d-af1a-41de-ca1e-c70355b25401"
      },
      "outputs": [
        {
          "name": "stdout",
          "output_type": "stream",
          "text": [
            "<class 'pandas.core.frame.DataFrame'>\n",
            "RangeIndex: 891 entries, 0 to 890\n",
            "Data columns (total 12 columns):\n",
            " #   Column       Non-Null Count  Dtype  \n",
            "---  ------       --------------  -----  \n",
            " 0   PassengerId  891 non-null    int64  \n",
            " 1   Survived     891 non-null    int64  \n",
            " 2   Pclass       891 non-null    int64  \n",
            " 3   Name         891 non-null    object \n",
            " 4   Sex          891 non-null    object \n",
            " 5   Age          714 non-null    float64\n",
            " 6   SibSp        891 non-null    int64  \n",
            " 7   Parch        891 non-null    int64  \n",
            " 8   Ticket       891 non-null    object \n",
            " 9   Fare         891 non-null    float64\n",
            " 10  Cabin        204 non-null    object \n",
            " 11  Embarked     889 non-null    object \n",
            "dtypes: float64(2), int64(5), object(5)\n",
            "memory usage: 83.7+ KB\n"
          ]
        }
      ],
      "source": [
        "# 3) 결측치 확인\n",
        "\n",
        "df_t.info()"
      ]
    },
    {
      "cell_type": "code",
      "execution_count": null,
      "id": "e89ae30e",
      "metadata": {
        "id": "e89ae30e"
      },
      "outputs": [],
      "source": [
        "# 결측 컬럼 - Embarked , Age , Cabin "
      ]
    },
    {
      "cell_type": "code",
      "execution_count": null,
      "id": "9597c5d6",
      "metadata": {
        "id": "9597c5d6"
      },
      "outputs": [],
      "source": [
        "# Age → 컬럼의 평균으로 채우기\n",
        "\n",
        "avg = df_t['Age'].mean()\n",
        "df_t['Age'].fillna(value=avg, inplace=True)"
      ]
    },
    {
      "cell_type": "code",
      "execution_count": null,
      "id": "af751de6",
      "metadata": {
        "id": "af751de6",
        "outputId": "8a56c76b-bc84-451c-a184-71cd521100a3"
      },
      "outputs": [
        {
          "data": {
            "text/plain": [
              "0"
            ]
          },
          "execution_count": 27,
          "metadata": {},
          "output_type": "execute_result"
        }
      ],
      "source": [
        "# 결측값이 채워졌는지 확인\n",
        "\n",
        "df_t['Age'].isnull().sum()"
      ]
    },
    {
      "cell_type": "code",
      "execution_count": null,
      "id": "0df1d165",
      "metadata": {
        "id": "0df1d165",
        "outputId": "e8f2b753-6484-4422-c6ae-69f4b220c610"
      },
      "outputs": [
        {
          "name": "stdout",
          "output_type": "stream",
          "text": [
            "<class 'pandas.core.frame.DataFrame'>\n",
            "RangeIndex: 891 entries, 0 to 890\n",
            "Data columns (total 12 columns):\n",
            " #   Column       Non-Null Count  Dtype  \n",
            "---  ------       --------------  -----  \n",
            " 0   PassengerId  891 non-null    int64  \n",
            " 1   Survived     891 non-null    int64  \n",
            " 2   Pclass       891 non-null    int64  \n",
            " 3   Name         891 non-null    object \n",
            " 4   Sex          891 non-null    object \n",
            " 5   Age          891 non-null    float64\n",
            " 6   SibSp        891 non-null    int64  \n",
            " 7   Parch        891 non-null    int64  \n",
            " 8   Ticket       891 non-null    object \n",
            " 9   Fare         891 non-null    float64\n",
            " 10  Cabin        204 non-null    object \n",
            " 11  Embarked     889 non-null    object \n",
            "dtypes: float64(2), int64(5), object(5)\n",
            "memory usage: 83.7+ KB\n"
          ]
        }
      ],
      "source": [
        "df_t.info()"
      ]
    },
    {
      "cell_type": "code",
      "execution_count": null,
      "id": "81ca89fc",
      "metadata": {
        "id": "81ca89fc",
        "outputId": "05ccddf3-b6a5-4544-8834-999f1cd20217"
      },
      "outputs": [
        {
          "data": {
            "text/plain": [
              "2"
            ]
          },
          "execution_count": 29,
          "metadata": {},
          "output_type": "execute_result"
        }
      ],
      "source": [
        "# Embarked 결측값의 갯수?\n",
        "\n",
        "df_t['Embarked'].isnull().sum()"
      ]
    },
    {
      "cell_type": "code",
      "execution_count": null,
      "id": "e6b2bdc8",
      "metadata": {
        "id": "e6b2bdc8",
        "outputId": "9a11d02f-bb13-40d3-e29b-ca803f9d1a1e"
      },
      "outputs": [
        {
          "data": {
            "text/plain": [
              "S    644\n",
              "C    168\n",
              "Q     77\n",
              "Name: Embarked, dtype: int64"
            ]
          },
          "execution_count": 30,
          "metadata": {},
          "output_type": "execute_result"
        }
      ],
      "source": [
        "df_t['Embarked'].value_counts()"
      ]
    },
    {
      "cell_type": "code",
      "execution_count": null,
      "id": "867195e3",
      "metadata": {
        "id": "867195e3"
      },
      "outputs": [],
      "source": [
        "# Embarked 결측값은 최빈값으로 채우기\n",
        "\n",
        "df_t['Embarked'].fillna(value='S', inplace=True)"
      ]
    },
    {
      "cell_type": "code",
      "execution_count": null,
      "id": "18f72ab9",
      "metadata": {
        "id": "18f72ab9",
        "outputId": "96c0142b-d18b-4ea6-9d9f-5600cb458654"
      },
      "outputs": [
        {
          "data": {
            "text/plain": [
              "0"
            ]
          },
          "execution_count": 32,
          "metadata": {},
          "output_type": "execute_result"
        }
      ],
      "source": [
        "df_t['Embarked'].isnull().sum()"
      ]
    },
    {
      "cell_type": "code",
      "execution_count": null,
      "id": "0a0447b1",
      "metadata": {
        "id": "0a0447b1",
        "outputId": "22bb7678-89b3-4e5a-bf1c-0c0da72cc08a"
      },
      "outputs": [
        {
          "data": {
            "text/plain": [
              "S    646\n",
              "C    168\n",
              "Q     77\n",
              "Name: Embarked, dtype: int64"
            ]
          },
          "execution_count": 33,
          "metadata": {},
          "output_type": "execute_result"
        }
      ],
      "source": [
        "df_t['Embarked'].value_counts()"
      ]
    },
    {
      "cell_type": "code",
      "execution_count": null,
      "id": "38498671",
      "metadata": {
        "id": "38498671",
        "outputId": "f838b3b7-9004-4d47-894b-fb4b63c6a9e7"
      },
      "outputs": [
        {
          "data": {
            "text/plain": [
              "array([nan, 'C85', 'C123', 'E46', 'G6', 'C103', 'D56', 'A6',\n",
              "       'C23 C25 C27', 'B78', 'D33', 'B30', 'C52', 'B28', 'C83', 'F33',\n",
              "       'F G73', 'E31', 'A5', 'D10 D12', 'D26', 'C110', 'B58 B60', 'E101',\n",
              "       'F E69', 'D47', 'B86', 'F2', 'C2', 'E33', 'B19', 'A7', 'C49', 'F4',\n",
              "       'A32', 'B4', 'B80', 'A31', 'D36', 'D15', 'C93', 'C78', 'D35',\n",
              "       'C87', 'B77', 'E67', 'B94', 'C125', 'C99', 'C118', 'D7', 'A19',\n",
              "       'B49', 'D', 'C22 C26', 'C106', 'C65', 'E36', 'C54',\n",
              "       'B57 B59 B63 B66', 'C7', 'E34', 'C32', 'B18', 'C124', 'C91', 'E40',\n",
              "       'T', 'C128', 'D37', 'B35', 'E50', 'C82', 'B96 B98', 'E10', 'E44',\n",
              "       'A34', 'C104', 'C111', 'C92', 'E38', 'D21', 'E12', 'E63', 'A14',\n",
              "       'B37', 'C30', 'D20', 'B79', 'E25', 'D46', 'B73', 'C95', 'B38',\n",
              "       'B39', 'B22', 'C86', 'C70', 'A16', 'C101', 'C68', 'A10', 'E68',\n",
              "       'B41', 'A20', 'D19', 'D50', 'D9', 'A23', 'B50', 'A26', 'D48',\n",
              "       'E58', 'C126', 'B71', 'B51 B53 B55', 'D49', 'B5', 'B20', 'F G63',\n",
              "       'C62 C64', 'E24', 'C90', 'C45', 'E8', 'B101', 'D45', 'C46', 'D30',\n",
              "       'E121', 'D11', 'E77', 'F38', 'B3', 'D6', 'B82 B84', 'D17', 'A36',\n",
              "       'B102', 'B69', 'E49', 'C47', 'D28', 'E17', 'A24', 'C50', 'B42',\n",
              "       'C148'], dtype=object)"
            ]
          },
          "execution_count": 34,
          "metadata": {},
          "output_type": "execute_result"
        }
      ],
      "source": [
        "df_t['Cabin'].unique()"
      ]
    },
    {
      "cell_type": "code",
      "execution_count": null,
      "id": "57c54c71",
      "metadata": {
        "id": "57c54c71",
        "outputId": "82bd22ee-9a35-4d44-aa16-880d311979b1"
      },
      "outputs": [
        {
          "data": {
            "text/plain": [
              "687"
            ]
          },
          "execution_count": 35,
          "metadata": {},
          "output_type": "execute_result"
        }
      ],
      "source": [
        "# Cabin 결측치 갯수 확인 \n",
        "\n",
        "df_t['Cabin'].isnull().sum()"
      ]
    },
    {
      "cell_type": "code",
      "execution_count": null,
      "id": "6477de62",
      "metadata": {
        "id": "6477de62"
      },
      "outputs": [],
      "source": [
        "# Cabin 값은 NaN 대신 'N' 으로 채움 \n",
        "df_t['Cabin'].fillna(value='N', inplace=True)"
      ]
    },
    {
      "cell_type": "code",
      "execution_count": null,
      "id": "b40c5e15",
      "metadata": {
        "id": "b40c5e15",
        "outputId": "07a4894b-97d0-4c7f-aecf-e11c379692f4"
      },
      "outputs": [
        {
          "name": "stdout",
          "output_type": "stream",
          "text": [
            "<class 'pandas.core.frame.DataFrame'>\n",
            "RangeIndex: 891 entries, 0 to 890\n",
            "Data columns (total 12 columns):\n",
            " #   Column       Non-Null Count  Dtype  \n",
            "---  ------       --------------  -----  \n",
            " 0   PassengerId  891 non-null    int64  \n",
            " 1   Survived     891 non-null    int64  \n",
            " 2   Pclass       891 non-null    int64  \n",
            " 3   Name         891 non-null    object \n",
            " 4   Sex          891 non-null    object \n",
            " 5   Age          891 non-null    float64\n",
            " 6   SibSp        891 non-null    int64  \n",
            " 7   Parch        891 non-null    int64  \n",
            " 8   Ticket       891 non-null    object \n",
            " 9   Fare         891 non-null    float64\n",
            " 10  Cabin        891 non-null    object \n",
            " 11  Embarked     891 non-null    object \n",
            "dtypes: float64(2), int64(5), object(5)\n",
            "memory usage: 83.7+ KB\n"
          ]
        }
      ],
      "source": [
        "df_t.info()"
      ]
    },
    {
      "cell_type": "markdown",
      "id": "89ccfc52",
      "metadata": {
        "id": "89ccfc52"
      },
      "source": [
        "### 머신러닝은 문자열 x "
      ]
    },
    {
      "cell_type": "code",
      "execution_count": null,
      "id": "8036cff1",
      "metadata": {
        "id": "8036cff1",
        "outputId": "c21c1ff0-6547-42ff-9950-cdb115d5c764"
      },
      "outputs": [
        {
          "data": {
            "text/plain": [
              "PassengerId      int64\n",
              "Survived         int64\n",
              "Pclass           int64\n",
              "Name            object\n",
              "Sex             object\n",
              "Age            float64\n",
              "SibSp            int64\n",
              "Parch            int64\n",
              "Ticket          object\n",
              "Fare           float64\n",
              "Cabin           object\n",
              "Embarked        object\n",
              "dtype: object"
            ]
          },
          "execution_count": 38,
          "metadata": {},
          "output_type": "execute_result"
        }
      ],
      "source": [
        "df_t.dtypes"
      ]
    },
    {
      "cell_type": "code",
      "execution_count": null,
      "id": "6bc0999c",
      "metadata": {
        "id": "6bc0999c"
      },
      "outputs": [],
      "source": [
        "# 문자 → 숫자 레이블링\n",
        "# 문자열 데이터는 ? Name, Sex, Ticket, Cabin, Embarked"
      ]
    },
    {
      "cell_type": "code",
      "execution_count": null,
      "id": "6c548ab7",
      "metadata": {
        "id": "6c548ab7",
        "outputId": "9ee9e13f-7969-4fd2-b401-235547a27d4d"
      },
      "outputs": [
        {
          "data": {
            "text/plain": [
              "male      577\n",
              "female    314\n",
              "Name: Sex, dtype: int64"
            ]
          },
          "execution_count": 40,
          "metadata": {},
          "output_type": "execute_result"
        }
      ],
      "source": [
        "# 성별 레이블링 → male : 0, female:1\n",
        "\n",
        "df_t['Sex'].value_counts()"
      ]
    },
    {
      "cell_type": "code",
      "execution_count": null,
      "id": "356287ff",
      "metadata": {
        "id": "356287ff",
        "outputId": "88ffa195-b5f3-4932-b301-5105a2c0fde1"
      },
      "outputs": [
        {
          "data": {
            "text/plain": [
              "array([1, 0, 0, 0, 1, 1, 1, 1, 0, 0, 0, 0, 1, 1, 0, 0, 1, 1, 0, 0, 1, 1,\n",
              "       0, 1, 0, 0, 1, 1, 0, 1, 1, 0, 0, 1, 1, 1, 1, 1, 0, 0, 0, 0, 1, 0,\n",
              "       0, 1, 1, 0, 1, 0, 1, 1, 0, 0, 1, 1, 0, 1, 0, 1, 1, 0, 1, 1, 1, 1,\n",
              "       0, 1, 0, 1, 1, 0, 1, 1, 1, 1, 1, 1, 1, 0, 1, 1, 0, 1, 0, 0, 1, 1,\n",
              "       0, 1, 1, 1, 1, 1, 1, 1, 1, 1, 0, 1, 0, 1, 1, 1, 1, 1, 0, 1, 1, 0,\n",
              "       1, 0, 1, 0, 0, 1, 1, 1, 1, 0, 1, 1, 1, 0, 1, 1, 1, 1, 0, 1, 1, 1,\n",
              "       0, 0, 1, 1, 0, 1, 1, 1, 0, 0, 0, 1, 1, 1, 1, 0, 1, 1, 1, 0, 1, 1,\n",
              "       1, 1, 0, 1, 1, 1, 1, 0, 1, 1, 1, 1, 0, 0, 1, 1, 1, 1, 0, 1, 1, 1,\n",
              "       1, 0, 1, 1, 0, 1, 1, 1, 0, 1, 0, 1, 1, 1, 0, 1, 0, 1, 0, 0, 1, 1,\n",
              "       0, 0, 1, 1, 1, 1, 1, 0, 1, 1, 0, 1, 1, 0, 1, 1, 1, 0, 0, 1, 0, 1,\n",
              "       1, 1, 1, 1, 1, 1, 1, 1, 1, 0, 0, 1, 1, 0, 1, 0, 1, 0, 1, 1, 0, 0,\n",
              "       1, 1, 1, 1, 0, 0, 1, 1, 1, 0, 1, 1, 0, 0, 0, 0, 0, 0, 1, 1, 1, 1,\n",
              "       0, 1, 1, 1, 0, 0, 1, 1, 0, 1, 0, 0, 0, 1, 1, 0, 1, 1, 1, 1, 1, 1,\n",
              "       1, 1, 1, 0, 0, 0, 1, 0, 1, 1, 1, 0, 1, 0, 0, 1, 1, 0, 1, 1, 0, 0,\n",
              "       1, 0, 0, 0, 0, 1, 1, 0, 0, 1, 0, 0, 1, 1, 0, 0, 1, 0, 1, 0, 0, 0,\n",
              "       0, 1, 1, 1, 0, 1, 1, 0, 1, 1, 1, 0, 1, 1, 1, 0, 0, 0, 1, 1, 1, 1,\n",
              "       1, 1, 1, 1, 0, 0, 0, 0, 1, 1, 0, 1, 1, 1, 0, 0, 0, 0, 1, 1, 1, 1,\n",
              "       0, 0, 0, 1, 1, 1, 0, 0, 1, 0, 1, 1, 1, 0, 1, 0, 1, 1, 1, 0, 0, 1,\n",
              "       0, 1, 1, 0, 1, 1, 0, 1, 0, 1, 1, 1, 1, 0, 1, 1, 0, 1, 1, 0, 0, 0,\n",
              "       1, 0, 1, 1, 1, 0, 1, 1, 0, 0, 1, 1, 1, 0, 0, 1, 1, 0, 0, 0, 1, 1,\n",
              "       0, 1, 1, 0, 1, 1, 0, 1, 0, 1, 1, 1, 1, 1, 1, 1, 1, 0, 0, 1, 1, 1,\n",
              "       1, 1, 1, 1, 1, 1, 1, 0, 1, 1, 0, 0, 0, 1, 1, 1, 1, 0, 1, 1, 1, 0,\n",
              "       1, 0, 0, 1, 1, 1, 1, 1, 1, 1, 1, 1, 0, 1, 0, 1, 1, 0, 0, 0, 0, 1,\n",
              "       0, 1, 1, 1, 1, 1, 1, 0, 1, 1, 0, 1, 0, 1, 0, 1, 1, 0, 1, 1, 0, 1,\n",
              "       1, 1, 0, 1, 1, 0, 0, 0, 1, 0, 1, 0, 0, 0, 0, 1, 1, 1, 0, 1, 1, 1,\n",
              "       1, 1, 1, 1, 0, 1, 0, 1, 0, 0, 1, 1, 1, 1, 0, 1, 1, 0, 1, 1, 1, 0,\n",
              "       1, 0, 1, 1, 0, 0, 0, 1, 0, 0, 1, 1, 1, 0, 1, 1, 1, 1, 1, 0, 1, 0,\n",
              "       1, 1, 0, 1, 1, 1, 0, 1, 1, 1, 1, 1, 1, 1, 0, 0, 0, 1, 0, 1, 1, 0,\n",
              "       1, 0, 0, 1, 1, 1, 1, 1, 1, 1, 1, 0, 1, 1, 1, 1, 1, 1, 0, 0, 1, 1,\n",
              "       0, 1, 1, 0, 0, 1, 0, 1, 1, 1, 1, 0, 1, 0, 1, 0, 0, 1, 1, 0, 1, 1,\n",
              "       1, 1, 1, 1, 1, 1, 1, 1, 1, 0, 0, 1, 1, 1, 1, 1, 1, 0, 0, 1, 0, 1,\n",
              "       1, 1, 1, 1, 1, 1, 1, 0, 1, 0, 1, 1, 1, 1, 1, 0, 1, 1, 0, 1, 0, 1,\n",
              "       1, 1, 0, 1, 0, 1, 0, 1, 1, 1, 1, 1, 0, 0, 1, 1, 0, 1, 1, 1, 1, 1,\n",
              "       0, 0, 1, 0, 0, 1, 1, 1, 1, 1, 0, 1, 1, 1, 1, 1, 0, 1, 1, 1, 1, 0,\n",
              "       1, 1, 0, 1, 1, 1, 0, 1, 1, 1, 1, 0, 1, 1, 1, 0, 1, 0, 1, 0, 1, 1,\n",
              "       1, 1, 0, 1, 0, 1, 1, 0, 1, 0, 0, 0, 1, 1, 1, 1, 0, 1, 1, 1, 1, 1,\n",
              "       0, 1, 1, 1, 0, 0, 1, 0, 1, 0, 1, 1, 1, 1, 1, 0, 1, 0, 1, 1, 1, 0,\n",
              "       1, 1, 0, 1, 1, 1, 0, 1, 1, 0, 1, 1, 1, 1, 1, 0, 0, 1, 1, 1, 1, 0,\n",
              "       1, 1, 1, 1, 1, 1, 0, 1, 1, 1, 1, 1, 1, 0, 1, 1, 0, 0, 0, 0, 0, 1,\n",
              "       0, 1, 1, 1, 0, 0, 1, 0, 0, 1, 1, 1, 1, 0, 1, 1, 0, 0, 1, 1, 1, 0,\n",
              "       0, 1, 0, 1, 1, 0, 1, 0, 0, 1, 1])"
            ]
          },
          "execution_count": 41,
          "metadata": {},
          "output_type": "execute_result"
        }
      ],
      "source": [
        "# LavelEncoder() 활용해서 변경\n",
        "\n",
        "# 객체 생성\n",
        "encoder = LabelEncoder()\n",
        "\n",
        "# 입력데이터\n",
        "encoder.fit(df_t['Sex'])\n",
        "# 변경\n",
        "encoder.transform(df_t['Sex'])"
      ]
    },
    {
      "cell_type": "code",
      "execution_count": null,
      "id": "ff1b3d9d",
      "metadata": {
        "id": "ff1b3d9d"
      },
      "outputs": [],
      "source": [
        "df_t['Sex2'] = encoder.transform(df_t['Sex'])"
      ]
    },
    {
      "cell_type": "code",
      "execution_count": null,
      "id": "feccbd64",
      "metadata": {
        "id": "feccbd64",
        "outputId": "8c5f32ed-83bf-499e-f65b-d3d064e1c37e"
      },
      "outputs": [
        {
          "data": {
            "text/plain": [
              "1    577\n",
              "0    314\n",
              "Name: Sex2, dtype: int64"
            ]
          },
          "execution_count": 43,
          "metadata": {},
          "output_type": "execute_result"
        }
      ],
      "source": [
        "df_t['Sex2'].value_counts()"
      ]
    },
    {
      "cell_type": "code",
      "execution_count": null,
      "id": "aa0c8f5a",
      "metadata": {
        "id": "aa0c8f5a",
        "outputId": "0bc8c90b-688d-453a-e39c-0557745feb67"
      },
      "outputs": [
        {
          "data": {
            "text/html": [
              "<div>\n",
              "<style scoped>\n",
              "    .dataframe tbody tr th:only-of-type {\n",
              "        vertical-align: middle;\n",
              "    }\n",
              "\n",
              "    .dataframe tbody tr th {\n",
              "        vertical-align: top;\n",
              "    }\n",
              "\n",
              "    .dataframe thead th {\n",
              "        text-align: right;\n",
              "    }\n",
              "</style>\n",
              "<table border=\"1\" class=\"dataframe\">\n",
              "  <thead>\n",
              "    <tr style=\"text-align: right;\">\n",
              "      <th></th>\n",
              "      <th>Sex</th>\n",
              "      <th>Sex2</th>\n",
              "    </tr>\n",
              "  </thead>\n",
              "  <tbody>\n",
              "    <tr>\n",
              "      <th>0</th>\n",
              "      <td>male</td>\n",
              "      <td>1</td>\n",
              "    </tr>\n",
              "    <tr>\n",
              "      <th>1</th>\n",
              "      <td>female</td>\n",
              "      <td>0</td>\n",
              "    </tr>\n",
              "    <tr>\n",
              "      <th>2</th>\n",
              "      <td>female</td>\n",
              "      <td>0</td>\n",
              "    </tr>\n",
              "    <tr>\n",
              "      <th>3</th>\n",
              "      <td>female</td>\n",
              "      <td>0</td>\n",
              "    </tr>\n",
              "    <tr>\n",
              "      <th>4</th>\n",
              "      <td>male</td>\n",
              "      <td>1</td>\n",
              "    </tr>\n",
              "    <tr>\n",
              "      <th>...</th>\n",
              "      <td>...</td>\n",
              "      <td>...</td>\n",
              "    </tr>\n",
              "    <tr>\n",
              "      <th>886</th>\n",
              "      <td>male</td>\n",
              "      <td>1</td>\n",
              "    </tr>\n",
              "    <tr>\n",
              "      <th>887</th>\n",
              "      <td>female</td>\n",
              "      <td>0</td>\n",
              "    </tr>\n",
              "    <tr>\n",
              "      <th>888</th>\n",
              "      <td>female</td>\n",
              "      <td>0</td>\n",
              "    </tr>\n",
              "    <tr>\n",
              "      <th>889</th>\n",
              "      <td>male</td>\n",
              "      <td>1</td>\n",
              "    </tr>\n",
              "    <tr>\n",
              "      <th>890</th>\n",
              "      <td>male</td>\n",
              "      <td>1</td>\n",
              "    </tr>\n",
              "  </tbody>\n",
              "</table>\n",
              "<p>891 rows × 2 columns</p>\n",
              "</div>"
            ],
            "text/plain": [
              "        Sex  Sex2\n",
              "0      male     1\n",
              "1    female     0\n",
              "2    female     0\n",
              "3    female     0\n",
              "4      male     1\n",
              "..      ...   ...\n",
              "886    male     1\n",
              "887  female     0\n",
              "888  female     0\n",
              "889    male     1\n",
              "890    male     1\n",
              "\n",
              "[891 rows x 2 columns]"
            ]
          },
          "execution_count": 44,
          "metadata": {},
          "output_type": "execute_result"
        }
      ],
      "source": [
        "df_t[['Sex', 'Sex2']]"
      ]
    },
    {
      "cell_type": "code",
      "execution_count": null,
      "id": "198d76f7",
      "metadata": {
        "id": "198d76f7"
      },
      "outputs": [],
      "source": [
        "# 원본 데이터에 적용\n",
        "\n",
        "df_t['Sex'] = encoder.transform(df_t['Sex'])"
      ]
    },
    {
      "cell_type": "code",
      "execution_count": null,
      "id": "7ace8a0e",
      "metadata": {
        "id": "7ace8a0e"
      },
      "outputs": [],
      "source": [
        "# 필요없는 컬럼은 삭제 \n",
        "del df_t['Sex2']"
      ]
    },
    {
      "cell_type": "code",
      "execution_count": null,
      "id": "cc0b9298",
      "metadata": {
        "id": "cc0b9298",
        "outputId": "f861f139-4028-403f-f99a-8157dbea3878"
      },
      "outputs": [
        {
          "data": {
            "text/html": [
              "<div>\n",
              "<style scoped>\n",
              "    .dataframe tbody tr th:only-of-type {\n",
              "        vertical-align: middle;\n",
              "    }\n",
              "\n",
              "    .dataframe tbody tr th {\n",
              "        vertical-align: top;\n",
              "    }\n",
              "\n",
              "    .dataframe thead th {\n",
              "        text-align: right;\n",
              "    }\n",
              "</style>\n",
              "<table border=\"1\" class=\"dataframe\">\n",
              "  <thead>\n",
              "    <tr style=\"text-align: right;\">\n",
              "      <th></th>\n",
              "      <th>PassengerId</th>\n",
              "      <th>Survived</th>\n",
              "      <th>Pclass</th>\n",
              "      <th>Name</th>\n",
              "      <th>Sex</th>\n",
              "      <th>Age</th>\n",
              "      <th>SibSp</th>\n",
              "      <th>Parch</th>\n",
              "      <th>Ticket</th>\n",
              "      <th>Fare</th>\n",
              "      <th>Cabin</th>\n",
              "      <th>Embarked</th>\n",
              "    </tr>\n",
              "  </thead>\n",
              "  <tbody>\n",
              "    <tr>\n",
              "      <th>766</th>\n",
              "      <td>767</td>\n",
              "      <td>0</td>\n",
              "      <td>1</td>\n",
              "      <td>Brewe, Dr. Arthur Jackson</td>\n",
              "      <td>1</td>\n",
              "      <td>29.699118</td>\n",
              "      <td>0</td>\n",
              "      <td>0</td>\n",
              "      <td>112379</td>\n",
              "      <td>39.6000</td>\n",
              "      <td>N</td>\n",
              "      <td>C</td>\n",
              "    </tr>\n",
              "    <tr>\n",
              "      <th>81</th>\n",
              "      <td>82</td>\n",
              "      <td>1</td>\n",
              "      <td>3</td>\n",
              "      <td>Sheerlinck, Mr. Jan Baptist</td>\n",
              "      <td>1</td>\n",
              "      <td>29.000000</td>\n",
              "      <td>0</td>\n",
              "      <td>0</td>\n",
              "      <td>345779</td>\n",
              "      <td>9.5000</td>\n",
              "      <td>N</td>\n",
              "      <td>S</td>\n",
              "    </tr>\n",
              "    <tr>\n",
              "      <th>867</th>\n",
              "      <td>868</td>\n",
              "      <td>0</td>\n",
              "      <td>1</td>\n",
              "      <td>Roebling, Mr. Washington Augustus II</td>\n",
              "      <td>1</td>\n",
              "      <td>31.000000</td>\n",
              "      <td>0</td>\n",
              "      <td>0</td>\n",
              "      <td>PC 17590</td>\n",
              "      <td>50.4958</td>\n",
              "      <td>A24</td>\n",
              "      <td>S</td>\n",
              "    </tr>\n",
              "  </tbody>\n",
              "</table>\n",
              "</div>"
            ],
            "text/plain": [
              "     PassengerId  Survived  Pclass                                  Name  Sex  \\\n",
              "766          767         0       1             Brewe, Dr. Arthur Jackson    1   \n",
              "81            82         1       3           Sheerlinck, Mr. Jan Baptist    1   \n",
              "867          868         0       1  Roebling, Mr. Washington Augustus II    1   \n",
              "\n",
              "           Age  SibSp  Parch    Ticket     Fare Cabin Embarked  \n",
              "766  29.699118      0      0    112379  39.6000     N        C  \n",
              "81   29.000000      0      0    345779   9.5000     N        S  \n",
              "867  31.000000      0      0  PC 17590  50.4958   A24        S  "
            ]
          },
          "execution_count": 47,
          "metadata": {},
          "output_type": "execute_result"
        }
      ],
      "source": [
        "df_t.sample(3)"
      ]
    },
    {
      "cell_type": "code",
      "execution_count": null,
      "id": "1d1871da",
      "metadata": {
        "id": "1d1871da",
        "outputId": "33663372-466f-497f-a1c5-69dcc1cf6599"
      },
      "outputs": [
        {
          "data": {
            "text/plain": [
              "S    646\n",
              "C    168\n",
              "Q     77\n",
              "Name: Embarked, dtype: int64"
            ]
          },
          "execution_count": 48,
          "metadata": {},
          "output_type": "execute_result"
        }
      ],
      "source": [
        "# Embarked 숫자 레이블링 \n",
        "\n",
        "df_t['Embarked'].value_counts()"
      ]
    },
    {
      "cell_type": "code",
      "execution_count": null,
      "id": "284af7fb",
      "metadata": {
        "id": "284af7fb"
      },
      "outputs": [],
      "source": [
        "# 입력 데이타 \n",
        "encoder.fit(df_t['Embarked'])\n",
        "\n",
        "# 변경 \n",
        "df_t['Embarked'] = encoder.transform(df_t['Embarked'])"
      ]
    },
    {
      "cell_type": "code",
      "execution_count": null,
      "id": "163e32e1",
      "metadata": {
        "id": "163e32e1",
        "outputId": "599a3ebb-cdf3-48e2-d88a-a47eee308ed0"
      },
      "outputs": [
        {
          "data": {
            "text/plain": [
              "2    646\n",
              "0    168\n",
              "1     77\n",
              "Name: Embarked, dtype: int64"
            ]
          },
          "execution_count": 50,
          "metadata": {},
          "output_type": "execute_result"
        }
      ],
      "source": [
        "df_t['Embarked'].value_counts()"
      ]
    },
    {
      "cell_type": "code",
      "execution_count": null,
      "id": "0e342926",
      "metadata": {
        "id": "0e342926",
        "outputId": "fdadd6b4-2a5f-44d0-b6fa-89a0501deadb"
      },
      "outputs": [
        {
          "data": {
            "text/plain": [
              "N              687\n",
              "C23 C25 C27      4\n",
              "G6               4\n",
              "B96 B98          4\n",
              "C22 C26          3\n",
              "              ... \n",
              "E34              1\n",
              "C7               1\n",
              "C54              1\n",
              "E36              1\n",
              "C148             1\n",
              "Name: Cabin, Length: 148, dtype: int64"
            ]
          },
          "execution_count": 51,
          "metadata": {},
          "output_type": "execute_result"
        }
      ],
      "source": [
        "# Cabin → 앞글자만 추출해서 데이타로 교체 \n",
        "\n",
        "df_t['Cabin'].value_counts()"
      ]
    },
    {
      "cell_type": "code",
      "execution_count": null,
      "id": "a9c42445",
      "metadata": {
        "id": "a9c42445"
      },
      "outputs": [],
      "source": [
        "df_t['Cabin'] = df_t['Cabin'].str[0]"
      ]
    },
    {
      "cell_type": "code",
      "execution_count": null,
      "id": "de75b14c",
      "metadata": {
        "id": "de75b14c",
        "outputId": "7dcfb864-7c3e-4820-e29c-752877c1ff7f"
      },
      "outputs": [
        {
          "data": {
            "text/plain": [
              "N    687\n",
              "C     59\n",
              "B     47\n",
              "D     33\n",
              "E     32\n",
              "A     15\n",
              "F     13\n",
              "G      4\n",
              "T      1\n",
              "Name: Cabin, dtype: int64"
            ]
          },
          "execution_count": 53,
          "metadata": {},
          "output_type": "execute_result"
        }
      ],
      "source": [
        "# Cabin\n",
        "\n",
        "df_t['Cabin'].value_counts()"
      ]
    },
    {
      "cell_type": "code",
      "execution_count": null,
      "id": "143ef7f1",
      "metadata": {
        "id": "143ef7f1"
      },
      "outputs": [],
      "source": [
        "# 숫자형태로 레이블링\n",
        "\n",
        "encoder.fit(df_t['Cabin'])\n",
        "\n",
        "# 변경\n",
        "df_t['Cabin'] = encoder.transform(df_t['Cabin'])"
      ]
    },
    {
      "cell_type": "code",
      "execution_count": null,
      "id": "c75a4ee9",
      "metadata": {
        "id": "c75a4ee9",
        "outputId": "34be2443-c111-4c5d-b1c0-1eff3addf920"
      },
      "outputs": [
        {
          "data": {
            "text/plain": [
              "7    687\n",
              "2     59\n",
              "1     47\n",
              "3     33\n",
              "4     32\n",
              "0     15\n",
              "5     13\n",
              "6      4\n",
              "8      1\n",
              "Name: Cabin, dtype: int64"
            ]
          },
          "execution_count": 55,
          "metadata": {},
          "output_type": "execute_result"
        }
      ],
      "source": [
        "df_t['Cabin'].value_counts()"
      ]
    },
    {
      "cell_type": "code",
      "execution_count": null,
      "id": "8c5c2b21",
      "metadata": {
        "id": "8c5c2b21"
      },
      "outputs": [],
      "source": [
        "# 삭제할 컬럼은?\n",
        "# Name, PassengerId, Ticket"
      ]
    },
    {
      "cell_type": "code",
      "execution_count": null,
      "id": "aad7cc6b",
      "metadata": {
        "id": "aad7cc6b",
        "outputId": "5eb35771-5ffc-4df5-b5c5-545435426013"
      },
      "outputs": [
        {
          "data": {
            "text/html": [
              "<div>\n",
              "<style scoped>\n",
              "    .dataframe tbody tr th:only-of-type {\n",
              "        vertical-align: middle;\n",
              "    }\n",
              "\n",
              "    .dataframe tbody tr th {\n",
              "        vertical-align: top;\n",
              "    }\n",
              "\n",
              "    .dataframe thead th {\n",
              "        text-align: right;\n",
              "    }\n",
              "</style>\n",
              "<table border=\"1\" class=\"dataframe\">\n",
              "  <thead>\n",
              "    <tr style=\"text-align: right;\">\n",
              "      <th></th>\n",
              "      <th>PassengerId</th>\n",
              "      <th>Survived</th>\n",
              "      <th>Pclass</th>\n",
              "      <th>Name</th>\n",
              "      <th>Sex</th>\n",
              "      <th>Age</th>\n",
              "      <th>SibSp</th>\n",
              "      <th>Parch</th>\n",
              "      <th>Ticket</th>\n",
              "      <th>Fare</th>\n",
              "      <th>Cabin</th>\n",
              "      <th>Embarked</th>\n",
              "    </tr>\n",
              "  </thead>\n",
              "  <tbody>\n",
              "    <tr>\n",
              "      <th>243</th>\n",
              "      <td>244</td>\n",
              "      <td>0</td>\n",
              "      <td>3</td>\n",
              "      <td>Maenpaa, Mr. Matti Alexanteri</td>\n",
              "      <td>1</td>\n",
              "      <td>22.0</td>\n",
              "      <td>0</td>\n",
              "      <td>0</td>\n",
              "      <td>STON/O 2. 3101275</td>\n",
              "      <td>7.1250</td>\n",
              "      <td>7</td>\n",
              "      <td>2</td>\n",
              "    </tr>\n",
              "    <tr>\n",
              "      <th>843</th>\n",
              "      <td>844</td>\n",
              "      <td>0</td>\n",
              "      <td>3</td>\n",
              "      <td>Lemberopolous, Mr. Peter L</td>\n",
              "      <td>1</td>\n",
              "      <td>34.5</td>\n",
              "      <td>0</td>\n",
              "      <td>0</td>\n",
              "      <td>2683</td>\n",
              "      <td>6.4375</td>\n",
              "      <td>7</td>\n",
              "      <td>0</td>\n",
              "    </tr>\n",
              "    <tr>\n",
              "      <th>478</th>\n",
              "      <td>479</td>\n",
              "      <td>0</td>\n",
              "      <td>3</td>\n",
              "      <td>Karlsson, Mr. Nils August</td>\n",
              "      <td>1</td>\n",
              "      <td>22.0</td>\n",
              "      <td>0</td>\n",
              "      <td>0</td>\n",
              "      <td>350060</td>\n",
              "      <td>7.5208</td>\n",
              "      <td>7</td>\n",
              "      <td>2</td>\n",
              "    </tr>\n",
              "  </tbody>\n",
              "</table>\n",
              "</div>"
            ],
            "text/plain": [
              "     PassengerId  Survived  Pclass                           Name  Sex   Age  \\\n",
              "243          244         0       3  Maenpaa, Mr. Matti Alexanteri    1  22.0   \n",
              "843          844         0       3     Lemberopolous, Mr. Peter L    1  34.5   \n",
              "478          479         0       3      Karlsson, Mr. Nils August    1  22.0   \n",
              "\n",
              "     SibSp  Parch             Ticket    Fare  Cabin  Embarked  \n",
              "243      0      0  STON/O 2. 3101275  7.1250      7         2  \n",
              "843      0      0               2683  6.4375      7         0  \n",
              "478      0      0             350060  7.5208      7         2  "
            ]
          },
          "execution_count": 57,
          "metadata": {},
          "output_type": "execute_result"
        }
      ],
      "source": [
        "df_t.sample(3)"
      ]
    },
    {
      "cell_type": "code",
      "execution_count": null,
      "id": "dd3e0bae",
      "metadata": {
        "id": "dd3e0bae"
      },
      "outputs": [],
      "source": [
        "df_t.drop(columns = ['Name','PassengerId','Ticket'], inplace=True)"
      ]
    },
    {
      "cell_type": "code",
      "execution_count": null,
      "id": "375994a9",
      "metadata": {
        "id": "375994a9",
        "outputId": "e62aaf26-edd5-4e61-e019-df6d091ae1d9"
      },
      "outputs": [
        {
          "name": "stdout",
          "output_type": "stream",
          "text": [
            "<class 'pandas.core.frame.DataFrame'>\n",
            "RangeIndex: 891 entries, 0 to 890\n",
            "Data columns (total 9 columns):\n",
            " #   Column    Non-Null Count  Dtype  \n",
            "---  ------    --------------  -----  \n",
            " 0   Survived  891 non-null    int64  \n",
            " 1   Pclass    891 non-null    int64  \n",
            " 2   Sex       891 non-null    int32  \n",
            " 3   Age       891 non-null    float64\n",
            " 4   SibSp     891 non-null    int64  \n",
            " 5   Parch     891 non-null    int64  \n",
            " 6   Fare      891 non-null    float64\n",
            " 7   Cabin     891 non-null    int32  \n",
            " 8   Embarked  891 non-null    int32  \n",
            "dtypes: float64(2), int32(3), int64(4)\n",
            "memory usage: 52.3 KB\n"
          ]
        }
      ],
      "source": [
        "df_t.info()"
      ]
    },
    {
      "cell_type": "code",
      "execution_count": null,
      "id": "2aa4d125",
      "metadata": {
        "id": "2aa4d125"
      },
      "outputs": [],
      "source": [
        "# 학습데이타와 테스트용데이타로 분리 \n",
        "X = df_t.drop(columns = ['Survived']).copy()"
      ]
    },
    {
      "cell_type": "code",
      "execution_count": null,
      "id": "05e5b441",
      "metadata": {
        "id": "05e5b441"
      },
      "outputs": [],
      "source": [
        "y = df_t['Survived']"
      ]
    },
    {
      "cell_type": "code",
      "execution_count": null,
      "id": "922569ad",
      "metadata": {
        "id": "922569ad",
        "outputId": "e73cd064-aa6f-4d74-e0a8-b07c9a4f3d93"
      },
      "outputs": [
        {
          "data": {
            "text/html": [
              "<div>\n",
              "<style scoped>\n",
              "    .dataframe tbody tr th:only-of-type {\n",
              "        vertical-align: middle;\n",
              "    }\n",
              "\n",
              "    .dataframe tbody tr th {\n",
              "        vertical-align: top;\n",
              "    }\n",
              "\n",
              "    .dataframe thead th {\n",
              "        text-align: right;\n",
              "    }\n",
              "</style>\n",
              "<table border=\"1\" class=\"dataframe\">\n",
              "  <thead>\n",
              "    <tr style=\"text-align: right;\">\n",
              "      <th></th>\n",
              "      <th>Pclass</th>\n",
              "      <th>Sex</th>\n",
              "      <th>Age</th>\n",
              "      <th>SibSp</th>\n",
              "      <th>Parch</th>\n",
              "      <th>Fare</th>\n",
              "      <th>Cabin</th>\n",
              "      <th>Embarked</th>\n",
              "    </tr>\n",
              "  </thead>\n",
              "  <tbody>\n",
              "    <tr>\n",
              "      <th>0</th>\n",
              "      <td>3</td>\n",
              "      <td>1</td>\n",
              "      <td>22.000000</td>\n",
              "      <td>1</td>\n",
              "      <td>0</td>\n",
              "      <td>7.2500</td>\n",
              "      <td>7</td>\n",
              "      <td>2</td>\n",
              "    </tr>\n",
              "    <tr>\n",
              "      <th>1</th>\n",
              "      <td>1</td>\n",
              "      <td>0</td>\n",
              "      <td>38.000000</td>\n",
              "      <td>1</td>\n",
              "      <td>0</td>\n",
              "      <td>71.2833</td>\n",
              "      <td>2</td>\n",
              "      <td>0</td>\n",
              "    </tr>\n",
              "    <tr>\n",
              "      <th>2</th>\n",
              "      <td>3</td>\n",
              "      <td>0</td>\n",
              "      <td>26.000000</td>\n",
              "      <td>0</td>\n",
              "      <td>0</td>\n",
              "      <td>7.9250</td>\n",
              "      <td>7</td>\n",
              "      <td>2</td>\n",
              "    </tr>\n",
              "    <tr>\n",
              "      <th>3</th>\n",
              "      <td>1</td>\n",
              "      <td>0</td>\n",
              "      <td>35.000000</td>\n",
              "      <td>1</td>\n",
              "      <td>0</td>\n",
              "      <td>53.1000</td>\n",
              "      <td>2</td>\n",
              "      <td>2</td>\n",
              "    </tr>\n",
              "    <tr>\n",
              "      <th>4</th>\n",
              "      <td>3</td>\n",
              "      <td>1</td>\n",
              "      <td>35.000000</td>\n",
              "      <td>0</td>\n",
              "      <td>0</td>\n",
              "      <td>8.0500</td>\n",
              "      <td>7</td>\n",
              "      <td>2</td>\n",
              "    </tr>\n",
              "    <tr>\n",
              "      <th>...</th>\n",
              "      <td>...</td>\n",
              "      <td>...</td>\n",
              "      <td>...</td>\n",
              "      <td>...</td>\n",
              "      <td>...</td>\n",
              "      <td>...</td>\n",
              "      <td>...</td>\n",
              "      <td>...</td>\n",
              "    </tr>\n",
              "    <tr>\n",
              "      <th>886</th>\n",
              "      <td>2</td>\n",
              "      <td>1</td>\n",
              "      <td>27.000000</td>\n",
              "      <td>0</td>\n",
              "      <td>0</td>\n",
              "      <td>13.0000</td>\n",
              "      <td>7</td>\n",
              "      <td>2</td>\n",
              "    </tr>\n",
              "    <tr>\n",
              "      <th>887</th>\n",
              "      <td>1</td>\n",
              "      <td>0</td>\n",
              "      <td>19.000000</td>\n",
              "      <td>0</td>\n",
              "      <td>0</td>\n",
              "      <td>30.0000</td>\n",
              "      <td>1</td>\n",
              "      <td>2</td>\n",
              "    </tr>\n",
              "    <tr>\n",
              "      <th>888</th>\n",
              "      <td>3</td>\n",
              "      <td>0</td>\n",
              "      <td>29.699118</td>\n",
              "      <td>1</td>\n",
              "      <td>2</td>\n",
              "      <td>23.4500</td>\n",
              "      <td>7</td>\n",
              "      <td>2</td>\n",
              "    </tr>\n",
              "    <tr>\n",
              "      <th>889</th>\n",
              "      <td>1</td>\n",
              "      <td>1</td>\n",
              "      <td>26.000000</td>\n",
              "      <td>0</td>\n",
              "      <td>0</td>\n",
              "      <td>30.0000</td>\n",
              "      <td>2</td>\n",
              "      <td>0</td>\n",
              "    </tr>\n",
              "    <tr>\n",
              "      <th>890</th>\n",
              "      <td>3</td>\n",
              "      <td>1</td>\n",
              "      <td>32.000000</td>\n",
              "      <td>0</td>\n",
              "      <td>0</td>\n",
              "      <td>7.7500</td>\n",
              "      <td>7</td>\n",
              "      <td>1</td>\n",
              "    </tr>\n",
              "  </tbody>\n",
              "</table>\n",
              "<p>891 rows × 8 columns</p>\n",
              "</div>"
            ],
            "text/plain": [
              "     Pclass  Sex        Age  SibSp  Parch     Fare  Cabin  Embarked\n",
              "0         3    1  22.000000      1      0   7.2500      7         2\n",
              "1         1    0  38.000000      1      0  71.2833      2         0\n",
              "2         3    0  26.000000      0      0   7.9250      7         2\n",
              "3         1    0  35.000000      1      0  53.1000      2         2\n",
              "4         3    1  35.000000      0      0   8.0500      7         2\n",
              "..      ...  ...        ...    ...    ...      ...    ...       ...\n",
              "886       2    1  27.000000      0      0  13.0000      7         2\n",
              "887       1    0  19.000000      0      0  30.0000      1         2\n",
              "888       3    0  29.699118      1      2  23.4500      7         2\n",
              "889       1    1  26.000000      0      0  30.0000      2         0\n",
              "890       3    1  32.000000      0      0   7.7500      7         1\n",
              "\n",
              "[891 rows x 8 columns]"
            ]
          },
          "execution_count": 62,
          "metadata": {},
          "output_type": "execute_result"
        }
      ],
      "source": [
        "X"
      ]
    },
    {
      "cell_type": "code",
      "execution_count": null,
      "id": "1a7d284f",
      "metadata": {
        "id": "1a7d284f"
      },
      "outputs": [],
      "source": [
        "# 모델 생성 → 데이터 입력 후 테스트 "
      ]
    },
    {
      "cell_type": "markdown",
      "id": "8e5f6ea8",
      "metadata": {
        "id": "8e5f6ea8"
      },
      "source": [
        "# Quiz\n",
        "```\n",
        "타이타닉 데이타셋에서 Age 컬럼을 아래의 함수를 이용하여 \n",
        "세분화하여 추가하고 원핫인코딩 형태 변경하여\n",
        "모델의 데이타로 활용하여라.\n",
        "\n",
        "def get_category(age):\n",
        "    cat = ''\n",
        "    if age <= -1: cat = 'Unknown'\n",
        "    elif age <= 5: cat = 'Baby'\n",
        "    elif age <= 12: cat = 'Child'\n",
        "    elif age <= 18: cat = 'Teenager'\n",
        "    elif age <= 25: cat = 'Student'\n",
        "    elif age <= 35: cat = 'Young Adult'\n",
        "    elif age <= 60: cat = 'Adult'\n",
        "    else : cat = 'Elderly'\n",
        "    \n",
        "    return cat\n",
        "```    "
      ]
    }
  ],
  "metadata": {
    "kernelspec": {
      "display_name": "Python 3 (ipykernel)",
      "language": "python",
      "name": "python3"
    },
    "language_info": {
      "codemirror_mode": {
        "name": "ipython",
        "version": 3
      },
      "file_extension": ".py",
      "mimetype": "text/x-python",
      "name": "python",
      "nbconvert_exporter": "python",
      "pygments_lexer": "ipython3",
      "version": "3.9.12"
    },
    "colab": {
      "provenance": [],
      "include_colab_link": true
    }
  },
  "nbformat": 4,
  "nbformat_minor": 5
}