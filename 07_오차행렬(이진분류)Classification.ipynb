{
  "cells": [
    {
      "cell_type": "markdown",
      "metadata": {
        "id": "view-in-github",
        "colab_type": "text"
      },
      "source": [
        "<a href=\"https://colab.research.google.com/github/leo-contigo/ML/blob/main/07_%EC%98%A4%EC%B0%A8%ED%96%89%EB%A0%AC(%EC%9D%B4%EC%A7%84%EB%B6%84%EB%A5%98)Classification.ipynb\" target=\"_parent\"><img src=\"https://colab.research.google.com/assets/colab-badge.svg\" alt=\"Open In Colab\"/></a>"
      ]
    },
    {
      "cell_type": "markdown",
      "id": "b71e9493",
      "metadata": {
        "id": "b71e9493"
      },
      "source": [
        "#### ML_08_수업자료.html\n",
        "- GridSearchCV 그리드 서치\n",
        "\n",
        "- https://scikit-learn.org/stable/modules/generated/sklearn.model_selection.GridSearchCV.html"
      ]
    },
    {
      "cell_type": "code",
      "execution_count": null,
      "id": "77d4d06b",
      "metadata": {
        "id": "77d4d06b"
      },
      "outputs": [],
      "source": [
        "# 주피터 노트북 환경설정\n",
        "import warnings\n",
        "warnings.filterwarnings('ignore')\n",
        "warnings.simplefilter('ignore')\n",
        "\n",
        "from IPython.display import set_matplotlib_formats, Image\n",
        "set_matplotlib_formats(\"retina\")\n",
        "\n",
        "import numpy as np\n",
        "import pandas as pd\n",
        "import os"
      ]
    },
    {
      "cell_type": "code",
      "execution_count": null,
      "id": "a15ba00c",
      "metadata": {
        "id": "a15ba00c"
      },
      "outputs": [],
      "source": [
        "# sklearn 관련 모듈 임포트 \n",
        "from sklearn.neighbors import KNeighborsClassifier\n",
        "from sklearn.tree import DecisionTreeClassifier\n",
        "\n",
        "from sklearn.ensemble import RandomForestClassifier\n",
        "from sklearn.linear_model import LogisticRegression\n",
        "\n",
        "from sklearn.model_selection import GridSearchCV, train_test_split, GridSearchCV\n",
        "from sklearn.metrics import accuracy_score\n",
        "\n",
        "# 토이 데이타셋 로딩\n",
        "from sklearn.datasets import load_iris"
      ]
    },
    {
      "cell_type": "markdown",
      "id": "e9bd0536",
      "metadata": {
        "id": "e9bd0536"
      },
      "source": [
        "# GridSearchCV\n",
        "- 그리드 서치의 목적 - 모델의 최적의 하이퍼파라미터를 찾는다.\n",
        "\n",
        "#### 학습과정\n",
        "\n",
        "- (1) 모델 생성\n",
        "\n",
        "- (2) 모델에서 필요한 하이퍼 파라미터(옵션)을 딕셔너리 형태로 지정 \n",
        "    - parameters = {'max_depth':[1, 2, 3], 'min_samples_split':[2,3]}\n",
        "\n",
        "\n",
        "- (3) GridSearchCV 메서드 적용 \n",
        "```\n",
        "임포트 위치 \n",
        "    - sklearn.model_selection.GridSearchCV\n",
        "\n",
        "    - grid_dtree = GridSearchCV(dtree, param_grid=parameters, cv=3, refit=True, return_train_score=True)\n",
        "\n",
        "그리드 서치 객체 = GridSearchCV함수명( 모델명 , \n",
        "                        param_grid=parameters ,\n",
        "                        cv  =  교차검증 횟수 ,  refit = 재학습,\n",
        "                        return_train_score=True 기본값 )\n",
        "\n",
        "- (4) 학습 → 그리드 서치 객체.fit() \n",
        "- (5) 평가"
      ]
    },
    {
      "cell_type": "code",
      "execution_count": null,
      "id": "10b27b73",
      "metadata": {
        "id": "10b27b73",
        "outputId": "fc725bbd-2f1e-4557-b829-215678cffc77"
      },
      "outputs": [
        {
          "data": {
            "text/plain": [
              "((150, 4), (150,))"
            ]
          },
          "execution_count": 3,
          "metadata": {},
          "output_type": "execute_result"
        }
      ],
      "source": [
        "# 0) 데이터 준비 \n",
        "\n",
        "iris = load_iris()\n",
        "X = iris.data\n",
        "y = iris.target\n",
        "\n",
        "# 확인\n",
        "X.shape, y.shape"
      ]
    },
    {
      "cell_type": "code",
      "execution_count": null,
      "id": "5d144268",
      "metadata": {
        "id": "5d144268"
      },
      "outputs": [],
      "source": [
        "# iris"
      ]
    },
    {
      "cell_type": "code",
      "execution_count": null,
      "id": "d5e36d51",
      "metadata": {
        "id": "d5e36d51",
        "outputId": "bbeaf99a-e17f-4f73-c0e6-bba441b2687c"
      },
      "outputs": [
        {
          "data": {
            "text/plain": [
              "{'algorithm': 'auto',\n",
              " 'leaf_size': 30,\n",
              " 'metric': 'minkowski',\n",
              " 'metric_params': None,\n",
              " 'n_jobs': None,\n",
              " 'n_neighbors': 5,\n",
              " 'p': 2,\n",
              " 'weights': 'uniform'}"
            ]
          },
          "execution_count": 5,
          "metadata": {},
          "output_type": "execute_result"
        }
      ],
      "source": [
        "# 1) 모델 생성 \n",
        "model_knn = KNeighborsClassifier()\n",
        "\n",
        "# 디폴트값\n",
        "model_knn.get_params()"
      ]
    },
    {
      "cell_type": "code",
      "execution_count": null,
      "id": "53e9cb1a",
      "metadata": {
        "id": "53e9cb1a",
        "outputId": "fca1bdb9-5344-446b-856d-9585b2b0438d"
      },
      "outputs": [
        {
          "data": {
            "text/plain": [
              "GridSearchCV(cv=5, estimator=KNeighborsClassifier(),\n",
              "             param_grid={'n_neighbors': [3, 5, 7, 9, 11]},\n",
              "             return_train_score=True, verbose=1)"
            ]
          },
          "execution_count": 6,
          "metadata": {},
          "output_type": "execute_result"
        }
      ],
      "source": [
        "# 2) GridSearchCV 메서드 적용\n",
        "\n",
        "# n_neighbors에 들어갈 값 설정 → 하이퍼 파라미터 생성 → 딕셔너리 형태로 정의해야함\n",
        "# {하이퍼 파라미터 : [실제 값...]} 홀수로 \n",
        "# 변수이름 = {}\n",
        "\n",
        "# parameters = { 'n_neighbors' : [3, 5, 7, 9, 11]} \n",
        "parameters = { 'n_neighbors' : list(range(3 , 12 , 2))}\n",
        "\n",
        "# 그리드서치 객체 생성 \n",
        "model_knn_grid = GridSearchCV( model_knn, \n",
        "                        param_grid=parameters, \n",
        "                        cv = 5, \n",
        "                        refit=True, \n",
        "                        return_train_score=True, \n",
        "                        verbose=1 )\n",
        "\n",
        "model_knn_grid"
      ]
    },
    {
      "cell_type": "code",
      "execution_count": null,
      "id": "ab341d0b",
      "metadata": {
        "scrolled": true,
        "id": "ab341d0b",
        "outputId": "4b1803d1-672d-4745-b1db-0dad26ce4207"
      },
      "outputs": [
        {
          "name": "stdout",
          "output_type": "stream",
          "text": [
            "Fitting 5 folds for each of 5 candidates, totalling 25 fits\n"
          ]
        },
        {
          "data": {
            "text/plain": [
              "GridSearchCV(cv=5, estimator=KNeighborsClassifier(),\n",
              "             param_grid={'n_neighbors': [3, 5, 7, 9, 11]},\n",
              "             return_train_score=True, verbose=1)"
            ]
          },
          "execution_count": 7,
          "metadata": {},
          "output_type": "execute_result"
        }
      ],
      "source": [
        "# 3) 그리드 서치 객체로 학습 \n",
        "# 그리그 서치 객체 . fit ()\n",
        "\n",
        "# 학습용 데이타와 테스트용 데이타 분리 \n",
        "X_train, X_test, y_train, y_test = train_test_split(X, y, \n",
        "                                                    test_size=0.2, \n",
        "                                                    random_state=11)\n",
        "\n",
        "# 학습 \n",
        "model_knn_grid.fit( X_train, y_train )"
      ]
    },
    {
      "cell_type": "code",
      "execution_count": null,
      "id": "d05fadee",
      "metadata": {
        "id": "d05fadee",
        "outputId": "961edd44-e72c-4746-a018-a405a3f6acd0"
      },
      "outputs": [
        {
          "name": "stdout",
          "output_type": "stream",
          "text": [
            "['__abstractmethods__', '__class__', '__delattr__', '__dict__', '__dir__', '__doc__', '__eq__', '__format__', '__ge__', '__getattribute__', '__getstate__', '__gt__', '__hash__', '__init__', '__init_subclass__', '__le__', '__lt__', '__module__', '__ne__', '__new__', '__reduce__', '__reduce_ex__', '__repr__', '__setattr__', '__setstate__', '__sizeof__', '__str__', '__subclasshook__', '__weakref__', '_abc_impl', '_check_feature_names', '_check_n_features', '_check_refit_for_multimetric', '_estimator_type', '_format_results', '_get_param_names', '_get_tags', '_more_tags', '_pairwise', '_repr_html_', '_repr_html_inner', '_repr_mimebundle_', '_required_parameters', '_run_search', '_select_best_index', '_validate_data', 'best_estimator_', 'best_index_', 'best_params_', 'best_score_', 'classes_', 'cv', 'cv_results_', 'decision_function', 'error_score', 'estimator', 'fit', 'get_params', 'inverse_transform', 'multimetric_', 'n_features_in_', 'n_jobs', 'n_splits_', 'param_grid', 'pre_dispatch', 'predict', 'predict_log_proba', 'predict_proba', 'refit', 'refit_time_', 'return_train_score', 'score', 'score_samples', 'scorer_', 'scoring', 'set_params', 'transform', 'verbose']\n"
          ]
        }
      ],
      "source": [
        "# 제공 속성과 메서드 확인\n",
        "\n",
        "# 'best_params_'\n",
        "# 'best_score_'\n",
        "# 'best_estimator_'\n",
        "# 'cv_results_' \n",
        "\n",
        "print(dir(model_knn_grid))"
      ]
    },
    {
      "cell_type": "code",
      "execution_count": null,
      "id": "ca50135c",
      "metadata": {
        "id": "ca50135c",
        "outputId": "e60d8eb9-25c7-47a0-c8ff-760f8e2f8fd9"
      },
      "outputs": [
        {
          "name": "stdout",
          "output_type": "stream",
          "text": [
            "최적의 파라미터 =>  {'n_neighbors': 5}\n",
            "최고 평가 점수 =>  0.9583333333333334\n",
            "최적의 모델 =>  {'algorithm': 'auto', 'leaf_size': 30, 'metric': 'minkowski', 'metric_params': None, 'n_jobs': None, 'n_neighbors': 5, 'p': 2, 'weights': 'uniform'}\n"
          ]
        }
      ],
      "source": [
        "# 4) 평가 → 결과물 확인\n",
        "\n",
        "print('최적의 파라미터 => ' , model_knn_grid.best_params_)\n",
        "print('최고 평가 점수 => ' , model_knn_grid.best_score_)\n",
        "print('최적의 모델 => ' , model_knn_grid.best_estimator_.get_params())"
      ]
    },
    {
      "cell_type": "code",
      "execution_count": null,
      "id": "0481275f",
      "metadata": {
        "id": "0481275f",
        "outputId": "2786082f-b4fb-4503-d8f2-ed905574ad84"
      },
      "outputs": [
        {
          "data": {
            "text/html": [
              "<div>\n",
              "<style scoped>\n",
              "    .dataframe tbody tr th:only-of-type {\n",
              "        vertical-align: middle;\n",
              "    }\n",
              "\n",
              "    .dataframe tbody tr th {\n",
              "        vertical-align: top;\n",
              "    }\n",
              "\n",
              "    .dataframe thead th {\n",
              "        text-align: right;\n",
              "    }\n",
              "</style>\n",
              "<table border=\"1\" class=\"dataframe\">\n",
              "  <thead>\n",
              "    <tr style=\"text-align: right;\">\n",
              "      <th></th>\n",
              "      <th>mean_fit_time</th>\n",
              "      <th>std_fit_time</th>\n",
              "      <th>mean_score_time</th>\n",
              "      <th>std_score_time</th>\n",
              "      <th>param_n_neighbors</th>\n",
              "      <th>params</th>\n",
              "      <th>split0_test_score</th>\n",
              "      <th>split1_test_score</th>\n",
              "      <th>split2_test_score</th>\n",
              "      <th>split3_test_score</th>\n",
              "      <th>...</th>\n",
              "      <th>mean_test_score</th>\n",
              "      <th>std_test_score</th>\n",
              "      <th>rank_test_score</th>\n",
              "      <th>split0_train_score</th>\n",
              "      <th>split1_train_score</th>\n",
              "      <th>split2_train_score</th>\n",
              "      <th>split3_train_score</th>\n",
              "      <th>split4_train_score</th>\n",
              "      <th>mean_train_score</th>\n",
              "      <th>std_train_score</th>\n",
              "    </tr>\n",
              "  </thead>\n",
              "  <tbody>\n",
              "    <tr>\n",
              "      <th>0</th>\n",
              "      <td>0.000406</td>\n",
              "      <td>0.000498</td>\n",
              "      <td>0.001390</td>\n",
              "      <td>0.000496</td>\n",
              "      <td>3</td>\n",
              "      <td>{'n_neighbors': 3}</td>\n",
              "      <td>0.916667</td>\n",
              "      <td>0.875000</td>\n",
              "      <td>0.958333</td>\n",
              "      <td>1.000000</td>\n",
              "      <td>...</td>\n",
              "      <td>0.950000</td>\n",
              "      <td>0.048591</td>\n",
              "      <td>2</td>\n",
              "      <td>0.968750</td>\n",
              "      <td>0.979167</td>\n",
              "      <td>0.968750</td>\n",
              "      <td>0.968750</td>\n",
              "      <td>0.958333</td>\n",
              "      <td>0.968750</td>\n",
              "      <td>0.006588</td>\n",
              "    </tr>\n",
              "    <tr>\n",
              "      <th>1</th>\n",
              "      <td>0.000615</td>\n",
              "      <td>0.000469</td>\n",
              "      <td>0.001332</td>\n",
              "      <td>0.000377</td>\n",
              "      <td>5</td>\n",
              "      <td>{'n_neighbors': 5}</td>\n",
              "      <td>0.916667</td>\n",
              "      <td>0.958333</td>\n",
              "      <td>0.958333</td>\n",
              "      <td>0.958333</td>\n",
              "      <td>...</td>\n",
              "      <td>0.958333</td>\n",
              "      <td>0.026352</td>\n",
              "      <td>1</td>\n",
              "      <td>0.968750</td>\n",
              "      <td>0.979167</td>\n",
              "      <td>0.979167</td>\n",
              "      <td>0.979167</td>\n",
              "      <td>0.958333</td>\n",
              "      <td>0.972917</td>\n",
              "      <td>0.008333</td>\n",
              "    </tr>\n",
              "    <tr>\n",
              "      <th>2</th>\n",
              "      <td>0.000399</td>\n",
              "      <td>0.000488</td>\n",
              "      <td>0.001199</td>\n",
              "      <td>0.000398</td>\n",
              "      <td>7</td>\n",
              "      <td>{'n_neighbors': 7}</td>\n",
              "      <td>0.875000</td>\n",
              "      <td>0.958333</td>\n",
              "      <td>0.958333</td>\n",
              "      <td>0.958333</td>\n",
              "      <td>...</td>\n",
              "      <td>0.950000</td>\n",
              "      <td>0.040825</td>\n",
              "      <td>2</td>\n",
              "      <td>0.979167</td>\n",
              "      <td>0.968750</td>\n",
              "      <td>0.968750</td>\n",
              "      <td>0.979167</td>\n",
              "      <td>0.968750</td>\n",
              "      <td>0.972917</td>\n",
              "      <td>0.005103</td>\n",
              "    </tr>\n",
              "    <tr>\n",
              "      <th>3</th>\n",
              "      <td>0.000374</td>\n",
              "      <td>0.000459</td>\n",
              "      <td>0.001601</td>\n",
              "      <td>0.000482</td>\n",
              "      <td>9</td>\n",
              "      <td>{'n_neighbors': 9}</td>\n",
              "      <td>0.875000</td>\n",
              "      <td>0.958333</td>\n",
              "      <td>1.000000</td>\n",
              "      <td>0.916667</td>\n",
              "      <td>...</td>\n",
              "      <td>0.950000</td>\n",
              "      <td>0.048591</td>\n",
              "      <td>2</td>\n",
              "      <td>0.979167</td>\n",
              "      <td>0.979167</td>\n",
              "      <td>0.968750</td>\n",
              "      <td>0.979167</td>\n",
              "      <td>0.968750</td>\n",
              "      <td>0.975000</td>\n",
              "      <td>0.005103</td>\n",
              "    </tr>\n",
              "    <tr>\n",
              "      <th>4</th>\n",
              "      <td>0.000598</td>\n",
              "      <td>0.000488</td>\n",
              "      <td>0.001030</td>\n",
              "      <td>0.000066</td>\n",
              "      <td>11</td>\n",
              "      <td>{'n_neighbors': 11}</td>\n",
              "      <td>0.875000</td>\n",
              "      <td>0.916667</td>\n",
              "      <td>1.000000</td>\n",
              "      <td>0.916667</td>\n",
              "      <td>...</td>\n",
              "      <td>0.941667</td>\n",
              "      <td>0.050000</td>\n",
              "      <td>5</td>\n",
              "      <td>0.979167</td>\n",
              "      <td>0.979167</td>\n",
              "      <td>0.947917</td>\n",
              "      <td>0.958333</td>\n",
              "      <td>0.968750</td>\n",
              "      <td>0.966667</td>\n",
              "      <td>0.012148</td>\n",
              "    </tr>\n",
              "  </tbody>\n",
              "</table>\n",
              "<p>5 rows × 21 columns</p>\n",
              "</div>"
            ],
            "text/plain": [
              "   mean_fit_time  std_fit_time  mean_score_time  std_score_time  \\\n",
              "0       0.000406      0.000498         0.001390        0.000496   \n",
              "1       0.000615      0.000469         0.001332        0.000377   \n",
              "2       0.000399      0.000488         0.001199        0.000398   \n",
              "3       0.000374      0.000459         0.001601        0.000482   \n",
              "4       0.000598      0.000488         0.001030        0.000066   \n",
              "\n",
              "  param_n_neighbors               params  split0_test_score  \\\n",
              "0                 3   {'n_neighbors': 3}           0.916667   \n",
              "1                 5   {'n_neighbors': 5}           0.916667   \n",
              "2                 7   {'n_neighbors': 7}           0.875000   \n",
              "3                 9   {'n_neighbors': 9}           0.875000   \n",
              "4                11  {'n_neighbors': 11}           0.875000   \n",
              "\n",
              "   split1_test_score  split2_test_score  split3_test_score  ...  \\\n",
              "0           0.875000           0.958333           1.000000  ...   \n",
              "1           0.958333           0.958333           0.958333  ...   \n",
              "2           0.958333           0.958333           0.958333  ...   \n",
              "3           0.958333           1.000000           0.916667  ...   \n",
              "4           0.916667           1.000000           0.916667  ...   \n",
              "\n",
              "   mean_test_score  std_test_score  rank_test_score  split0_train_score  \\\n",
              "0         0.950000        0.048591                2            0.968750   \n",
              "1         0.958333        0.026352                1            0.968750   \n",
              "2         0.950000        0.040825                2            0.979167   \n",
              "3         0.950000        0.048591                2            0.979167   \n",
              "4         0.941667        0.050000                5            0.979167   \n",
              "\n",
              "   split1_train_score  split2_train_score  split3_train_score  \\\n",
              "0            0.979167            0.968750            0.968750   \n",
              "1            0.979167            0.979167            0.979167   \n",
              "2            0.968750            0.968750            0.979167   \n",
              "3            0.979167            0.968750            0.979167   \n",
              "4            0.979167            0.947917            0.958333   \n",
              "\n",
              "   split4_train_score  mean_train_score  std_train_score  \n",
              "0            0.958333          0.968750         0.006588  \n",
              "1            0.958333          0.972917         0.008333  \n",
              "2            0.968750          0.972917         0.005103  \n",
              "3            0.968750          0.975000         0.005103  \n",
              "4            0.968750          0.966667         0.012148  \n",
              "\n",
              "[5 rows x 21 columns]"
            ]
          },
          "execution_count": 10,
          "metadata": {},
          "output_type": "execute_result"
        }
      ],
      "source": [
        "# 각 교차검증 결과 : cv_results_ →  딕셔너리 → 데이타프레임 \n",
        "# model_knn_grid.cv_results_\n",
        "df_scores = pd.DataFrame(model_knn_grid.cv_results_)\n",
        "df_scores"
      ]
    },
    {
      "cell_type": "code",
      "execution_count": null,
      "id": "ec608b84",
      "metadata": {
        "id": "ec608b84",
        "outputId": "46baa6e1-24aa-4ccf-a251-98c6bfd23a89"
      },
      "outputs": [
        {
          "data": {
            "text/plain": [
              "0.9666666666666667"
            ]
          },
          "execution_count": 11,
          "metadata": {},
          "output_type": "execute_result"
        }
      ],
      "source": [
        "# 5) 최적 모델로 다시 학습시키기 \n",
        "# print('최적의 모델 => ' , model_knn_grid.best_estimator_.get_params())\n",
        "model_knn_grid.best_estimator_.fit(X_train, y_train)\n",
        "pred = model_knn_grid.best_estimator_.predict(X_test)\n",
        "accuracy_score(y_test, pred)"
      ]
    },
    {
      "cell_type": "code",
      "execution_count": null,
      "id": "7af97de6",
      "metadata": {
        "id": "7af97de6",
        "outputId": "3a842dc8-97c4-47f0-ffcf-b9b8061c41ca"
      },
      "outputs": [
        {
          "data": {
            "text/plain": [
              "0.9666666666666667"
            ]
          },
          "execution_count": 12,
          "metadata": {},
          "output_type": "execute_result"
        }
      ],
      "source": [
        "# 일반적인 방법으로 학습시키고 평가 점수 확인\n",
        "\n",
        "model_knn = KNeighborsClassifier(n_neighbors=5)\n",
        "\n",
        "model_knn.fit(X_train, y_train)\n",
        "pred = model_knn.predict(X_test)\n",
        "accuracy_score(y_test, pred)"
      ]
    },
    {
      "cell_type": "markdown",
      "id": "b1636857",
      "metadata": {
        "id": "b1636857"
      },
      "source": [
        "----------------------------------------------------------"
      ]
    },
    {
      "cell_type": "markdown",
      "id": "9959958b",
      "metadata": {
        "id": "9959958b"
      },
      "source": [
        "# 분류(Classification) 성능 평가 지표\n",
        "\n",
        "\n",
        "- 오차 행렬(Confusion Matrix)\n",
        "\n",
        "\n",
        "- 오차 행렬의 결과값으로 ↓ \n",
        "\n",
        "- 정확도(Accuracy)\n",
        "- 정밀도(Precision)\n",
        "- 재현율(Recall)\n",
        "- F1 Score(F-measure)\n",
        "- ROC(Receiver operation characteristric curve)\n",
        "- AUC(Area Under Curve)\n"
      ]
    },
    {
      "cell_type": "markdown",
      "id": "6389bc01",
      "metadata": {
        "id": "6389bc01"
      },
      "source": [
        "<img src=\"https://images.velog.io/images/ohxhxs/post/6730406e-3c39-4fbb-a5a5-59be60607ecd/%EC%98%A4%EC%B0%A8%ED%96%89%EB%A0%AC.png\">\n",
        "\n",
        "<img src=\"https://images.velog.io/images/cleansky/post/5fd08ca6-7fa7-44fd-9186-48c911e6f759/image.png\">"
      ]
    },
    {
      "cell_type": "markdown",
      "id": "982b9c53",
      "metadata": {
        "id": "982b9c53"
      },
      "source": [
        "- TP (True Positive): True(진짜) Positive(양성): 양성으로 예측했고, 그게 맞다\n",
        "- TN (True Negative) : True(진짜) Negative(음성): 음성으로 예측했고, 그게 맞다\n",
        "- FP (False Positive) : False(가짜) Positive(양성): 양성으로 예측했고, 그게 틀리다\n",
        "- FN (False Negative) : False(가짜) Negative(음성): 음성으로 예측했고, 그게 틀리다"
      ]
    },
    {
      "cell_type": "markdown",
      "id": "a26b76dc",
      "metadata": {
        "id": "a26b76dc"
      },
      "source": [
        "## 정확도(Accuracy)\n",
        "- 예측결과가동일한 데이터건수/전체예측데이터건수\n",
        "- 직관적으로 모델 예측 성능을 나타내는 평가지표\n",
        "\n",
        "\n",
        "## 정밀도(Precision)와 재현율(Recall)\n",
        "- 정밀도 = TP / (FP + TP)\n",
        "- 재현율 = TP / (FN + TP)\n",
        "\n",
        "\n",
        "## F1 Score(F-measure)\n",
        "- 정밀도와 재현율을 결합한 지표\n",
        "- 정밀도와 재현율이 어느 한쪽으로 치우치지 않을 때 높은 값을 가짐\n",
        "- ( (정밀도 * 리콜) / ( 정밀도 + 리콜 )) * 2\n"
      ]
    },
    {
      "cell_type": "markdown",
      "id": "0b35c73e",
      "metadata": {
        "id": "0b35c73e"
      },
      "source": [
        "------------------------------"
      ]
    },
    {
      "cell_type": "markdown",
      "id": "303da56f",
      "metadata": {
        "id": "303da56f"
      },
      "source": [
        "## 오차행렬(Confusion Matrix)\n",
        "\n",
        "- 예측 오류가 얼마인지와 더블어 어떠한 유형의 예측 오류가 발생하고 있는지를 함께 나타낸다.\n",
        "- 혼동행렬이라고도 함\n",
        "- 사이킷런의 confusion_matrix 모듈 이용\n",
        "- https://scikit-learn.org/stable/modules/generated/sklearn.metrics.confusion_matrix.html"
      ]
    },
    {
      "cell_type": "code",
      "execution_count": null,
      "id": "b0f654fb",
      "metadata": {
        "id": "b0f654fb"
      },
      "outputs": [],
      "source": [
        "# metrics 평가도구\n",
        "# 모듈 임포트 \n",
        "# accuracy_score              : 정확도는 위에 이미 임포트 함\n",
        "# precision_score             : 정밀도\n",
        "# recall_score                    : 재현율\n",
        "# mean_squared_error : 에러율\n",
        "# classification_report  : 표 스타일 \n",
        "\n",
        "from sklearn.metrics import confusion_matrix, precision_score,recall_score, f1_score, mean_squared_error\n",
        "from sklearn.metrics import classification_report\n",
        "\n",
        "\n",
        "# 라벨 임포트 \n",
        "from sklearn.preprocessing import LabelEncoder"
      ]
    },
    {
      "cell_type": "markdown",
      "id": "f6049ea0",
      "metadata": {
        "id": "f6049ea0"
      },
      "source": [
        "## 이진분류 - 데이터 불러오기"
      ]
    },
    {
      "cell_type": "code",
      "execution_count": null,
      "id": "3fea9158",
      "metadata": {
        "id": "3fea9158",
        "outputId": "29143eef-81df-4ac7-89d9-5c3587647986"
      },
      "outputs": [
        {
          "name": "stdout",
          "output_type": "stream",
          "text": [
            "<class 'pandas.core.frame.DataFrame'>\n",
            "RangeIndex: 891 entries, 0 to 890\n",
            "Data columns (total 12 columns):\n",
            " #   Column       Non-Null Count  Dtype  \n",
            "---  ------       --------------  -----  \n",
            " 0   PassengerId  891 non-null    int64  \n",
            " 1   Survived     891 non-null    int64  \n",
            " 2   Pclass       891 non-null    int64  \n",
            " 3   Name         891 non-null    object \n",
            " 4   Sex          891 non-null    object \n",
            " 5   Age          714 non-null    float64\n",
            " 6   SibSp        891 non-null    int64  \n",
            " 7   Parch        891 non-null    int64  \n",
            " 8   Ticket       891 non-null    object \n",
            " 9   Fare         891 non-null    float64\n",
            " 10  Cabin        204 non-null    object \n",
            " 11  Embarked     889 non-null    object \n",
            "dtypes: float64(2), int64(5), object(5)\n",
            "memory usage: 83.7+ KB\n"
          ]
        }
      ],
      "source": [
        "# 1) 데이터 준비\n",
        "# 이진 분류 대표적인 타이타닉 자료\n",
        "\n",
        "df_t = pd.read_csv('data/titanic_book.csv')\n",
        "df_t.info()  # 결측치 확인"
      ]
    },
    {
      "cell_type": "code",
      "execution_count": null,
      "id": "693b87be",
      "metadata": {
        "id": "693b87be"
      },
      "outputs": [],
      "source": [
        "# 결측치 변경( fillna ) -  Age, Cabin, Embarked\n",
        "\n",
        "df_t['Age'].fillna(df_t['Age'].mean() , inplace=True)  # 평균값\n",
        "df_t['Cabin'].fillna('N' ,  inplace=True)              # 별도의 값 'N'\n",
        "df_t['Embarked'].fillna('S' ,  inplace=True)           # 최빈값"
      ]
    },
    {
      "cell_type": "code",
      "execution_count": null,
      "id": "1eff0dee",
      "metadata": {
        "id": "1eff0dee",
        "outputId": "f83d104f-0300-48c7-bfc8-3ca5d88b3274"
      },
      "outputs": [
        {
          "data": {
            "text/plain": [
              "S    646\n",
              "C    168\n",
              "Q     77\n",
              "Name: Embarked, dtype: int64"
            ]
          },
          "execution_count": 16,
          "metadata": {},
          "output_type": "execute_result"
        }
      ],
      "source": [
        "df_t['Embarked'].value_counts()"
      ]
    },
    {
      "cell_type": "code",
      "execution_count": null,
      "id": "54ca650a",
      "metadata": {
        "id": "54ca650a",
        "outputId": "4d17afb9-4cab-4b09-c424-1753434d1a13"
      },
      "outputs": [
        {
          "name": "stdout",
          "output_type": "stream",
          "text": [
            "<class 'pandas.core.frame.DataFrame'>\n",
            "RangeIndex: 891 entries, 0 to 890\n",
            "Data columns (total 12 columns):\n",
            " #   Column       Non-Null Count  Dtype  \n",
            "---  ------       --------------  -----  \n",
            " 0   PassengerId  891 non-null    int64  \n",
            " 1   Survived     891 non-null    int64  \n",
            " 2   Pclass       891 non-null    int64  \n",
            " 3   Name         891 non-null    object \n",
            " 4   Sex          891 non-null    object \n",
            " 5   Age          891 non-null    float64\n",
            " 6   SibSp        891 non-null    int64  \n",
            " 7   Parch        891 non-null    int64  \n",
            " 8   Ticket       891 non-null    object \n",
            " 9   Fare         891 non-null    float64\n",
            " 10  Cabin        891 non-null    object \n",
            " 11  Embarked     891 non-null    object \n",
            "dtypes: float64(2), int64(5), object(5)\n",
            "memory usage: 83.7+ KB\n"
          ]
        }
      ],
      "source": [
        "df_t.info()  # 결측치 확인"
      ]
    },
    {
      "cell_type": "code",
      "execution_count": null,
      "id": "d2137259",
      "metadata": {
        "id": "d2137259",
        "outputId": "f72d7fdf-edbc-482c-84e5-9f72bc75deef"
      },
      "outputs": [
        {
          "data": {
            "text/plain": [
              "male      577\n",
              "female    314\n",
              "Name: Sex, dtype: int64"
            ]
          },
          "execution_count": 18,
          "metadata": {},
          "output_type": "execute_result"
        }
      ],
      "source": [
        "# 수치형 자료로 라벨링 - Sex , Cabin , Embarked  \n",
        "\n",
        "df_t['Sex'].value_counts()"
      ]
    },
    {
      "cell_type": "code",
      "execution_count": null,
      "id": "2ce34625",
      "metadata": {
        "id": "2ce34625",
        "outputId": "8258d9c1-fcba-43df-9aa8-3aa31a908c38"
      },
      "outputs": [
        {
          "data": {
            "text/plain": [
              "1    577\n",
              "0    314\n",
              "Name: Sex, dtype: int64"
            ]
          },
          "execution_count": 19,
          "metadata": {},
          "output_type": "execute_result"
        }
      ],
      "source": [
        "# 객체 생성\n",
        "\n",
        "encoder = LabelEncoder()\n",
        "\n",
        "encoder.fit(df_t['Sex'])\n",
        "df_t['Sex'] = encoder.transform(df_t['Sex']) # 이렇게 하면 male = 1, female =2 변경\n",
        "df_t['Sex'].value_counts()"
      ]
    },
    {
      "cell_type": "code",
      "execution_count": null,
      "id": "50fd0880",
      "metadata": {
        "id": "50fd0880",
        "outputId": "d68c4385-decd-4415-ab05-6cdd2c99788d"
      },
      "outputs": [
        {
          "data": {
            "text/plain": [
              "S    646\n",
              "C    168\n",
              "Q     77\n",
              "Name: Embarked, dtype: int64"
            ]
          },
          "execution_count": 20,
          "metadata": {},
          "output_type": "execute_result"
        }
      ],
      "source": [
        "df_t['Embarked'].value_counts()"
      ]
    },
    {
      "cell_type": "code",
      "execution_count": null,
      "id": "01f7a530",
      "metadata": {
        "id": "01f7a530",
        "outputId": "095c1a91-f4ae-4851-f98e-52d37e217789"
      },
      "outputs": [
        {
          "data": {
            "text/plain": [
              "2    646\n",
              "0    168\n",
              "1     77\n",
              "Name: Embarked, dtype: int64"
            ]
          },
          "execution_count": 21,
          "metadata": {},
          "output_type": "execute_result"
        }
      ],
      "source": [
        "encoder.fit(df_t['Embarked'])\n",
        "df_t['Embarked'] = encoder.transform(df_t['Embarked']) # S = 2 , C = 0 , Q = 1 으로 변경\n",
        "df_t['Embarked'].value_counts()"
      ]
    },
    {
      "cell_type": "code",
      "execution_count": null,
      "id": "72b58c2e",
      "metadata": {
        "id": "72b58c2e"
      },
      "outputs": [],
      "source": [
        "# Cabin 컬럼은 테이터값에서 첫 글자만 추출 → 라벨 인코더를 이용해 수치형으로 변경\n",
        "\n",
        "df_t['Cabin'] = df_t['Cabin'].str[0]"
      ]
    },
    {
      "cell_type": "code",
      "execution_count": null,
      "id": "41074654",
      "metadata": {
        "id": "41074654",
        "outputId": "72d16c96-cdc4-4836-d2a5-136fb8e9511d"
      },
      "outputs": [
        {
          "data": {
            "text/plain": [
              "N    687\n",
              "C     59\n",
              "B     47\n",
              "D     33\n",
              "E     32\n",
              "A     15\n",
              "F     13\n",
              "G      4\n",
              "T      1\n",
              "Name: Cabin, dtype: int64"
            ]
          },
          "execution_count": 23,
          "metadata": {},
          "output_type": "execute_result"
        }
      ],
      "source": [
        "df_t['Cabin'].value_counts()"
      ]
    },
    {
      "cell_type": "code",
      "execution_count": null,
      "id": "6e0bafad",
      "metadata": {
        "id": "6e0bafad",
        "outputId": "8a1531e7-a880-4590-9be0-42b4d4fd3faf"
      },
      "outputs": [
        {
          "data": {
            "text/plain": [
              "7    687\n",
              "2     59\n",
              "1     47\n",
              "3     33\n",
              "4     32\n",
              "0     15\n",
              "5     13\n",
              "6      4\n",
              "8      1\n",
              "Name: Cabin, dtype: int64"
            ]
          },
          "execution_count": 24,
          "metadata": {},
          "output_type": "execute_result"
        }
      ],
      "source": [
        "encoder.fit(df_t['Cabin'])\n",
        "df_t['Cabin'] = encoder.transform(df_t['Cabin']) \n",
        "df_t['Cabin'].value_counts()"
      ]
    },
    {
      "cell_type": "code",
      "execution_count": null,
      "id": "3ce9eae4",
      "metadata": {
        "id": "3ce9eae4",
        "outputId": "0af3410c-18ce-4d52-bb08-cd5228424dee"
      },
      "outputs": [
        {
          "data": {
            "text/plain": [
              "Index(['PassengerId', 'Survived', 'Pclass', 'Name', 'Sex', 'Age', 'SibSp',\n",
              "       'Parch', 'Ticket', 'Fare', 'Cabin', 'Embarked'],\n",
              "      dtype='object')"
            ]
          },
          "execution_count": 25,
          "metadata": {},
          "output_type": "execute_result"
        }
      ],
      "source": [
        "df_t.columns"
      ]
    },
    {
      "cell_type": "code",
      "execution_count": null,
      "id": "48688d93",
      "metadata": {
        "id": "48688d93"
      },
      "outputs": [],
      "source": [
        "df_t.drop(columns=['PassengerId' ,  'Name' , 'Ticket'], inplace=True)"
      ]
    },
    {
      "cell_type": "code",
      "execution_count": null,
      "id": "2966e287",
      "metadata": {
        "id": "2966e287",
        "outputId": "f80a2ec3-b90d-4b65-9817-b91da26533e6"
      },
      "outputs": [
        {
          "data": {
            "text/plain": [
              "Index(['Survived', 'Pclass', 'Sex', 'Age', 'SibSp', 'Parch', 'Fare', 'Cabin',\n",
              "       'Embarked'],\n",
              "      dtype='object')"
            ]
          },
          "execution_count": 27,
          "metadata": {},
          "output_type": "execute_result"
        }
      ],
      "source": [
        "df_t.columns"
      ]
    },
    {
      "cell_type": "code",
      "execution_count": null,
      "id": "a6400cc2",
      "metadata": {
        "id": "a6400cc2",
        "outputId": "f6303d38-5837-4e09-aa4b-a7269749ff4b"
      },
      "outputs": [
        {
          "name": "stdout",
          "output_type": "stream",
          "text": [
            "<class 'pandas.core.frame.DataFrame'>\n",
            "RangeIndex: 891 entries, 0 to 890\n",
            "Data columns (total 9 columns):\n",
            " #   Column    Non-Null Count  Dtype  \n",
            "---  ------    --------------  -----  \n",
            " 0   Survived  891 non-null    int64  \n",
            " 1   Pclass    891 non-null    int64  \n",
            " 2   Sex       891 non-null    int32  \n",
            " 3   Age       891 non-null    float64\n",
            " 4   SibSp     891 non-null    int64  \n",
            " 5   Parch     891 non-null    int64  \n",
            " 6   Fare      891 non-null    float64\n",
            " 7   Cabin     891 non-null    int32  \n",
            " 8   Embarked  891 non-null    int32  \n",
            "dtypes: float64(2), int32(3), int64(4)\n",
            "memory usage: 52.3 KB\n"
          ]
        }
      ],
      "source": [
        "df_t.info()"
      ]
    },
    {
      "cell_type": "code",
      "execution_count": null,
      "id": "9d1f3fc0",
      "metadata": {
        "id": "9d1f3fc0",
        "outputId": "213a7887-ded7-4383-8981-19a4777f4c4f"
      },
      "outputs": [
        {
          "data": {
            "text/html": [
              "<div>\n",
              "<style scoped>\n",
              "    .dataframe tbody tr th:only-of-type {\n",
              "        vertical-align: middle;\n",
              "    }\n",
              "\n",
              "    .dataframe tbody tr th {\n",
              "        vertical-align: top;\n",
              "    }\n",
              "\n",
              "    .dataframe thead th {\n",
              "        text-align: right;\n",
              "    }\n",
              "</style>\n",
              "<table border=\"1\" class=\"dataframe\">\n",
              "  <thead>\n",
              "    <tr style=\"text-align: right;\">\n",
              "      <th></th>\n",
              "      <th>Survived</th>\n",
              "      <th>Pclass</th>\n",
              "      <th>Sex</th>\n",
              "      <th>Age</th>\n",
              "      <th>SibSp</th>\n",
              "      <th>Parch</th>\n",
              "      <th>Fare</th>\n",
              "      <th>Cabin</th>\n",
              "      <th>Embarked</th>\n",
              "    </tr>\n",
              "  </thead>\n",
              "  <tbody>\n",
              "    <tr>\n",
              "      <th>0</th>\n",
              "      <td>0</td>\n",
              "      <td>3</td>\n",
              "      <td>1</td>\n",
              "      <td>22.0</td>\n",
              "      <td>1</td>\n",
              "      <td>0</td>\n",
              "      <td>7.2500</td>\n",
              "      <td>7</td>\n",
              "      <td>2</td>\n",
              "    </tr>\n",
              "    <tr>\n",
              "      <th>1</th>\n",
              "      <td>1</td>\n",
              "      <td>1</td>\n",
              "      <td>0</td>\n",
              "      <td>38.0</td>\n",
              "      <td>1</td>\n",
              "      <td>0</td>\n",
              "      <td>71.2833</td>\n",
              "      <td>2</td>\n",
              "      <td>0</td>\n",
              "    </tr>\n",
              "    <tr>\n",
              "      <th>2</th>\n",
              "      <td>1</td>\n",
              "      <td>3</td>\n",
              "      <td>0</td>\n",
              "      <td>26.0</td>\n",
              "      <td>0</td>\n",
              "      <td>0</td>\n",
              "      <td>7.9250</td>\n",
              "      <td>7</td>\n",
              "      <td>2</td>\n",
              "    </tr>\n",
              "    <tr>\n",
              "      <th>3</th>\n",
              "      <td>1</td>\n",
              "      <td>1</td>\n",
              "      <td>0</td>\n",
              "      <td>35.0</td>\n",
              "      <td>1</td>\n",
              "      <td>0</td>\n",
              "      <td>53.1000</td>\n",
              "      <td>2</td>\n",
              "      <td>2</td>\n",
              "    </tr>\n",
              "    <tr>\n",
              "      <th>4</th>\n",
              "      <td>0</td>\n",
              "      <td>3</td>\n",
              "      <td>1</td>\n",
              "      <td>35.0</td>\n",
              "      <td>0</td>\n",
              "      <td>0</td>\n",
              "      <td>8.0500</td>\n",
              "      <td>7</td>\n",
              "      <td>2</td>\n",
              "    </tr>\n",
              "  </tbody>\n",
              "</table>\n",
              "</div>"
            ],
            "text/plain": [
              "   Survived  Pclass  Sex   Age  SibSp  Parch     Fare  Cabin  Embarked\n",
              "0         0       3    1  22.0      1      0   7.2500      7         2\n",
              "1         1       1    0  38.0      1      0  71.2833      2         0\n",
              "2         1       3    0  26.0      0      0   7.9250      7         2\n",
              "3         1       1    0  35.0      1      0  53.1000      2         2\n",
              "4         0       3    1  35.0      0      0   8.0500      7         2"
            ]
          },
          "execution_count": 29,
          "metadata": {},
          "output_type": "execute_result"
        }
      ],
      "source": [
        "df_t.head()"
      ]
    },
    {
      "cell_type": "code",
      "execution_count": null,
      "id": "91f5435e",
      "metadata": {
        "id": "91f5435e",
        "outputId": "92c9977d-9147-4234-9071-31935fb38fc2"
      },
      "outputs": [
        {
          "data": {
            "text/plain": [
              "(Index(['Pclass', 'Sex', 'Age', 'SibSp', 'Parch', 'Fare', 'Cabin', 'Embarked'], dtype='object'),\n",
              " 0      0\n",
              " 1      1\n",
              " 2      1\n",
              " 3      1\n",
              " 4      0\n",
              "       ..\n",
              " 886    0\n",
              " 887    1\n",
              " 888    0\n",
              " 889    1\n",
              " 890    0\n",
              " Name: Survived, Length: 891, dtype: int64)"
            ]
          },
          "execution_count": 30,
          "metadata": {},
          "output_type": "execute_result"
        }
      ],
      "source": [
        "# 2) 데이터 분리 → 모델 생성 후 → 학습 시키기\n",
        "\n",
        "X = df_t.drop(columns=['Survived']).copy()\n",
        "y = df_t['Survived']\n",
        "X.columns , y"
      ]
    },
    {
      "cell_type": "code",
      "execution_count": null,
      "id": "afd60e1b",
      "metadata": {
        "id": "afd60e1b",
        "outputId": "f1be3f4a-9c46-4874-b7eb-5d0a7b2b14e8"
      },
      "outputs": [
        {
          "data": {
            "text/plain": [
              "KNeighborsClassifier()"
            ]
          },
          "execution_count": 31,
          "metadata": {},
          "output_type": "execute_result"
        }
      ],
      "source": [
        "X_train, X_test, y_train, y_test = train_test_split( X, y,  \n",
        "                                                     test_size=0.2, random_state=11)\n",
        "\n",
        "model_knn = KNeighborsClassifier()\n",
        "model_knn.fit(X_train, y_train)"
      ]
    },
    {
      "cell_type": "code",
      "execution_count": null,
      "id": "22153f03",
      "metadata": {
        "id": "22153f03",
        "outputId": "4327d620-b5c7-409c-e861-8349f4b25237"
      },
      "outputs": [
        {
          "data": {
            "text/plain": [
              "array([1, 0, 0, 0, 1, 1, 0, 1, 0, 1, 1, 0, 0, 0, 0, 0, 1, 0, 1, 1, 0, 1,\n",
              "       0, 0, 0, 0, 0, 0, 0, 1, 1, 1, 0, 1, 0, 0, 1, 0, 0, 0, 0, 0, 0, 1,\n",
              "       1, 1, 0, 0, 1, 0, 0, 0, 0, 1, 0, 0, 0, 0, 0, 1, 0, 0, 1, 0, 0, 0,\n",
              "       1, 0, 0, 0, 0, 0, 0, 1, 0, 0, 1, 0, 0, 0, 0, 0, 1, 0, 0, 1, 0, 0,\n",
              "       1, 0, 0, 0, 1, 0, 1, 0, 0, 0, 0, 1, 1, 0, 0, 0, 0, 0, 0, 0, 0, 0,\n",
              "       0, 0, 1, 1, 0, 0, 0, 0, 1, 0, 0, 0, 0, 0, 0, 0, 0, 0, 0, 0, 1, 1,\n",
              "       1, 0, 0, 0, 1, 1, 0, 1, 1, 0, 0, 0, 0, 1, 0, 1, 0, 1, 0, 0, 0, 0,\n",
              "       0, 1, 1, 0, 1, 0, 0, 0, 0, 0, 0, 0, 1, 0, 0, 1, 0, 1, 1, 0, 0, 0,\n",
              "       0, 0, 1], dtype=int64)"
            ]
          },
          "execution_count": 32,
          "metadata": {},
          "output_type": "execute_result"
        }
      ],
      "source": [
        "# 3) 오차 행렬 출력하기\n",
        "# confusion_matrix( y_test, 모델명.predict( X_test ))\n",
        "\n",
        "# 예측\n",
        "pred = model_knn.predict(X_test)\n",
        "pred"
      ]
    },
    {
      "cell_type": "code",
      "execution_count": null,
      "id": "93e42f30",
      "metadata": {
        "id": "93e42f30",
        "outputId": "e276aa44-a774-4933-f4e7-87b614f916f8"
      },
      "outputs": [
        {
          "data": {
            "text/plain": [
              "array([[99, 19],\n",
              "       [27, 34]], dtype=int64)"
            ]
          },
          "execution_count": 33,
          "metadata": {},
          "output_type": "execute_result"
        }
      ],
      "source": [
        "# confusion_matrix( y_test ,  model_knn.predict(X_test))\n",
        "# 또는 \n",
        "\n",
        "cm = confusion_matrix( y_test, pred )\n",
        "cm"
      ]
    },
    {
      "cell_type": "code",
      "execution_count": null,
      "id": "d8271c07",
      "metadata": {
        "id": "d8271c07"
      },
      "outputs": [],
      "source": [
        "# 오차 행렬 값을 각 변수로 할당 \n",
        "\n",
        "TN, FP = cm[ 0 , 0 ] , cm[ 0 , 1]\n",
        "FN, TP = cm[ 1 , 0 ] , cm [ 1 , 1 ]"
      ]
    },
    {
      "cell_type": "code",
      "execution_count": null,
      "id": "50065532",
      "metadata": {
        "id": "50065532",
        "outputId": "98f0fa5d-925c-4c45-9172-c34167f92daa"
      },
      "outputs": [
        {
          "data": {
            "text/plain": [
              "(99, 19, 27, 34)"
            ]
          },
          "execution_count": 35,
          "metadata": {},
          "output_type": "execute_result"
        }
      ],
      "source": [
        "TN , FP , FN , TP"
      ]
    },
    {
      "cell_type": "markdown",
      "id": "0d046093",
      "metadata": {
        "id": "0d046093"
      },
      "source": [
        "<img src=\"https://images.velog.io/images/cleansky/post/5fd08ca6-7fa7-44fd-9186-48c911e6f759/image.png\">"
      ]
    },
    {
      "cell_type": "raw",
      "id": "268325e3",
      "metadata": {
        "id": "268325e3"
      },
      "source": [
        "TP (True Positive)   : True(진짜) Positive(양성): 양성으로 예측했고, 그게 맞다.\n",
        "\n",
        "TN (True Negative)   : True(진짜) Negative(음성): 음성으로 예측했고, 그게 맞다.\n",
        "\n",
        "FP (False Positive)  : False(가짜) Positive(양성): 양성으로 예측했고, 그게 틀리다.\n",
        "\n",
        "FN (False Negative)  : False(가짜) Negative(음성): 음성으로 예측했고, 그게 틀리다."
      ]
    },
    {
      "cell_type": "markdown",
      "id": "30bdbabd",
      "metadata": {
        "id": "30bdbabd"
      },
      "source": [
        "## 정확도"
      ]
    },
    {
      "cell_type": "code",
      "execution_count": null,
      "id": "032c8e31",
      "metadata": {
        "id": "032c8e31",
        "outputId": "330abe5b-3608-4add-8fa0-177b515d1a04"
      },
      "outputs": [
        {
          "data": {
            "text/plain": [
              "0.7430167597765364"
            ]
          },
          "execution_count": 36,
          "metadata": {},
          "output_type": "execute_result"
        }
      ],
      "source": [
        "# 정확도 - accuracy_score() 메서드 이용\n",
        "# pred = model_knn.predict(X_test)\n",
        "\n",
        "accuracy_score(y_test, pred)"
      ]
    },
    {
      "cell_type": "code",
      "execution_count": null,
      "id": "05daaac1",
      "metadata": {
        "id": "05daaac1",
        "outputId": "c0821f81-962e-446a-8bdc-31e7111fa48b"
      },
      "outputs": [
        {
          "data": {
            "text/plain": [
              "0.7430167597765364"
            ]
          },
          "execution_count": 37,
          "metadata": {},
          "output_type": "execute_result"
        }
      ],
      "source": [
        "# 정확도 - 오차 행렬을 이용\n",
        "\n",
        "(TP + TN) / (TP + FP + FN + TN)"
      ]
    },
    {
      "cell_type": "markdown",
      "id": "34d2f2ea",
      "metadata": {
        "id": "34d2f2ea"
      },
      "source": [
        "## 에러율"
      ]
    },
    {
      "cell_type": "code",
      "execution_count": null,
      "id": "4b8d276f",
      "metadata": {
        "id": "4b8d276f",
        "outputId": "73255a6f-b097-43a4-ee70-17dbfffb16e7"
      },
      "outputs": [
        {
          "data": {
            "text/plain": [
              "0.2569832402234637"
            ]
          },
          "execution_count": 38,
          "metadata": {},
          "output_type": "execute_result"
        }
      ],
      "source": [
        "# 에러율 - mean_squared_error ()\n",
        "# pred = model_knn.predict(X_test)\n",
        "\n",
        "mean_squared_error(y_test, pred)"
      ]
    },
    {
      "cell_type": "code",
      "execution_count": null,
      "id": "f634ac0a",
      "metadata": {
        "id": "f634ac0a",
        "outputId": "8fe42307-42fe-4992-d6d0-8dbeb28abf88"
      },
      "outputs": [
        {
          "data": {
            "text/plain": [
              "0.2569832402234637"
            ]
          },
          "execution_count": 39,
          "metadata": {},
          "output_type": "execute_result"
        }
      ],
      "source": [
        "# 오차행렬 이용해서 구하기 \n",
        "\n",
        "( FP + FN ) / (TP + FP + FN + TN)"
      ]
    },
    {
      "cell_type": "markdown",
      "id": "37a68535",
      "metadata": {
        "id": "37a68535"
      },
      "source": [
        "## 정밀도 precision"
      ]
    },
    {
      "cell_type": "code",
      "execution_count": null,
      "id": "15a32baa",
      "metadata": {
        "id": "15a32baa",
        "outputId": "a0d2609f-1fd9-4853-e850-7e5c4166a05c"
      },
      "outputs": [
        {
          "data": {
            "text/plain": [
              "0.6415094339622641"
            ]
          },
          "execution_count": 40,
          "metadata": {},
          "output_type": "execute_result"
        }
      ],
      "source": [
        "# 정밀도 ( precision_score )\n",
        "# pred = model_knn.predict(X_test)\n",
        "\n",
        "precision_score(y_test, pred)"
      ]
    },
    {
      "cell_type": "code",
      "execution_count": null,
      "id": "67b4d66c",
      "metadata": {
        "id": "67b4d66c",
        "outputId": "fa3365b6-5296-4cbc-8cc8-14c705514552"
      },
      "outputs": [
        {
          "data": {
            "text/plain": [
              "0.6415094339622641"
            ]
          },
          "execution_count": 41,
          "metadata": {},
          "output_type": "execute_result"
        }
      ],
      "source": [
        "# 오차행렬 이용해서 구하기 \n",
        "\n",
        "TP / (TP + FP )"
      ]
    },
    {
      "cell_type": "markdown",
      "id": "d616f09a",
      "metadata": {
        "id": "d616f09a"
      },
      "source": [
        "## 재현율 Recall"
      ]
    },
    {
      "cell_type": "code",
      "execution_count": null,
      "id": "a64f1a09",
      "metadata": {
        "id": "a64f1a09",
        "outputId": "efa22e5a-c815-49b2-f7c9-50735cfa0e44"
      },
      "outputs": [
        {
          "data": {
            "text/plain": [
              "0.5573770491803278"
            ]
          },
          "execution_count": 42,
          "metadata": {},
          "output_type": "execute_result"
        }
      ],
      "source": [
        "# 검출력 (Recall) = sensitivity\n",
        "# pred = model_knn.predict(X_test)\n",
        "\n",
        "recall_score(y_test, pred)"
      ]
    },
    {
      "cell_type": "code",
      "execution_count": null,
      "id": "3c183258",
      "metadata": {
        "id": "3c183258",
        "outputId": "a5ea20d9-823f-45c5-80e1-b156a0852dfe"
      },
      "outputs": [
        {
          "data": {
            "text/plain": [
              "0.5573770491803278"
            ]
          },
          "execution_count": 43,
          "metadata": {},
          "output_type": "execute_result"
        }
      ],
      "source": [
        "TP / (TP + FN )"
      ]
    },
    {
      "cell_type": "markdown",
      "id": "729272eb",
      "metadata": {
        "id": "729272eb"
      },
      "source": [
        "## F1 스코어"
      ]
    },
    {
      "cell_type": "code",
      "execution_count": null,
      "id": "51331527",
      "metadata": {
        "id": "51331527",
        "outputId": "a58270ee-22cd-4278-9cc0-eb25ac6999c6"
      },
      "outputs": [
        {
          "data": {
            "text/plain": [
              "0.5964912280701753"
            ]
          },
          "execution_count": 44,
          "metadata": {},
          "output_type": "execute_result"
        }
      ],
      "source": [
        "# F1 스코어\n",
        "# pred = model_knn.predict(X_test)\n",
        "# ( (정밀도 * 리콜) / ( 정밀도 + 리콜 )) * 2\n",
        "\n",
        "f1_score(y_test, pred)"
      ]
    },
    {
      "cell_type": "code",
      "execution_count": null,
      "id": "72969d66",
      "metadata": {
        "id": "72969d66",
        "outputId": "2ac5f052-6a52-4f72-f253-273976475a11"
      },
      "outputs": [
        {
          "data": {
            "text/plain": [
              "0.5964912280701753"
            ]
          },
          "execution_count": 45,
          "metadata": {},
          "output_type": "execute_result"
        }
      ],
      "source": [
        "# ( (정밀도 * 리콜) / ( 정밀도 + 리콜 )) * 2\n",
        "\n",
        "# 정밀도\n",
        "precision = precision_score(y_test, pred)\n",
        "\n",
        "# 리콜\n",
        "recall = recall_score(y_test, pred)\n",
        "\n",
        "# 결과\n",
        "((precision * recall) / (precision + recall))*2"
      ]
    },
    {
      "cell_type": "code",
      "execution_count": null,
      "id": "cf147aa3",
      "metadata": {
        "id": "cf147aa3",
        "outputId": "3ea487cc-ea1f-43cf-960f-311a7e8a6005"
      },
      "outputs": [
        {
          "name": "stdout",
          "output_type": "stream",
          "text": [
            "              precision    recall  f1-score   support\n",
            "\n",
            "           0       0.79      0.84      0.81       118\n",
            "           1       0.64      0.56      0.60        61\n",
            "\n",
            "    accuracy                           0.74       179\n",
            "   macro avg       0.71      0.70      0.70       179\n",
            "weighted avg       0.74      0.74      0.74       179\n",
            "\n"
          ]
        }
      ],
      "source": [
        "# 평가표 출력\n",
        "\n",
        "print( classification_report(y_test, pred) )"
      ]
    },
    {
      "cell_type": "markdown",
      "id": "72d39378",
      "metadata": {
        "id": "72d39378"
      },
      "source": [
        "- 이런 오차 행렬은 병원에서 주로 쓰이는 방식\n",
        "\n",
        "- 참고 블로그 \n",
        "\n",
        "https://frhyme.github.io/machine-learning/clf_%ED%8F%89%EA%B0%80%ED%95%98%EA%B8%B0/"
      ]
    },
    {
      "cell_type": "code",
      "execution_count": null,
      "id": "df457fda",
      "metadata": {
        "id": "df457fda",
        "outputId": "bec71cfa-f610-47da-f293-f953dfce9777"
      },
      "outputs": [
        {
          "data": {
            "text/plain": [
              "Index(['Survived', 'Pclass', 'Sex', 'Age', 'SibSp', 'Parch', 'Fare', 'Cabin',\n",
              "       'Embarked'],\n",
              "      dtype='object')"
            ]
          },
          "execution_count": 47,
          "metadata": {},
          "output_type": "execute_result"
        }
      ],
      "source": [
        "df_t.columns"
      ]
    },
    {
      "cell_type": "code",
      "execution_count": null,
      "id": "4a3c4eb4",
      "metadata": {
        "id": "4a3c4eb4",
        "outputId": "1dee05ae-e4cc-41ed-c978-50c2d83b931f"
      },
      "outputs": [
        {
          "data": {
            "text/plain": [
              "0    549\n",
              "1    342\n",
              "Name: Survived, dtype: int64"
            ]
          },
          "execution_count": 48,
          "metadata": {},
          "output_type": "execute_result"
        }
      ],
      "source": [
        "df_t['Survived'].value_counts()"
      ]
    }
  ],
  "metadata": {
    "kernelspec": {
      "display_name": "Python 3 (ipykernel)",
      "language": "python",
      "name": "python3"
    },
    "language_info": {
      "codemirror_mode": {
        "name": "ipython",
        "version": 3
      },
      "file_extension": ".py",
      "mimetype": "text/x-python",
      "name": "python",
      "nbconvert_exporter": "python",
      "pygments_lexer": "ipython3",
      "version": "3.9.12"
    },
    "colab": {
      "provenance": [],
      "include_colab_link": true
    }
  },
  "nbformat": 4,
  "nbformat_minor": 5
}