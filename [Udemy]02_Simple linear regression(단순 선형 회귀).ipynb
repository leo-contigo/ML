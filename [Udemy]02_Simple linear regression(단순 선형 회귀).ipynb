{
  "cells": [
    {
      "cell_type": "markdown",
      "source": [
        "# Udemy 【한글자막】머신러닝의 모든 것 with Python, R\n"
      ],
      "metadata": {
        "id": "J9WxwJDvZvvQ"
      }
    },
    {
      "cell_type": "code",
      "source": [
        "from google.colab import drive\n",
        "drive.mount('/content/drive')"
      ],
      "metadata": {
        "colab": {
          "base_uri": "https://localhost:8080/"
        },
        "id": "lttSqnVsZ-vV",
        "outputId": "51d0e0fa-95ae-4823-e100-6f2a3bd6766a"
      },
      "execution_count": null,
      "outputs": [
        {
          "output_type": "stream",
          "name": "stdout",
          "text": [
            "Mounted at /content/drive\n"
          ]
        }
      ]
    },
    {
      "cell_type": "markdown",
      "metadata": {
        "id": "l_LulNCC8z96"
      },
      "source": [
        "# Simple Linear Regression(단순 선형 회귀)\n",
        "\n",
        "- 하나의 독립변수만 존재.\n",
        "- 하나의 특성(feature:입력변수)과 하나의 연속적인 값의 예측으로 구성.<br>\n",
        "\n",
        "\n",
        "> - 강의 39 - 단순 선형 회귀 1단계\n",
        "- 강의 40 - 단순 선형 회귀 2단계\n",
        "- 강의 41 - 단순 선형 회귀 3단계\n",
        "- 강의 42 - 단순 선형 회귀 4단계"
      ]
    },
    {
      "cell_type": "markdown",
      "metadata": {
        "id": "xpXdowrE9DxW"
      },
      "source": [
        "## Importing the libraries"
      ]
    },
    {
      "cell_type": "code",
      "execution_count": null,
      "metadata": {
        "id": "nhKd4hWx9GFt"
      },
      "outputs": [],
      "source": [
        "import numpy as np\n",
        "import matplotlib.pyplot as plt\n",
        "import pandas as pd"
      ]
    },
    {
      "cell_type": "markdown",
      "metadata": {
        "id": "6JhpWJi59J1p"
      },
      "source": [
        "## Importing the dataset\n",
        "## 데이터"
      ]
    },
    {
      "cell_type": "code",
      "execution_count": null,
      "metadata": {
        "id": "f8GfYDZ59O18"
      },
      "outputs": [],
      "source": [
        "dataset = pd.read_csv('/content/drive/MyDrive/UDEMY/Machine Learning A-Z (Codes and Datasets)/Part 2 - Regression(회귀)/Section 4 - Simple Linear Regression(단순 선형 회귀)/Salary_Data.csv')\n",
        "dataset\n",
        "# X : 연차 / y : 임금\n",
        "X = dataset.iloc[:, :-1].values\n",
        "y = dataset.iloc[:, -1].values"
      ]
    },
    {
      "cell_type": "code",
      "source": [
        "print(X)\n",
        "print('=========================================')\n",
        "print(y)"
      ],
      "metadata": {
        "colab": {
          "base_uri": "https://localhost:8080/"
        },
        "id": "PV3tXNg-fEwE",
        "outputId": "0e81cae1-d99b-4744-feef-977de1687818"
      },
      "execution_count": null,
      "outputs": [
        {
          "output_type": "stream",
          "name": "stdout",
          "text": [
            "[[ 1.1]\n",
            " [ 1.3]\n",
            " [ 1.5]\n",
            " [ 2. ]\n",
            " [ 2.2]\n",
            " [ 2.9]\n",
            " [ 3. ]\n",
            " [ 3.2]\n",
            " [ 3.2]\n",
            " [ 3.7]\n",
            " [ 3.9]\n",
            " [ 4. ]\n",
            " [ 4. ]\n",
            " [ 4.1]\n",
            " [ 4.5]\n",
            " [ 4.9]\n",
            " [ 5.1]\n",
            " [ 5.3]\n",
            " [ 5.9]\n",
            " [ 6. ]\n",
            " [ 6.8]\n",
            " [ 7.1]\n",
            " [ 7.9]\n",
            " [ 8.2]\n",
            " [ 8.7]\n",
            " [ 9. ]\n",
            " [ 9.5]\n",
            " [ 9.6]\n",
            " [10.3]\n",
            " [10.5]]\n",
            "=========================================\n",
            "[ 39343.  46205.  37731.  43525.  39891.  56642.  60150.  54445.  64445.\n",
            "  57189.  63218.  55794.  56957.  57081.  61111.  67938.  66029.  83088.\n",
            "  81363.  93940.  91738.  98273. 101302. 113812. 109431. 105582. 116969.\n",
            " 112635. 122391. 121872.]\n"
          ]
        }
      ]
    },
    {
      "cell_type": "markdown",
      "metadata": {
        "id": "AyhQaTwP9RzG"
      },
      "source": [
        "## Splitting the dataset into the Training set and Test set"
      ]
    },
    {
      "cell_type": "code",
      "execution_count": null,
      "metadata": {
        "id": "bxOOauiN9VpC"
      },
      "outputs": [],
      "source": [
        "from sklearn.model_selection import train_test_split\n",
        "X_train, X_test, y_train, y_test = train_test_split(X, y, test_size = 0.2, random_state = 0)"
      ]
    },
    {
      "cell_type": "markdown",
      "metadata": {
        "id": "ZijQwFMQ9itx"
      },
      "source": [
        "## Training the Simple Linear Regression model on the Training set"
      ]
    },
    {
      "cell_type": "code",
      "execution_count": null,
      "metadata": {
        "colab": {
          "base_uri": "https://localhost:8080/"
        },
        "id": "B4Aj_8YJ9l7J",
        "outputId": "42c0b001-23fa-437e-cd1f-d2a0890978c8"
      },
      "outputs": [
        {
          "output_type": "execute_result",
          "data": {
            "text/plain": [
              "LinearRegression()"
            ]
          },
          "metadata": {},
          "execution_count": 10
        }
      ],
      "source": [
        "from sklearn.linear_model import LinearRegression\n",
        "# 회귀 : 연속적인 실제 값을 예측할 때 사용\n",
        "\n",
        "# 객체 생성\n",
        "regressor = LinearRegression()\n",
        "# 모델 훈련세트 연결\n",
        "regressor.fit(X_train, y_train)"
      ]
    },
    {
      "cell_type": "markdown",
      "metadata": {
        "id": "wa2T1Lq89o5H"
      },
      "source": [
        "## Predicting the Test set results\n",
        "\n",
        "## 결과 예측"
      ]
    },
    {
      "cell_type": "code",
      "execution_count": null,
      "metadata": {
        "colab": {
          "base_uri": "https://localhost:8080/"
        },
        "id": "Rn_sTJ2o9smm",
        "outputId": "7d3b5df0-4894-41f1-b7c6-902a9fd75f98"
      },
      "outputs": [
        {
          "output_type": "execute_result",
          "data": {
            "text/plain": [
              "array([ 40748.96184072, 122699.62295594,  64961.65717022,  63099.14214487,\n",
              "       115249.56285456, 107799.50275317])"
            ]
          },
          "metadata": {},
          "execution_count": 11
        }
      ],
      "source": [
        "# 테스트 데이터 예측(predict)\n",
        "regressor.predict(X_test)\n",
        "y_pred = regressor.predict(X_test)\n",
        "y_pred"
      ]
    },
    {
      "cell_type": "markdown",
      "metadata": {
        "id": "-zSoMZ-P9v8t"
      },
      "source": [
        "# 시각화"
      ]
    },
    {
      "cell_type": "markdown",
      "source": [
        "## 1 Visualising the Training set results\n",
        "## 훈련 데이터"
      ],
      "metadata": {
        "id": "tbAZBA2IuOxm"
      }
    },
    {
      "cell_type": "code",
      "execution_count": null,
      "metadata": {
        "colab": {
          "base_uri": "https://localhost:8080/",
          "height": 295
        },
        "id": "IAePn_u-93tI",
        "outputId": "597ea78b-3c41-47ac-ef26-6c662e18c2d3"
      },
      "outputs": [
        {
          "output_type": "display_data",
          "data": {
            "text/plain": [
              "<Figure size 432x288 with 1 Axes>"
            ],
            "image/png": "[encoded data removed]"
          },
          "metadata": {
            "needs_background": "light"
          }
        }
      ],
      "source": [
        "# 실제 데이터(연차, 임금)\n",
        "plt.scatter(X_train, y_train, color = 'red')\n",
        "# 회귀선 : 실제 결과값에 가장 근접한 예측을 나타내는 선\n",
        "plt.plot(X_train, regressor.predict(X_train), color = 'blue')\n",
        "\n",
        "# 그래프 이름\n",
        "plt.title('Salary vs Experience (Training set)')\n",
        "# X, y축 라벨 이름\n",
        "plt.xlabel('Years of Experience')\n",
        "plt.ylabel('Salary')\n",
        "plt.show()"
      ]
    },
    {
      "cell_type": "markdown",
      "metadata": {
        "id": "EUX1Vhsv97ZT"
      },
      "source": [
        "## 2 Visualising the Test set results\n",
        "## 테스트 데이터"
      ]
    },
    {
      "cell_type": "code",
      "execution_count": null,
      "metadata": {
        "colab": {
          "base_uri": "https://localhost:8080/",
          "height": 295
        },
        "id": "Ze9vpBTf-Bol",
        "outputId": "58359ab2-7a52-4960-f49e-3d8b5ef6f7a1"
      },
      "outputs": [
        {
          "data": {
            "image/png": "[encoded data removed]",
            "text/plain": [
              "<Figure size 432x288 with 1 Axes>"
            ]
          },
          "metadata": {
            "needs_background": "light"
          },
          "output_type": "display_data"
        }
      ],
      "source": [
        "plt.scatter(X_test, y_test, color = 'red')\n",
        "plt.plot(X_train, regressor.predict(X_train), color = 'blue')\n",
        "plt.title('Salary vs Experience (Test set)')\n",
        "plt.xlabel('Years of Experience')\n",
        "plt.ylabel('Salary')\n",
        "plt.show()"
      ]
    },
    {
      "cell_type": "markdown",
      "source": [
        "\n",
        "\n",
        "---\n",
        "\n"
      ],
      "metadata": {
        "id": "q6EODwN5xYly"
      }
    },
    {
      "cell_type": "markdown",
      "source": [
        "# BONUS_simple_linear_regression.ipynb"
      ],
      "metadata": {
        "id": "UNbjjTtJxdxG"
      }
    },
    {
      "cell_type": "markdown",
      "source": [
        "선형 회귀는 데이터 과학에서 가장 일반적으로 사용되는 통계 모델링 방법 중 하나입니다. <br>또한 우리 학생 커뮤니티에서 많은 질문을 받는 주제이기도 합니다.\n",
        "\n",
        "이 무료 보너스 다운로드는 선형 회귀와 관련하여 가장 자주 묻는 두 가지 질문을 다루고 코드를 포함하여 자신 있게 문제를 해결할 수 있도록 단계별로 안내합니다!\n",
        "\n",
        "질문 1: 간단한 선형 회귀 모델을 사용하여 단일 예측(예: 12년 경력 직원의 급여 예측)을 하려면 어떻게 해야 합니까?\n",
        "\n",
        "질문 2: 계수 b0 및 b1의 최종 값을 사용하여 최종 회귀 방정식 y = b0 + b1 x를 어떻게 얻습니까?\n",
        "\n",
        "이 Google Colab 보너스에서 받는 단계별 코딩 연습은 다음과 같습니다.\n",
        "\n",
        "라이브러리 및 데이터세트 가져오기\n",
        "데이터세트 분할\n",
        "교육 세트에서 단순 선형 회귀 모델 교육\n",
        "테스트 세트 결과 예측 및 시각화\n",
        "트레이닝 세트 결과 시각화 \n",
        "단일 예측 만들기 \n",
        "최종 선형 회귀 방정식 얻기(계수 값 사용)"
      ],
      "metadata": {
        "id": "GkzdIbYDxZX_"
      }
    },
    {
      "cell_type": "code",
      "execution_count": null,
      "metadata": {
        "id": "PFU9uPVbZqUM",
        "colab": {
          "base_uri": "https://localhost:8080/"
        },
        "outputId": "fff78050-204f-406e-e6a9-84df8d5d31ba"
      },
      "outputs": [
        {
          "output_type": "stream",
          "name": "stdout",
          "text": [
            "[138531.00067138]\n"
          ]
        }
      ],
      "source": [
        "print(regressor.predict([[12]]))"
      ]
    },
    {
      "cell_type": "markdown",
      "source": [
        "Therefore, our model predicts that the salary of an employee with 12 years of experience is $ 138967,5.\n",
        "\n",
        "**Important note:** Notice that the value of the feature (12 years) was input in a double pair of square brackets. That's because the \"predict\" method always expects a 2D array as the format of its inputs. And putting 12 into a double pair of square brackets makes the input exactly a 2D array. Simply put:\n",
        "\n",
        "$12 \\rightarrow \\textrm{scalar}$\n",
        "\n",
        "$[12] \\rightarrow \\textrm{1D array}$\n",
        "\n",
        "$[[12]] \\rightarrow \\textrm{2D array}$\n",
        "\n",
        "따라서 우리 모델은 12년 경력 직원의 급여가 $138967,5라고 예측합니다.\n",
        "\n",
        "중요 사항: 특성 값(12년)이 이중 대괄호 쌍으로 입력되었음을 알 수 있습니다. <br>\"예측\" 메서드는 항상 입력 형식으로 2D 배열을 기대하기 때문입니다.<br> 그리고 이중 대괄호 쌍에 12를 넣으면 입력이 정확히 2D 배열이 됩니다. 간단히 말해서:\n",
        "\n",
        "12→scalar \n",
        "\n",
        "[ 12 ] → 1차원 배열 \n",
        "\n",
        "[ [ 12 ] ] → 2차원 배열 \n"
      ],
      "metadata": {
        "id": "PDQhbiAyxlZS"
      }
    },
    {
      "cell_type": "markdown",
      "source": [
        "## Getting the final linear regression equation with the values of the coefficients"
      ],
      "metadata": {
        "id": "DlRWPPzNxopm"
      }
    },
    {
      "cell_type": "code",
      "source": [
        "print(regressor.coef_)\n",
        "print(regressor.intercept_)"
      ],
      "metadata": {
        "colab": {
          "base_uri": "https://localhost:8080/"
        },
        "id": "iYS86C_SxqZo",
        "outputId": "8edb76ae-fb0a-4588-db99-bcf193c6e224"
      },
      "execution_count": null,
      "outputs": [
        {
          "output_type": "stream",
          "name": "stdout",
          "text": [
            "[9312.57512673]\n",
            "26780.09915062818\n"
          ]
        }
      ]
    },
    {
      "cell_type": "markdown",
      "source": [
        "Therefore, the equation of our simple linear regression model is:\n",
        "\n",
        "$$\\textrm{Salary} = 9345.94 \\times \\textrm{YearsExperience} + 26816.19$$\n",
        "\n",
        "**Important Note:** To get these coefficients we called the \"coef_\" and \"intercept_\" attributes from our regressor object. Attributes in Python are different than methods and usually return a simple value or an array of values.\n",
        "\n",
        "따라서 단순 선형 회귀 모델의 방정식은 다음과 같습니다.\n",
        "\n",
        "급여 = 9345.94× 경력년 +26816.19 \n",
        "\n",
        "중요 참고 사항: 이러한 계수를 얻기 위해 회귀 개체에서 \"coef_\" 및 \"intercept_\" 속성을 호출했습니다.<br> Python의 속성은 메서드와 다르며 일반적으로 단순 값 또는 값 배열을 반환합니다."
      ],
      "metadata": {
        "id": "QVwkMU8rxvHR"
      }
    }
  ],
  "metadata": {
    "colab": {
      "provenance": []
    },
    "kernelspec": {
      "display_name": "Python 3",
      "language": "python",
      "name": "python3"
    },
    "language_info": {
      "codemirror_mode": {
        "name": "ipython",
        "version": 3
      },
      "file_extension": ".py",
      "mimetype": "text/x-python",
      "name": "python",
      "nbconvert_exporter": "python",
      "pygments_lexer": "ipython3",
      "version": "3.7.6"
    }
  },
  "nbformat": 4,
  "nbformat_minor": 0
}