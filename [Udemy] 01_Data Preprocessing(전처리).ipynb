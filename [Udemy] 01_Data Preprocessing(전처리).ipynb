{
  "nbformat": 4,
  "nbformat_minor": 0,
  "metadata": {
    "colab": {
      "provenance": []
    },
    "kernelspec": {
      "name": "python3",
      "display_name": "Python 3"
    }
  },
  "cells": [
    {
      "cell_type": "markdown",
      "source": [
        "# Udemy 【한글자막】머신러닝의 모든 것 with Python, R\n"
      ],
      "metadata": {
        "id": "rMu1toRGR8k7"
      }
    },
    {
      "cell_type": "code",
      "source": [
        "from google.colab import drive\n",
        "drive.mount('/content/drive')"
      ],
      "metadata": {
        "colab": {
          "base_uri": "https://localhost:8080/"
        },
        "id": "X4QhRjZPV6ul",
        "outputId": "add64634-0943-4e23-c34b-5f6447d64539"
      },
      "execution_count": null,
      "outputs": [
        {
          "output_type": "stream",
          "name": "stdout",
          "text": [
            "Mounted at /content/drive\n"
          ]
        }
      ]
    },
    {
      "cell_type": "markdown",
      "metadata": {
        "id": "37puETfgRzzg"
      },
      "source": [
        "# Data Preprocessing Tools\n",
        "\n",
        "> - 강의 21 - 누락된 데이터 처리하기\n",
        "- 강의 22 - 범주형 데이터 인코딩\n",
        "- 강의 23 - 데이터세트를 훈련 세트와 테스트 세트로 분할하기\n",
        "- 강의 24 - 기능확장"
      ]
    },
    {
      "cell_type": "markdown",
      "metadata": {
        "id": "EoRP98MpR-qj"
      },
      "source": [
        "## Importing the libraries\n",
        "## 라이브러리 불러오기"
      ]
    },
    {
      "cell_type": "code",
      "metadata": {
        "id": "N-qiINBQSK2g"
      },
      "source": [
        "# 배열작업을 위한 라이브러리.\n",
        "import numpy as np\n",
        "# 차트와 그래프\n",
        "import matplotlib.pyplot as plt\n",
        "\n",
        "import pandas as pd"
      ],
      "execution_count": null,
      "outputs": []
    },
    {
      "cell_type": "markdown",
      "metadata": {
        "id": "RopL7tUZSQkT"
      },
      "source": [
        "## Importing the dataset\n",
        "## 데이터 세트 가져오기\n",
        "\n",
        ">- 독립변수 : 예측할수있는 정보를 가진 변수\n",
        ">- 종속변수 : 예측"
      ]
    },
    {
      "cell_type": "code",
      "metadata": {
        "id": "WwEPNDWySTKm"
      },
      "source": [
        "# 데이터 불러오기\n",
        "\n",
        "dataset = pd.read_csv('/content/drive/MyDrive/UDEMY/Machine Learning A-Z (Codes and Datasets)/Part 1 - Data Preprocessing/Section 2 -------------------- Part 1 - Data Preprocessing --------------------/Python/Data.csv')\n",
        "dataset\n",
        "\n",
        "# iloc : locate indexes \n",
        "# iloc[행, 열]\n",
        "dataset.iloc[:, :-1].values\n",
        "X = dataset.iloc[:, :-1].values\n",
        "y = dataset.iloc[:, -1].values"
      ],
      "execution_count": null,
      "outputs": []
    },
    {
      "cell_type": "code",
      "metadata": {
        "id": "hCsz2yCebe1R",
        "outputId": "d2bc79e7-1e9d-496a-8d67-fc32c10b7824",
        "colab": {
          "base_uri": "https://localhost:8080/"
        }
      },
      "source": [
        "print(X)\n",
        "print('=========================================')\n",
        "print(y)"
      ],
      "execution_count": null,
      "outputs": [
        {
          "output_type": "stream",
          "name": "stdout",
          "text": [
            "[['France' 44.0 72000.0]\n",
            " ['Spain' 27.0 48000.0]\n",
            " ['Germany' 30.0 54000.0]\n",
            " ['Spain' 38.0 61000.0]\n",
            " ['Germany' 40.0 nan]\n",
            " ['France' 35.0 58000.0]\n",
            " ['Spain' nan 52000.0]\n",
            " ['France' 48.0 79000.0]\n",
            " ['Germany' 50.0 83000.0]\n",
            " ['France' 37.0 67000.0]]\n",
            "=========================================\n",
            "['No' 'Yes' 'No' 'No' 'Yes' 'Yes' 'No' 'Yes' 'No' 'Yes']\n"
          ]
        }
      ]
    },
    {
      "cell_type": "markdown",
      "metadata": {
        "id": "nhfKXNxlSabC"
      },
      "source": [
        "## Taking care of missing data\n",
        "## 결측치\n",
        "> - 관측값을 지우고 무시. - 하나의 방법일 뿐 ( 1% 정도...)\n",
        "- 누락된 데이터를 대체 - ex. 평균값을 결측치로 채움"
      ]
    },
    {
      "cell_type": "code",
      "metadata": {
        "id": "c93k7ipkSexq"
      },
      "source": [
        "# 데이터 전처리 라이브러리.\n",
        "# SimpleImputer 평균값으로 결측치 대체\n",
        "from sklearn.impute import SimpleImputer\n",
        "\n",
        "# 클래스의 인스턴스 생성 누락된 salary값을 평균 salary로\n",
        "# 변수 = 객체생성(대체해야할 결측치를 지정=np.nan, 인자='평균')\n",
        "# 행렬 내 모든 결측치를 자체의 평균값으로 대체하겠다.\n",
        "imputer = SimpleImputer(missing_values=np.nan, strategy='mean')\n",
        "\n",
        "# 객체.fit(X[행, 열(컬럼범위)]) : 문자열 제외\n",
        "imputer.fit(X[:, 1:3])\n",
        "\n",
        "# transform 누락된 salary를 평균값으로 대체\n",
        "imputer.transform(X[:, 1:3])\n",
        "X[:, 1:3] = imputer.transform(X[:, 1:3])"
      ],
      "execution_count": null,
      "outputs": []
    },
    {
      "cell_type": "code",
      "metadata": {
        "id": "3UgLdMS_bjq_",
        "outputId": "89849ee3-cdf2-4d30-9e39-09fae62a7b99",
        "colab": {
          "base_uri": "https://localhost:8080/"
        }
      },
      "source": [
        "print(X)"
      ],
      "execution_count": null,
      "outputs": [
        {
          "output_type": "stream",
          "name": "stdout",
          "text": [
            "[['France' 44.0 72000.0]\n",
            " ['Spain' 27.0 48000.0]\n",
            " ['Germany' 30.0 54000.0]\n",
            " ['Spain' 38.0 61000.0]\n",
            " ['Germany' 40.0 63777.77777777778]\n",
            " ['France' 35.0 58000.0]\n",
            " ['Spain' 38.77777777777778 52000.0]\n",
            " ['France' 48.0 79000.0]\n",
            " ['Germany' 50.0 83000.0]\n",
            " ['France' 37.0 67000.0]]\n"
          ]
        }
      ]
    },
    {
      "cell_type": "markdown",
      "metadata": {
        "id": "CriG6VzVSjcK"
      },
      "source": [
        "## Encoding categorical data\n",
        "## 범주형 데이터 인코딩"
      ]
    },
    {
      "cell_type": "markdown",
      "metadata": {
        "id": "AhSpdQWeSsFh"
      },
      "source": [
        "### Encoding the Independent Variable"
      ]
    },
    {
      "cell_type": "code",
      "source": [
        "# 문자열을 숫자열로 바꿔줘야함\n",
        "# 예를 들어 프랑스 0, 스페인 1, 독일 2로 바꾸는 방법이 있음.\n",
        "# 이럴 경우 머신러닝 모델이 국가 숫자들이 순서가 있다고 판단할수 있음.\n",
        "# 세 국가는 관계가 없기때문에 상호관계에 영향을 주면 안됨.\n",
        "\n",
        "# one-hot 인코딩을 사용함( 범주형 데이터 전처리 )\n",
        "# one-hot 인코딩은 각 나라에 이진백터를 생성하는 것으로 구성.\n",
        "# 프랑스 1 0 0 / 스페인 0 1 0 / 독일 0 0 1 / 세개의 열이 생김"
      ],
      "metadata": {
        "id": "y7hZ3pBEaydU"
      },
      "execution_count": null,
      "outputs": []
    },
    {
      "cell_type": "code",
      "metadata": {
        "id": "5hwuVddlSwVi"
      },
      "source": [
        "from sklearn.compose import ColumnTransformer\n",
        "from sklearn.preprocessing import OneHotEncoder\n",
        "# ColumnTransformer('transformer='로 어떤 열의 인덱스에변환을 할것인지 , 'remainder='는 age, salary처럼 변환이 적용되지 않고 유지되길원하는 값)\n",
        "# transformers=[('변환의 종류', 인코딩을 실행할 클래스의 이름, onehot인코딩 적용할 열의 인덱스[0=Country])]\n",
        "ct = ColumnTransformer(transformers=[('encoder', OneHotEncoder(), [0])], remainder='passthrough')\n",
        "X = np.array(ct.fit_transform(X))"
      ],
      "execution_count": null,
      "outputs": []
    },
    {
      "cell_type": "code",
      "metadata": {
        "id": "f7QspewyeBfx",
        "outputId": "3f070214-11a8-4550-c720-e0bd881ab268",
        "colab": {
          "base_uri": "https://localhost:8080/"
        }
      },
      "source": [
        "print(X)"
      ],
      "execution_count": null,
      "outputs": [
        {
          "output_type": "stream",
          "name": "stdout",
          "text": [
            "[[1.0 0.0 0.0 44.0 72000.0]\n",
            " [0.0 0.0 1.0 27.0 48000.0]\n",
            " [0.0 1.0 0.0 30.0 54000.0]\n",
            " [0.0 0.0 1.0 38.0 61000.0]\n",
            " [0.0 1.0 0.0 40.0 63777.77777777778]\n",
            " [1.0 0.0 0.0 35.0 58000.0]\n",
            " [0.0 0.0 1.0 38.77777777777778 52000.0]\n",
            " [1.0 0.0 0.0 48.0 79000.0]\n",
            " [0.0 1.0 0.0 50.0 83000.0]\n",
            " [1.0 0.0 0.0 37.0 67000.0]]\n"
          ]
        }
      ]
    },
    {
      "cell_type": "markdown",
      "metadata": {
        "id": "DXh8oVSITIc6"
      },
      "source": [
        "### Encoding the Dependent Variable\n",
        "\n",
        "## 종속변수 인코딩\n",
        "> - 0과 1로 \n",
        "- LabelEncoder 이용"
      ]
    },
    {
      "cell_type": "code",
      "metadata": {
        "id": "XgHCShVyTOYY"
      },
      "source": [
        "from sklearn.preprocessing import LabelEncoder\n",
        "le = LabelEncoder()\n",
        "y = le.fit_transform(y)"
      ],
      "execution_count": null,
      "outputs": []
    },
    {
      "cell_type": "code",
      "metadata": {
        "id": "FyhY8-gPpFCa",
        "outputId": "07a37473-97db-46fe-a3e6-caaba3b91592",
        "colab": {
          "base_uri": "https://localhost:8080/"
        }
      },
      "source": [
        "print(y)"
      ],
      "execution_count": null,
      "outputs": [
        {
          "output_type": "stream",
          "name": "stdout",
          "text": [
            "[0 1 0 0 1 1 0 1 0 1]\n"
          ]
        }
      ]
    },
    {
      "cell_type": "markdown",
      "metadata": {
        "id": "qb_vcgm3qZKW"
      },
      "source": [
        "## Splitting the dataset into the Training set and Test set\n",
        "\n",
        "## 훈련세트와 테스트세트 분리"
      ]
    },
    {
      "cell_type": "code",
      "source": [
        "# 데이터 세트를 훈련 , 테스트로 분리후 피처스케일링 \n",
        "# 훈련데이터   : 기존 관측값으로 기계모델을 훈련\n",
        "# 테스트데이터 : 새로운 관측값으로 모델의 성능을 평가.\n",
        "# 새로운 관측값이 미래에 갖게되는 데이터이자 미래 머신러닝 모델에 배치할 데이터."
      ],
      "metadata": {
        "id": "oYacJeBIhZUH"
      },
      "execution_count": null,
      "outputs": []
    },
    {
      "cell_type": "code",
      "metadata": {
        "id": "pXgA6CzlqbCl"
      },
      "source": [
        "from sklearn.model_selection import train_test_split\n",
        "X_train, X_test, y_train, y_test = train_test_split(X, y, test_size = 0.2, random_state = 1)"
      ],
      "execution_count": null,
      "outputs": []
    },
    {
      "cell_type": "code",
      "metadata": {
        "id": "GuwQhFdKrYTM",
        "outputId": "b681dd52-04aa-48bc-d590-f321d2019d7b",
        "colab": {
          "base_uri": "https://localhost:8080/"
        }
      },
      "source": [
        "print(X_train)"
      ],
      "execution_count": null,
      "outputs": [
        {
          "output_type": "stream",
          "name": "stdout",
          "text": [
            "[[0.0 0.0 1.0 38.77777777777778 52000.0]\n",
            " [0.0 1.0 0.0 40.0 63777.77777777778]\n",
            " [1.0 0.0 0.0 44.0 72000.0]\n",
            " [0.0 0.0 1.0 38.0 61000.0]\n",
            " [0.0 0.0 1.0 27.0 48000.0]\n",
            " [1.0 0.0 0.0 48.0 79000.0]\n",
            " [0.0 1.0 0.0 50.0 83000.0]\n",
            " [1.0 0.0 0.0 35.0 58000.0]]\n"
          ]
        }
      ]
    },
    {
      "cell_type": "code",
      "metadata": {
        "id": "TUrX_Tvcrbi4",
        "outputId": "c12f0ee5-bc36-4167-a9bf-247f2f9029e3",
        "colab": {
          "base_uri": "https://localhost:8080/"
        }
      },
      "source": [
        "print(X_test)"
      ],
      "execution_count": null,
      "outputs": [
        {
          "output_type": "stream",
          "name": "stdout",
          "text": [
            "[[0.0 1.0 0.0 30.0 54000.0]\n",
            " [1.0 0.0 0.0 37.0 67000.0]]\n"
          ]
        }
      ]
    },
    {
      "cell_type": "code",
      "metadata": {
        "id": "pSMHiIsWreQY",
        "outputId": "73efc4bd-10ce-4df2-fd1d-4b8389201403",
        "colab": {
          "base_uri": "https://localhost:8080/"
        }
      },
      "source": [
        "print(y_train)"
      ],
      "execution_count": null,
      "outputs": [
        {
          "output_type": "stream",
          "name": "stdout",
          "text": [
            "[0 1 0 0 1 1 0 1]\n"
          ]
        }
      ]
    },
    {
      "cell_type": "code",
      "metadata": {
        "id": "I_tW7H56rgtW",
        "outputId": "b8de1431-a7d0-4639-fb64-eff60049abf1",
        "colab": {
          "base_uri": "https://localhost:8080/"
        }
      },
      "source": [
        "print(y_test)"
      ],
      "execution_count": null,
      "outputs": [
        {
          "output_type": "stream",
          "name": "stdout",
          "text": [
            "[0 1]\n"
          ]
        }
      ]
    },
    {
      "cell_type": "markdown",
      "metadata": {
        "id": "TpGqbS4TqkIR"
      },
      "source": [
        "## Feature Scaling\n",
        "\n",
        "- 모든 특성을 동일한 크기로\n"
      ]
    },
    {
      "cell_type": "code",
      "source": [
        "# 모든 변수나 특징을 스케일링하는 도구\n",
        "# 모든값이 같은 단위가 되게끔 함.\n",
        "# 특징은 다른 하나를 지배해서 머신러닝 모델에 의해 무시되는 일을 막기위함."
      ],
      "metadata": {
        "id": "Rat0wENMh2-v"
      },
      "execution_count": null,
      "outputs": []
    },
    {
      "cell_type": "markdown",
      "source": [
        "### Standardisation '표준화'\n",
        "- 특성의 각 값에서 모든 특성값의 평균을 빼고 변수의 제곱근인 표준 편차로 나눠줌.\n",
        "- 모든 특성의 값을 -3 ~ +3 사이."
      ],
      "metadata": {
        "id": "GUjw9SR3bamF"
      }
    },
    {
      "cell_type": "code",
      "source": [
        "from IPython.display import Image\n",
        "Image('/content/drive/MyDrive/UDEMY/Machine Learning A-Z (Codes and Datasets)/Part 1 - Data Preprocessing/Section 2 -------------------- Part 1 - Data Preprocessing --------------------/Python/111.JPG')"
      ],
      "metadata": {
        "colab": {
          "base_uri": "https://localhost:8080/",
          "height": 262
        },
        "id": "af1Uq1r4b7r_",
        "outputId": "e5ef2ba4-2ff3-40ed-eb1c-5580a0d12c0f"
      },
      "execution_count": null,
      "outputs": [
        {
          "output_type": "execute_result",
          "data": {
            "image/jpeg": "[encoded data removed]",
            "text/plain": [
              "<IPython.core.display.Image object>"
            ]
          },
          "metadata": {},
          "execution_count": 22
        }
      ]
    },
    {
      "cell_type": "markdown",
      "source": [
        "### Normalisation '정규화'\n",
        "- 각 특성값에서 특성의 최소값을 빼고, 특성의 최대값과 최소값의 차로 나눠줌.\n",
        "- 특성의 모든 값 0과 1사이."
      ],
      "metadata": {
        "id": "6EhpxKOacuEp"
      }
    },
    {
      "cell_type": "code",
      "source": [
        "Image('/content/drive/MyDrive/UDEMY/Machine Learning A-Z (Codes and Datasets)/Part 1 - Data Preprocessing/Section 2 -------------------- Part 1 - Data Preprocessing --------------------/Python/222.JPG')"
      ],
      "metadata": {
        "colab": {
          "base_uri": "https://localhost:8080/",
          "height": 260
        },
        "id": "CHVonp1_c0py",
        "outputId": "0454798d-3249-41ff-ddf2-d90a0affd129"
      },
      "execution_count": null,
      "outputs": [
        {
          "output_type": "execute_result",
          "data": {
            "image/jpeg": "[encoded data removed]",
            "text/plain": [
              "<IPython.core.display.Image object>"
            ]
          },
          "metadata": {},
          "execution_count": 23
        }
      ]
    },
    {
      "cell_type": "markdown",
      "source": [
        "### 표준화 vs 정규화\n",
        "- 정규화 : 대부분의 특성에 정규 분포(특정 상황)가 있을 때.\n",
        "- 표준화 : 언제나 작동하는 기법"
      ],
      "metadata": {
        "id": "2quNQwzydkEw"
      }
    },
    {
      "cell_type": "code",
      "metadata": {
        "id": "AxjSUXFQqo-3"
      },
      "source": [
        "# from sklern 클래스 불러오고\n",
        "# .preprocessing 전처리 모듈 불러오고 \n",
        "from sklearn.preprocessing import StandardScaler\n",
        "sc = StandardScaler()\n",
        "\n",
        "# age와 salary 값에 대한 열만 \n",
        "# fit       : 각 특성의 평균과 표준 편차를 구함.\n",
        "# transform : 이 공식을 적용해 모든 값이 같은 크기를 가질 수 있도록 함.\n",
        "X_train[:, 3:] = sc.fit_transform(X_train[:, 3:])\n",
        "# 훈련데이터에서 사용한 스케일러를 가져와야하므로 새로운 스케일러 사용x\n",
        "X_test[:, 3:] = sc.transform(X_test[:, 3:])"
      ],
      "execution_count": null,
      "outputs": []
    },
    {
      "cell_type": "code",
      "metadata": {
        "id": "DWPET8ZdlMnu",
        "outputId": "5b37317c-69a7-4eba-ae2d-985f2eeca5c3",
        "colab": {
          "base_uri": "https://localhost:8080/"
        }
      },
      "source": [
        "print(X_train)"
      ],
      "execution_count": null,
      "outputs": [
        {
          "output_type": "stream",
          "name": "stdout",
          "text": [
            "[[0.0 0.0 1.0 -0.19159184384578545 -1.0781259408412425]\n",
            " [0.0 1.0 0.0 -0.014117293757057777 -0.07013167641635372]\n",
            " [1.0 0.0 0.0 0.566708506533324 0.633562432710455]\n",
            " [0.0 0.0 1.0 -0.30453019390224867 -0.30786617274297867]\n",
            " [0.0 0.0 1.0 -1.9018011447007988 -1.420463615551582]\n",
            " [1.0 0.0 0.0 1.1475343068237058 1.232653363453549]\n",
            " [0.0 1.0 0.0 1.4379472069688968 1.5749910381638885]\n",
            " [1.0 0.0 0.0 -0.7401495441200351 -0.5646194287757332]]\n"
          ]
        }
      ]
    },
    {
      "cell_type": "code",
      "metadata": {
        "id": "sTXykB_QlRjE",
        "outputId": "dee0c4c9-76f0-4464-bded-a9e61ce2ccd0",
        "colab": {
          "base_uri": "https://localhost:8080/"
        }
      },
      "source": [
        "print(X_test)"
      ],
      "execution_count": null,
      "outputs": [
        {
          "output_type": "stream",
          "name": "stdout",
          "text": [
            "[[0.0 1.0 0.0 -1.4661817944830124 -0.9069571034860727]\n",
            " [1.0 0.0 0.0 -0.44973664397484414 0.2056403393225306]]\n"
          ]
        }
      ]
    }
  ]
}
