{
  "cells": [
    {
      "cell_type": "markdown",
      "metadata": {
        "id": "view-in-github",
        "colab_type": "text"
      },
      "source": [
        "<a href=\"https://colab.research.google.com/github/leo-contigo/ML/blob/main/06_%EA%B5%90%EC%B0%A8%EA%B2%80%EC%A6%9D.ipynb\" target=\"_parent\"><img src=\"https://colab.research.google.com/assets/colab-badge.svg\" alt=\"Open In Colab\"/></a>"
      ]
    },
    {
      "cell_type": "code",
      "execution_count": null,
      "id": "37af9871",
      "metadata": {
        "id": "37af9871"
      },
      "outputs": [],
      "source": [
        "import warnings\n",
        "warnings.filterwarnings('ignore')\n",
        "warnings.simplefilter('ignore')\n",
        "\n",
        "from IPython.display import set_matplotlib_formats\n",
        "set_matplotlib_formats(\"retina\")\n",
        "\n",
        "\n",
        "import numpy as np\n",
        "import pandas as pd\n",
        "import os\n",
        "\n",
        "import matplotlib\n",
        "import matplotlib.pyplot as plt\n",
        "import seaborn as sns\n",
        "\n",
        "\n",
        "# 관련 라이브러리 임포트 \n",
        "import matplotlib.font_manager as fm\n",
        "\n",
        "#  한글글꼴로 변경\n",
        "# plt.rcParams['font.family'] = '한글글꼴명'\n",
        "plt.rcParams['font.size'] = 11.0\n",
        "# plt.rcParams['font.family'] = 'batang'\n",
        "plt.rcParams['font.family'] = 'Malgun Gothic'\n",
        "\n",
        "# 그래프에서 마이너스 폰트 깨지는 문제에 대한 대처\n",
        "matplotlib.rcParams['axes.unicode_minus'] = False\n",
        "\n",
        "# 그래프 기본 크기 설정 \n",
        "plt.rcParams['figure.figsize'] = [10, 6]"
      ]
    },
    {
      "cell_type": "markdown",
      "id": "5ef0c16b",
      "metadata": {
        "id": "5ef0c16b"
      },
      "source": [
        "# 교차 검증\n",
        "\n",
        ">- 고정된 학습과 테스트 데이터로 평가를 하다보면 테스트 데이터에만 최적의 성능을 낸다.\n",
        ">- 데이타 편중 및 과적합(Overfitting) 문제점\n",
        ">- K 폴드, Stratified 폴드\n",
        ">- cross_val_score( )"
      ]
    },
    {
      "cell_type": "markdown",
      "id": "8794a026",
      "metadata": {
        "id": "8794a026"
      },
      "source": [
        "## K 폴드 (KFold)\n",
        ">- 가장 보편적으로 사용되는 교차 검증 기법\n",
        ">- 먼저 K개의 데이터 폴드 세트를 만들어서 K번만큼 각 폴드 세트에 학습과 검증 평가를 반복적으로 수행\n",
        "\n",
        ">- 모듈 임포트 \n",
        "    - from sklearn.model_selection import train_test_split, KFold"
      ]
    },
    {
      "cell_type": "code",
      "execution_count": null,
      "id": "c85a5dee",
      "metadata": {
        "id": "c85a5dee"
      },
      "outputs": [],
      "source": [
        "from sklearn.neighbors import KNeighborsClassifier\n",
        "\n",
        "from sklearn.model_selection import train_test_split, KFold, StratifiedKFold\n",
        "from sklearn.metrics import accuracy_score\n",
        "\n",
        "# 토이 데이타셋 \n",
        "from sklearn.datasets import load_iris\n",
        "\n",
        "# 스케일러 관련 모듈 \n",
        "from sklearn.preprocessing import MinMaxScaler, StandardScaler"
      ]
    },
    {
      "cell_type": "code",
      "execution_count": null,
      "id": "198d12b1",
      "metadata": {
        "id": "198d12b1"
      },
      "outputs": [],
      "source": [
        "# 1) 데이타 준비 \n",
        "\n",
        "iris = load_iris()\n",
        "features = iris.data   \n",
        "label = iris.target    "
      ]
    },
    {
      "cell_type": "code",
      "execution_count": null,
      "id": "c2ec5125",
      "metadata": {
        "id": "c2ec5125"
      },
      "outputs": [],
      "source": [
        "# iris"
      ]
    },
    {
      "cell_type": "code",
      "execution_count": null,
      "id": "0c837ad3",
      "metadata": {
        "id": "0c837ad3",
        "outputId": "e7fb2ce7-2288-4e65-e9ca-4e88f18b7bc8"
      },
      "outputs": [
        {
          "data": {
            "text/plain": [
              "KNeighborsClassifier()"
            ]
          },
          "execution_count": 6,
          "metadata": {},
          "output_type": "execute_result"
        }
      ],
      "source": [
        "# 2) 모델 생성\n",
        "\n",
        "model_knn = KNeighborsClassifier()\n",
        "model_knn"
      ]
    },
    {
      "cell_type": "code",
      "execution_count": null,
      "id": "932f30a3",
      "metadata": {
        "id": "932f30a3",
        "outputId": "40bc0e5b-445c-4fb8-989d-ea525b6417ec"
      },
      "outputs": [
        {
          "data": {
            "text/plain": [
              "sklearn.model_selection._split.KFold"
            ]
          },
          "execution_count": 7,
          "metadata": {},
          "output_type": "execute_result"
        }
      ],
      "source": [
        "# 3) kfold 객체 \n",
        "# 횟수 지정 = 몇번 돌릴지 설정 = 5번\n",
        "# KFold( n_splits = 횟수 )\n",
        "\n",
        "kfold = KFold( n_splits=5 )\n",
        "type(kfold)"
      ]
    },
    {
      "cell_type": "code",
      "execution_count": null,
      "id": "2e848e5d",
      "metadata": {
        "id": "2e848e5d",
        "outputId": "9f0da457-3a55-49fc-fc21-eb5a96f6fdea"
      },
      "outputs": [
        {
          "name": "stdout",
          "output_type": "stream",
          "text": [
            " features 의 개수는 ?  150\n",
            " label 의 개수는 ?  150\n"
          ]
        }
      ],
      "source": [
        "print(' features 의 개수는 ? ' , len(features))\n",
        "print(' label 의 개수는 ? ' , len(label))"
      ]
    },
    {
      "cell_type": "code",
      "execution_count": null,
      "id": "751169f7",
      "metadata": {
        "id": "751169f7",
        "outputId": "6da1e24a-66be-441e-f59d-977ec7062107"
      },
      "outputs": [
        {
          "name": "stdout",
          "output_type": "stream",
          "text": [
            "train_index →  [ 30  31  32  33  34  35  36  37  38  39  40  41  42  43  44  45  46  47\n",
            "  48  49  50  51  52  53  54  55  56  57  58  59  60  61  62  63  64  65\n",
            "  66  67  68  69  70  71  72  73  74  75  76  77  78  79  80  81  82  83\n",
            "  84  85  86  87  88  89  90  91  92  93  94  95  96  97  98  99 100 101\n",
            " 102 103 104 105 106 107 108 109 110 111 112 113 114 115 116 117 118 119\n",
            " 120 121 122 123 124 125 126 127 128 129 130 131 132 133 134 135 136 137\n",
            " 138 139 140 141 142 143 144 145 146 147 148 149]\n",
            "test_index →  [ 0  1  2  3  4  5  6  7  8  9 10 11 12 13 14 15 16 17 18 19 20 21 22 23\n",
            " 24 25 26 27 28 29]\n",
            "\n",
            "count :  1\n",
            "train 크기 →  120\n",
            "test  크기 →  30\n",
            "------------------------------\n",
            "------------------------------\n",
            "------------------------------\n",
            "train_index →  [  0   1   2   3   4   5   6   7   8   9  10  11  12  13  14  15  16  17\n",
            "  18  19  20  21  22  23  24  25  26  27  28  29  60  61  62  63  64  65\n",
            "  66  67  68  69  70  71  72  73  74  75  76  77  78  79  80  81  82  83\n",
            "  84  85  86  87  88  89  90  91  92  93  94  95  96  97  98  99 100 101\n",
            " 102 103 104 105 106 107 108 109 110 111 112 113 114 115 116 117 118 119\n",
            " 120 121 122 123 124 125 126 127 128 129 130 131 132 133 134 135 136 137\n",
            " 138 139 140 141 142 143 144 145 146 147 148 149]\n",
            "test_index →  [30 31 32 33 34 35 36 37 38 39 40 41 42 43 44 45 46 47 48 49 50 51 52 53\n",
            " 54 55 56 57 58 59]\n",
            "\n",
            "count :  2\n",
            "train 크기 →  120\n",
            "test  크기 →  30\n",
            "------------------------------\n",
            "------------------------------\n",
            "------------------------------\n",
            "train_index →  [  0   1   2   3   4   5   6   7   8   9  10  11  12  13  14  15  16  17\n",
            "  18  19  20  21  22  23  24  25  26  27  28  29  30  31  32  33  34  35\n",
            "  36  37  38  39  40  41  42  43  44  45  46  47  48  49  50  51  52  53\n",
            "  54  55  56  57  58  59  90  91  92  93  94  95  96  97  98  99 100 101\n",
            " 102 103 104 105 106 107 108 109 110 111 112 113 114 115 116 117 118 119\n",
            " 120 121 122 123 124 125 126 127 128 129 130 131 132 133 134 135 136 137\n",
            " 138 139 140 141 142 143 144 145 146 147 148 149]\n",
            "test_index →  [60 61 62 63 64 65 66 67 68 69 70 71 72 73 74 75 76 77 78 79 80 81 82 83\n",
            " 84 85 86 87 88 89]\n",
            "\n",
            "count :  3\n",
            "train 크기 →  120\n",
            "test  크기 →  30\n",
            "------------------------------\n",
            "------------------------------\n",
            "------------------------------\n",
            "train_index →  [  0   1   2   3   4   5   6   7   8   9  10  11  12  13  14  15  16  17\n",
            "  18  19  20  21  22  23  24  25  26  27  28  29  30  31  32  33  34  35\n",
            "  36  37  38  39  40  41  42  43  44  45  46  47  48  49  50  51  52  53\n",
            "  54  55  56  57  58  59  60  61  62  63  64  65  66  67  68  69  70  71\n",
            "  72  73  74  75  76  77  78  79  80  81  82  83  84  85  86  87  88  89\n",
            " 120 121 122 123 124 125 126 127 128 129 130 131 132 133 134 135 136 137\n",
            " 138 139 140 141 142 143 144 145 146 147 148 149]\n",
            "test_index →  [ 90  91  92  93  94  95  96  97  98  99 100 101 102 103 104 105 106 107\n",
            " 108 109 110 111 112 113 114 115 116 117 118 119]\n",
            "\n",
            "count :  4\n",
            "train 크기 →  120\n",
            "test  크기 →  30\n",
            "------------------------------\n",
            "------------------------------\n",
            "------------------------------\n",
            "train_index →  [  0   1   2   3   4   5   6   7   8   9  10  11  12  13  14  15  16  17\n",
            "  18  19  20  21  22  23  24  25  26  27  28  29  30  31  32  33  34  35\n",
            "  36  37  38  39  40  41  42  43  44  45  46  47  48  49  50  51  52  53\n",
            "  54  55  56  57  58  59  60  61  62  63  64  65  66  67  68  69  70  71\n",
            "  72  73  74  75  76  77  78  79  80  81  82  83  84  85  86  87  88  89\n",
            "  90  91  92  93  94  95  96  97  98  99 100 101 102 103 104 105 106 107\n",
            " 108 109 110 111 112 113 114 115 116 117 118 119]\n",
            "test_index →  [120 121 122 123 124 125 126 127 128 129 130 131 132 133 134 135 136 137\n",
            " 138 139 140 141 142 143 144 145 146 147 148 149]\n",
            "\n",
            "count :  5\n",
            "train 크기 →  120\n",
            "test  크기 →  30\n",
            "------------------------------\n",
            "------------------------------\n",
            "------------------------------\n",
            "[1.0, 1.0, 0.8333333333333334, 0.9333333333333333, 0.8] 평균은 ?  0.9133333333333333\n"
          ]
        }
      ],
      "source": [
        "# 4) 교차검증 실행 테스트 1\n",
        "# 교차 검증시 평가점수 저장 리스트 생성\n",
        "\n",
        "cv_accuracy = []\n",
        "\n",
        "# 카운팅 횟수 초기화\n",
        "n_iter = 0\n",
        "\n",
        "for train_index, test_index in kfold.split( features ):\n",
        "    print('train_index → ' , train_index)\n",
        "    print('test_index → ' , test_index)\n",
        "    \n",
        "    n_iter += 1\n",
        "    print()\n",
        "    print('count : ', n_iter)\n",
        "    print('train 크기 → ', len(train_index))\n",
        "    print('test  크기 → ', len(test_index))\n",
        "    print('-'*30)\n",
        "    print('-'*30)\n",
        "    print('-'*30)\n",
        "    \n",
        "# ↑ 학습 전 실행 테스트\n",
        "\n",
        "# 학습용 데이터, 테스트용 데이터로 변환\n",
        "\n",
        "    X_train, X_test = features[train_index], features[test_index]\n",
        "    y_train, y_test = label[train_index], label[test_index]\n",
        "\n",
        "# print(y_train)\n",
        "# print()\n",
        "# print(y_test)\n",
        "\n",
        "\n",
        "# 학습\n",
        "    model_knn.fit(X_train, y_train)\n",
        "    pred = model_knn.predict(X_test)\n",
        "    cv_accuracy.append(accuracy_score(y_test, pred))\n",
        "\n",
        "\n",
        "# 평가점수 리스트 출력\n",
        "\n",
        "print (cv_accuracy, '평균은 ? ' , np.mean(cv_accuracy))"
      ]
    },
    {
      "cell_type": "raw",
      "id": "4ccabd5d",
      "metadata": {
        "id": "4ccabd5d"
      },
      "source": [
        "# 주요 함수\n",
        "\n",
        "kfold.split( 입력 데이터 전체 )\n",
        "→ 학습용 데이터인덱스 ( train_index ), 테스트용 데이터 인덱스 ( test_index )"
      ]
    },
    {
      "cell_type": "code",
      "execution_count": null,
      "id": "80129e99",
      "metadata": {
        "id": "80129e99",
        "outputId": "725cc6ae-d239-4cd9-cb8a-a8fce8ee5908"
      },
      "outputs": [
        {
          "data": {
            "text/plain": [
              "array([0, 0, 0, 0, 0, 0, 0, 0, 0, 0, 0, 0, 0, 0, 0, 0, 0, 0, 0, 0, 0, 0,\n",
              "       0, 0, 0, 0, 0, 0, 0, 0, 0, 0, 0, 0, 0, 0, 0, 0, 0, 0, 0, 0, 0, 0,\n",
              "       0, 0, 0, 0, 0, 0, 1, 1, 1, 1, 1, 1, 1, 1, 1, 1, 1, 1, 1, 1, 1, 1,\n",
              "       1, 1, 1, 1, 1, 1, 1, 1, 1, 1, 1, 1, 1, 1, 1, 1, 1, 1, 1, 1, 1, 1,\n",
              "       1, 1, 1, 1, 1, 1, 1, 1, 1, 1, 1, 1, 2, 2, 2, 2, 2, 2, 2, 2, 2, 2,\n",
              "       2, 2, 2, 2, 2, 2, 2, 2, 2, 2])"
            ]
          },
          "execution_count": 11,
          "metadata": {},
          "output_type": "execute_result"
        }
      ],
      "source": [
        "y_train"
      ]
    },
    {
      "cell_type": "code",
      "execution_count": null,
      "id": "eb030402",
      "metadata": {
        "id": "eb030402",
        "outputId": "19006726-0995-4832-a504-6c3a4dfbf1fd"
      },
      "outputs": [
        {
          "name": "stdout",
          "output_type": "stream",
          "text": [
            "값 →  [0 1 2] 값 분포 →  [50 50 20]\n"
          ]
        }
      ],
      "source": [
        "unique, counts = np.unique(y_train, return_counts=True)\n",
        "print('값 → ' , unique, '값 분포 → ', counts)"
      ]
    },
    {
      "cell_type": "code",
      "execution_count": null,
      "id": "78894323",
      "metadata": {
        "id": "78894323",
        "outputId": "9fecedd4-4ffd-42f3-8667-85ce819f89f7"
      },
      "outputs": [
        {
          "name": "stdout",
          "output_type": "stream",
          "text": [
            "\n",
            "count :  1\n",
            "train 크기 →  120\n",
            "test  크기 →  30\n",
            "==============================\n",
            "학습용 라벨\n",
            "값 →  [0 1 2] 값 분포 →  [20 50 50]\n",
            "--------------------------------------------------\n",
            "테스트용 라벨\n",
            "값 →  [0] 값 분포 →  [30]\n",
            "==============================\n",
            "\n",
            "count :  2\n",
            "train 크기 →  120\n",
            "test  크기 →  30\n",
            "==============================\n",
            "학습용 라벨\n",
            "값 →  [0 1 2] 값 분포 →  [30 40 50]\n",
            "--------------------------------------------------\n",
            "테스트용 라벨\n",
            "값 →  [0 1] 값 분포 →  [20 10]\n",
            "==============================\n",
            "\n",
            "count :  3\n",
            "train 크기 →  120\n",
            "test  크기 →  30\n",
            "==============================\n",
            "학습용 라벨\n",
            "값 →  [0 1 2] 값 분포 →  [50 20 50]\n",
            "--------------------------------------------------\n",
            "테스트용 라벨\n",
            "값 →  [1] 값 분포 →  [30]\n",
            "==============================\n",
            "\n",
            "count :  4\n",
            "train 크기 →  120\n",
            "test  크기 →  30\n",
            "==============================\n",
            "학습용 라벨\n",
            "값 →  [0 1 2] 값 분포 →  [50 40 30]\n",
            "--------------------------------------------------\n",
            "테스트용 라벨\n",
            "값 →  [1 2] 값 분포 →  [10 20]\n",
            "==============================\n",
            "\n",
            "count :  5\n",
            "train 크기 →  120\n",
            "test  크기 →  30\n",
            "==============================\n",
            "학습용 라벨\n",
            "값 →  [0 1 2] 값 분포 →  [50 50 20]\n",
            "--------------------------------------------------\n",
            "테스트용 라벨\n",
            "값 →  [2] 값 분포 →  [30]\n",
            "==============================\n",
            "[1.0, 1.0, 0.8333333333333334, 0.9333333333333333, 0.8] 평균은 ?  0.9133333333333333\n"
          ]
        }
      ],
      "source": [
        "# 5) 교차검증 실행 테스트 2 - 답지의 분포 확인\n",
        "\n",
        "# 넘파이 unique 사용\n",
        "\n",
        "# 교차 검증시 평가점수 저장 리스트 생성\n",
        "\n",
        "cv_accuracy = []\n",
        "\n",
        "# 카운팅 횟수 초기화\n",
        "n_iter = 0\n",
        "\n",
        "for train_index, test_index in kfold.split( features ):\n",
        "#     print( 'train_inde → ' , train_index)\n",
        "#     print('test_index → ' , test_index)\n",
        "    \n",
        "    n_iter += 1\n",
        "    print()\n",
        "    print('count : ', n_iter)\n",
        "    print('train 크기 → ', len(train_index))\n",
        "    print('test  크기 → ', len(test_index))\n",
        "\n",
        "    \n",
        "# ↑ 학습 전 실행 테스트\n",
        "\n",
        "# 학습용 데이터, 테스트용 데이터로 변환\n",
        "\n",
        "    X_train, X_test = features[train_index], features[test_index]\n",
        "    y_train, y_test =  label[train_index], label[test_index]\n",
        "\n",
        "# print(y_train)\n",
        "# print()\n",
        "# print(y_test)\n",
        "\n",
        "\n",
        "    # 학습\n",
        "    model_knn.fit(X_train, y_train)\n",
        "    pred = model_knn.predict(X_test)\n",
        "    cv_accuracy.append(accuracy_score(y_test, pred))\n",
        "    \n",
        "    print('='*30)\n",
        "    print('학습용 라벨')\n",
        "    unique, counts = np.unique(y_train, return_counts=True)\n",
        "    print('값 → ', unique,  '값 분포 → ', counts)\n",
        "    print('-'*50)\n",
        "    print('테스트용 라벨')\n",
        "    unique, counts = np.unique(y_test, return_counts=True)\n",
        "    print('값 → ', unique,  '값 분포 → ', counts)\n",
        "    print('='*30)\n",
        "    \n",
        "    \n",
        "# 평가점수 리스트 출력\n",
        "print (cv_accuracy, '평균은 ? ' , np.mean(cv_accuracy))"
      ]
    },
    {
      "cell_type": "markdown",
      "id": "018b9776",
      "metadata": {
        "id": "018b9776"
      },
      "source": [
        "----------------------------------------------------"
      ]
    },
    {
      "cell_type": "markdown",
      "id": "8c4d89b4",
      "metadata": {
        "id": "8c4d89b4"
      },
      "source": [
        "## Stratified K 폴드\n",
        "\n",
        ">- 데이타의 분포도가 유사해야한다는 kFold의 특징을 보완\n",
        ">- 불균형한 분포도를 가진 레이블 데이타 집합을 위한 k폴드 방식\n",
        ">- 불균형한 분포도를 가진 레이블 데이터 집합은 특정 레이블 값이 특이하게 많거나 매우 적어서 레이블의 값의 분포가 한쪽으로 치우친다.\n",
        "    - 예) 대출사기 데이타. 대출사기 레이블이 전체의 0.0001% 에 밖에 해당하지 못한다.\n",
        "    - 분류 모델에는 적합하나 회기에서는 연속된 숫자값이기 때문에 적합하지 못하다.\n",
        "    \n",
        " >- 모듈 임포트 \n",
        "     - from sklearn.model_selection import train_test_split, KFold, StratifiedKFold"
      ]
    },
    {
      "cell_type": "markdown",
      "id": "9c304484",
      "metadata": {
        "id": "9c304484"
      },
      "source": [
        "### StratifiedKFold 왜 씀?  → 레벨의 분포를 고르게 함."
      ]
    },
    {
      "cell_type": "code",
      "execution_count": null,
      "id": "220084ae",
      "metadata": {
        "id": "220084ae"
      },
      "outputs": [],
      "source": [
        "# 1) 데이타 준비 \n",
        "\n",
        "iris = load_iris()\n",
        "# X\n",
        "features = iris.data\n",
        "# y\n",
        "label = iris.target"
      ]
    },
    {
      "cell_type": "code",
      "execution_count": null,
      "id": "b3c00227",
      "metadata": {
        "id": "b3c00227",
        "outputId": "5236ea4b-0b4b-4a1c-a781-892ecbf59b06"
      },
      "outputs": [
        {
          "data": {
            "text/plain": [
              "KNeighborsClassifier()"
            ]
          },
          "execution_count": 15,
          "metadata": {},
          "output_type": "execute_result"
        }
      ],
      "source": [
        "# 2) 모델 생성 \n",
        "\n",
        "model_knn = KNeighborsClassifier()\n",
        "model_knn"
      ]
    },
    {
      "cell_type": "code",
      "execution_count": null,
      "id": "167e4d03",
      "metadata": {
        "id": "167e4d03",
        "outputId": "5898402c-9d72-400d-a7a0-54db38dfec91"
      },
      "outputs": [
        {
          "data": {
            "text/plain": [
              "sklearn.model_selection._split.StratifiedKFold"
            ]
          },
          "execution_count": 16,
          "metadata": {},
          "output_type": "execute_result"
        }
      ],
      "source": [
        "# 3) kfold 객체 생성\n",
        "# 교차 검증 횟수 지정 5번 \n",
        "\n",
        "stk = StratifiedKFold(n_splits= 5)\n",
        "type(stk)"
      ]
    },
    {
      "cell_type": "code",
      "execution_count": null,
      "id": "ebbd2ea0",
      "metadata": {
        "id": "ebbd2ea0",
        "outputId": "0b309918-267f-4c89-b3c7-f4b79f8f5b04"
      },
      "outputs": [
        {
          "name": "stdout",
          "output_type": "stream",
          "text": [
            "\n",
            "count :  1\n",
            "train 크기 →  120\n",
            "test 크기 →  30\n",
            "학습용 라벨\n",
            "값 →  [0 1 2] 값 분포 →  [40 40 40]\n",
            "--------------------------------------------------\n",
            "테스트용 라벨\n",
            "값 →  [0 1 2] 값 분포 →  [10 10 10]\n",
            "==============================\n",
            "\n",
            "\n",
            "count :  2\n",
            "train 크기 →  120\n",
            "test 크기 →  30\n",
            "학습용 라벨\n",
            "값 →  [0 1 2] 값 분포 →  [40 40 40]\n",
            "--------------------------------------------------\n",
            "테스트용 라벨\n",
            "값 →  [0 1 2] 값 분포 →  [10 10 10]\n",
            "==============================\n",
            "\n",
            "\n",
            "count :  3\n",
            "train 크기 →  120\n",
            "test 크기 →  30\n",
            "학습용 라벨\n",
            "값 →  [0 1 2] 값 분포 →  [40 40 40]\n",
            "--------------------------------------------------\n",
            "테스트용 라벨\n",
            "값 →  [0 1 2] 값 분포 →  [10 10 10]\n",
            "==============================\n",
            "\n",
            "\n",
            "count :  4\n",
            "train 크기 →  120\n",
            "test 크기 →  30\n",
            "학습용 라벨\n",
            "값 →  [0 1 2] 값 분포 →  [40 40 40]\n",
            "--------------------------------------------------\n",
            "테스트용 라벨\n",
            "값 →  [0 1 2] 값 분포 →  [10 10 10]\n",
            "==============================\n",
            "\n",
            "\n",
            "count :  5\n",
            "train 크기 →  120\n",
            "test 크기 →  30\n",
            "학습용 라벨\n",
            "값 →  [0 1 2] 값 분포 →  [40 40 40]\n",
            "--------------------------------------------------\n",
            "테스트용 라벨\n",
            "값 →  [0 1 2] 값 분포 →  [10 10 10]\n",
            "==============================\n",
            "\n",
            "[0.9666666666666667, 1.0, 0.9333333333333333, 0.9666666666666667, 1.0] 평균은 ?  0.9733333333333334\n"
          ]
        }
      ],
      "source": [
        "# 4) 교차검증 실행 테스트 - 답지의 분포 확인\n",
        "\n",
        "# 교차 검증시 평가점수 저장 리스트 생성\n",
        "cv_accuracy = []\n",
        "\n",
        "# 카운팅 횟수 초기화\n",
        "n_iter = 0\n",
        "\n",
        "for train_index, test_index in stk.split(features, label):\n",
        "    n_iter += 1\n",
        "    print()\n",
        "    print('count : ', n_iter)\n",
        "    print('train 크기 → ', len(train_index))\n",
        "    print('test 크기 → ', len(test_index))\n",
        "\n",
        "\n",
        "    # 학습용 데이터, 테스트용 데이터로 변환\n",
        "    X_train, X_test = features[train_index], features[test_index]\n",
        "    y_train, y_test =  label[train_index], label[test_index]\n",
        "    \n",
        "    # 학습\n",
        "    model_knn.fit(X_train, y_train)\n",
        "    pred = model_knn.predict(X_test)\n",
        "    cv_accuracy.append(accuracy_score(y_test, pred))\n",
        "    \n",
        "    print('학습용 라벨')\n",
        "    unique, counts = np.unique(y_train, return_counts=True)\n",
        "    print('값 → ', unique,  '값 분포 → ', counts)\n",
        "    print('-'*50)\n",
        "    print('테스트용 라벨')\n",
        "    unique, counts = np.unique(y_test, return_counts=True)\n",
        "    print('값 → ', unique,  '값 분포 → ', counts)\n",
        "    print('='*30)    \n",
        "    print()\n",
        "    \n",
        "# 평가점수 리스트 출력\n",
        "print (cv_accuracy, '평균은 ? ' , np.mean(cv_accuracy))"
      ]
    },
    {
      "cell_type": "code",
      "execution_count": null,
      "id": "15c7f6a8",
      "metadata": {
        "id": "15c7f6a8"
      },
      "outputs": [],
      "source": [
        "stk.split?"
      ]
    },
    {
      "cell_type": "markdown",
      "id": "9dceb9e8",
      "metadata": {
        "id": "9dceb9e8"
      },
      "source": [
        "-----------------------------------------------------------------------"
      ]
    },
    {
      "cell_type": "markdown",
      "id": "cd012113",
      "metadata": {
        "id": "cd012113"
      },
      "source": [
        "## 교차검증 평가 지표 cross_val_score( )\n",
        "\n",
        ">- 사이킷런에서 제공하는 교차 검증을 편리하게 수행할 수 있게 도와주는 API\n",
        ">- cross_val_score(모델 , X_data , y , scoring='accuracy',  cv=폴더갯수)\n",
        "\n",
        ">- 모듈 임포트 \n",
        "     - from sklearn.model_selection import cross_val_score "
      ]
    },
    {
      "cell_type": "raw",
      "id": "c8da3734",
      "metadata": {
        "id": "c8da3734"
      },
      "source": [
        "for 의 쉬운버젼???????\n",
        "앞부분 이해해야함 "
      ]
    },
    {
      "cell_type": "code",
      "execution_count": null,
      "id": "12d2d2b3",
      "metadata": {
        "id": "12d2d2b3"
      },
      "outputs": [],
      "source": [
        "# 모듈 임포트 \n",
        "\n",
        "from sklearn.model_selection import cross_val_score "
      ]
    },
    {
      "cell_type": "code",
      "execution_count": null,
      "id": "50ee9884",
      "metadata": {
        "id": "50ee9884"
      },
      "outputs": [],
      "source": [
        "# 1) 데이타 준비 \n",
        "\n",
        "iris = load_iris()\n",
        "features = iris.data\n",
        "label = iris.target"
      ]
    },
    {
      "cell_type": "code",
      "execution_count": null,
      "id": "54170dec",
      "metadata": {
        "id": "54170dec",
        "outputId": "734585c2-8bd4-4307-cc03-f44a79200f9c"
      },
      "outputs": [
        {
          "data": {
            "text/plain": [
              "KNeighborsClassifier()"
            ]
          },
          "execution_count": 21,
          "metadata": {},
          "output_type": "execute_result"
        }
      ],
      "source": [
        "# 2) 모델 생성 \n",
        "model_knn = KNeighborsClassifier()\n",
        "model_knn"
      ]
    },
    {
      "cell_type": "code",
      "execution_count": null,
      "id": "435935c3",
      "metadata": {
        "id": "435935c3",
        "outputId": "ee30a239-928c-4be7-b777-73b92f06fe06"
      },
      "outputs": [
        {
          "name": "stdout",
          "output_type": "stream",
          "text": [
            "[0.96666667 1.         0.93333333 0.96666667 1.        ]\n"
          ]
        }
      ],
      "source": [
        "# 3) 교차 검증 실행\n",
        "# cross_val_score(모델 , X_data , y , scoring='accuracy', cv=폴더갯수)\n",
        "\n",
        "score = cross_val_score(model_knn, features, label,\n",
        "               scoring='accuracy', cv=5)\n",
        "\n",
        "# StratifiedKFold() 교차검증의 정확도 점수 리스트와 거의 동일 \n",
        "\n",
        "print(score)"
      ]
    },
    {
      "cell_type": "code",
      "execution_count": null,
      "id": "0f8c1f0f",
      "metadata": {
        "id": "0f8c1f0f"
      },
      "outputs": [],
      "source": [
        "cross_val_score?"
      ]
    },
    {
      "cell_type": "raw",
      "id": "a09a623b",
      "metadata": {
        "id": "a09a623b"
      },
      "source": [
        "Signature:\n",
        "cross_val_score(\n",
        "    estimator,\n",
        "    X,\n",
        "    y=None,                  # 입력해도 되고 안해도 되고\n",
        "    *,\n",
        "    groups=None,\n",
        "    scoring=None,            # 평가도구를 무엇을 쓸것인가?\n",
        "    cv=None,                 # 하단에 기본 값 5 설정되어 있음\n",
        "    n_jobs=None,\n",
        "    verbose=0,\n",
        "    fit_params=None,\n",
        "    pre_dispatch='2*n_jobs',\n",
        "    error_score=nan,\n",
        ")"
      ]
    },
    {
      "cell_type": "markdown",
      "id": "c9667f7c",
      "metadata": {
        "id": "c9667f7c"
      },
      "source": [
        "# 퀴즈 \n",
        "```\n",
        "'titanic_book.csv' 타이타닉 데이타셋을 전처리 후\n",
        "cross_val_score() 메서드를 이용하여 교차 검증한 후\n",
        "평균 정확도를 구하여라. 모델의 알고리즘은 임의선정, cv는 5\n",
        "```\n",
        "- cross_val_score(model_kn, X_titanic_df , y_titanic_df , cv=5)"
      ]
    },
    {
      "cell_type": "code",
      "execution_count": null,
      "id": "86468934",
      "metadata": {
        "id": "86468934"
      },
      "outputs": [],
      "source": [
        "from sklearn.preprocessing import LabelEncoder\n",
        "from sklearn.ensemble import RandomForestClassifier\n",
        "\n",
        "\n",
        "titanic_df = pd.read_csv('data/titanic_book.csv')\n",
        "\n",
        "\n",
        "titanic_df['Age'].fillna(titanic_df['Age'].mean(),inplace=True)\n",
        "titanic_df['Cabin'].fillna('N', inplace=True)\n",
        "titanic_df['Embarked'].fillna('S', inplace=True)\n",
        "\n",
        "\n",
        "encoder = LabelEncoder()\n",
        "encoder.fit(titanic_df['Sex'])\n",
        "temp = encoder.transform(titanic_df['Sex'])\n",
        "titanic_df['Sex'] = temp.reshape(-1, 1)\n",
        "\n",
        "encoder.fit(titanic_df['Embarked'])\n",
        "temp = encoder.transform(titanic_df['Embarked'])\n",
        "titanic_df['Embarked'] = temp.reshape(-1, 1)\n",
        "\n",
        "titanic_df['Cabin'] = titanic_df['Cabin'].str[:1]\n",
        "encoder.fit(titanic_df['Cabin'])\n",
        "temp = encoder.transform(titanic_df['Cabin'])\n",
        "titanic_df['Cabin'] = temp.reshape(-1, 1)\n",
        "\n",
        "\n",
        "titanic_df.drop(['PassengerId','Name','Ticket'], axis=1, inplace=True)"
      ]
    },
    {
      "cell_type": "code",
      "execution_count": null,
      "id": "0c6e658a",
      "metadata": {
        "id": "0c6e658a",
        "outputId": "55a53f31-3579-4261-aed5-772fa3098c61"
      },
      "outputs": [
        {
          "data": {
            "text/plain": [
              "array([0.79329609, 0.79213483, 0.85393258, 0.76404494, 0.87078652])"
            ]
          },
          "execution_count": 24,
          "metadata": {},
          "output_type": "execute_result"
        }
      ],
      "source": [
        "X_titanic_df = titanic_df.loc[:, 'Pclass':]\n",
        "y_titanic_df = titanic_df['Survived']\n",
        "\n",
        "# model_kn = KNeighborsClassifier()\n",
        "# model_lr = LogisticRegression()\n",
        "# model_dt = DecisionTreeClassifier(random_state=11)\n",
        "model_rf = RandomForestClassifier(random_state=11)\n",
        "\n",
        "scores = cross_val_score(model_rf, X_titanic_df , y_titanic_df , cv=5)\n",
        "scores"
      ]
    },
    {
      "cell_type": "code",
      "execution_count": null,
      "id": "0696a892",
      "metadata": {
        "id": "0696a892",
        "outputId": "b57f6d2f-0692-46a3-ac57-e47806151961"
      },
      "outputs": [
        {
          "data": {
            "text/plain": [
              "(<enumerate at 0x18fd7be44c0>,\n",
              " [(0, 0.7932960893854749),\n",
              "  (1, 0.7921348314606742),\n",
              "  (2, 0.8539325842696629),\n",
              "  (3, 0.7640449438202247),\n",
              "  (4, 0.8707865168539326)])"
            ]
          },
          "execution_count": 25,
          "metadata": {},
          "output_type": "execute_result"
        }
      ],
      "source": [
        "# 리스트안의 튜플(인덱스값, 정확도값)\n",
        "enumerate(scores), list(enumerate(scores))"
      ]
    },
    {
      "cell_type": "code",
      "execution_count": null,
      "id": "b0a6ce31",
      "metadata": {
        "id": "b0a6ce31",
        "outputId": "a2aa5445-a7e8-4c02-b32d-a17d8105c220"
      },
      "outputs": [
        {
          "name": "stdout",
          "output_type": "stream",
          "text": [
            "교차 검증 0 정확도: 0.7933\n",
            "교차 검증 1 정확도: 0.7921\n",
            "교차 검증 2 정확도: 0.8539\n",
            "교차 검증 3 정확도: 0.7640\n",
            "교차 검증 4 정확도: 0.8708\n",
            "\n",
            "평균 정확도: 0.8148\n"
          ]
        }
      ],
      "source": [
        "for iter_count, accuracy in enumerate(scores):\n",
        "    print(f'교차 검증 {iter_count} 정확도: {accuracy:.4f}')\n",
        "\n",
        "print(f'\\n평균 정확도: {np.mean(scores):.4f}')"
      ]
    }
  ],
  "metadata": {
    "kernelspec": {
      "display_name": "Python 3 (ipykernel)",
      "language": "python",
      "name": "python3"
    },
    "language_info": {
      "codemirror_mode": {
        "name": "ipython",
        "version": 3
      },
      "file_extension": ".py",
      "mimetype": "text/x-python",
      "name": "python",
      "nbconvert_exporter": "python",
      "pygments_lexer": "ipython3",
      "version": "3.9.12"
    },
    "colab": {
      "provenance": [],
      "include_colab_link": true
    }
  },
  "nbformat": 4,
  "nbformat_minor": 5
}